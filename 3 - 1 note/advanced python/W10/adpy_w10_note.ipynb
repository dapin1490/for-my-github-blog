{
 "cells": [
  {
   "cell_type": "markdown",
   "id": "bfd32f6e",
   "metadata": {
    "papermill": {
     "duration": 0.014291,
     "end_time": "2022-05-06T11:25:02.992823",
     "exception": false,
     "start_time": "2022-05-06T11:25:02.978532",
     "status": "completed"
    },
    "tags": []
   },
   "source": [
    "## 고급 파이썬 10주\n",
    "---"
   ]
  },
  {
   "cell_type": "markdown",
   "id": "a5e5e4ac",
   "metadata": {
    "papermill": {
     "duration": 0.012668,
     "end_time": "2022-05-06T11:25:03.020007",
     "exception": false,
     "start_time": "2022-05-06T11:25:03.007339",
     "status": "completed"
    },
    "tags": []
   },
   "source": [
    "## NumPy란?\n",
    "---\n",
    "### NumPy (NUMeric Python)\n",
    "- 수학 및 과학 계산용 라이브러리   \n",
    "- 배열을 포함한 벡터, 행렬 등의 연산에 최적화됨   \n",
    "- 수치해석 및 통계 관련 기능을 구현할 때 기본이 되는 모듈   \n",
    "   \n",
    "   \n",
    "### NumPy 제공 기능\n",
    "- 강력한 N-차원 배열\n",
    "- 정교한 브로드캐스팅 함수\n",
    "- C/C++ 및 포트란 코드 통합 도구\n",
    "- 유용한 선형 대수학, 푸리에 변환 및 난수 기능\n",
    "- 다양한 데이터 처리에 대하여 원활하고 신속히 통합 가능한 다차원 컨테이너   \n",
    "   \n",
    "   \n",
    "### NumPy 배열과 Standard Python sequences(예: string, list, tuple 등)의 차이\n",
    "- NumPy배열은 고정된 크기를 가지지만 Python list는 동적으로 변한다.\n",
    "    - 크기를 바꿀 때 새로운 배열을 만들고 원본은 지운다.\n",
    "- NumPy 배열의 원소는 모두 같은 타입이어야 한다. \n",
    "- NumPy 배열은 더 많은 data를 처리하는 것에 더 나은 성능을 가지고 있다."
   ]
  },
  {
   "cell_type": "markdown",
   "id": "cb436fd7",
   "metadata": {
    "papermill": {
     "duration": 0.013137,
     "end_time": "2022-05-06T11:25:03.046795",
     "exception": false,
     "start_time": "2022-05-06T11:25:03.033658",
     "status": "completed"
    },
    "tags": []
   },
   "source": [
    "## Numpy의 빠른 연산 속도 (1)\n",
    "---\n",
    "### Vectorization : 명시적 루핑, 인덱싱 등이 없는 것\n",
    "- Scalar register 대신 Vector register를 이용하여 수치 연산이 더 빠름\n",
    "- Vectorized 코드는 더 간결하고 읽기에 좋음\n",
    "- 더 적은 양의 코드를 사용하기 때문에 버그를 줄일 수 있음\n",
    "- 수학적 notation과 유사하게 코딩함\n",
    "- 더욱 “Pythonic”한 코드"
   ]
  },
  {
   "cell_type": "code",
   "execution_count": 1,
   "id": "3e5ae648",
   "metadata": {
    "_cell_guid": "b1076dfc-b9ad-4769-8c92-a6c4dae69d19",
    "_uuid": "8f2839f25d086af736a60e9eeb907d3b93b6e0e5",
    "execution": {
     "iopub.execute_input": "2022-05-06T11:25:03.077020Z",
     "iopub.status.busy": "2022-05-06T11:25:03.076436Z",
     "iopub.status.idle": "2022-05-06T11:25:03.992010Z",
     "shell.execute_reply": "2022-05-06T11:25:03.990822Z"
    },
    "papermill": {
     "duration": 0.93394,
     "end_time": "2022-05-06T11:25:03.995259",
     "exception": false,
     "start_time": "2022-05-06T11:25:03.061319",
     "status": "completed"
    },
    "tags": []
   },
   "outputs": [
    {
     "name": "stdout",
     "output_type": "stream",
     "text": [
      "Vectorized : 0.00104522705078125 ms\n",
      "Loop : 0.8708643913269043 ms\n",
      "vectorizing is 833.182 times faster than loop\n"
     ]
    }
   ],
   "source": [
    "import numpy as np\n",
    "import time\n",
    "\n",
    "a = np.random.rand(1000000)  # 길이가 1000000인 벡터 생성\n",
    "b = np.random.rand(1000000)\n",
    "\n",
    "tic = time.time()\n",
    "c = np.dot(a, b)  # inner product 내적 : 벡터에서 같은 인덱스의 원소끼리 곱해 모두 더함\n",
    "toc = time.time()\n",
    "vec_time = toc - tic\n",
    "\n",
    "print(\"Vectorized : \" + str(vec_time) + \" ms\")\n",
    "# print(\"c =\", c)\n",
    "\n",
    "d = 0\n",
    "\n",
    "tic = time.time()\n",
    "for i in range(1000000):\n",
    "    d += a[i] * b[i]\n",
    "toc = time.time()\n",
    "v_loop_time = toc - tic\n",
    "\n",
    "print(\"Loop : \" + str(v_loop_time) + \" ms\")\n",
    "\n",
    "if vec_time < v_loop_time:\n",
    "    print(\"vectorizing is {:.3f} times faster than loop\".format(v_loop_time / vec_time))\n",
    "else:\n",
    "    print(\"loop is {:.3f} times faster than vectorizing\".format(vec_time / v_loop_time))"
   ]
  },
  {
   "cell_type": "markdown",
   "id": "6e12d989",
   "metadata": {
    "papermill": {
     "duration": 0.015517,
     "end_time": "2022-05-06T11:25:04.026311",
     "exception": false,
     "start_time": "2022-05-06T11:25:04.010794",
     "status": "completed"
    },
    "tags": []
   },
   "source": [
    "## Numpy의 빠른 연산 속도 (2)\n",
    "---\n",
    "- 브로드캐스팅: 사이즈가 다른 두 행렬을 연산할 때, 작은 행렬을 큰 행렬의 모양에 맞게 늘려주는 것"
   ]
  },
  {
   "cell_type": "code",
   "execution_count": 2,
   "id": "e3b318b2",
   "metadata": {
    "execution": {
     "iopub.execute_input": "2022-05-06T11:25:04.058520Z",
     "iopub.status.busy": "2022-05-06T11:25:04.058225Z",
     "iopub.status.idle": "2022-05-06T11:25:05.122142Z",
     "shell.execute_reply": "2022-05-06T11:25:05.121272Z"
    },
    "papermill": {
     "duration": 1.083184,
     "end_time": "2022-05-06T11:25:05.124480",
     "exception": false,
     "start_time": "2022-05-06T11:25:04.041296",
     "status": "completed"
    },
    "tags": []
   },
   "outputs": [
    {
     "name": "stdout",
     "output_type": "stream",
     "text": [
      "Broadcasting : 0.005013227462768555 ms\n",
      "Loop : 1.0418894290924072 ms\n",
      "broadcasting is 207.828 times faster than loop\n"
     ]
    }
   ],
   "source": [
    "import numpy as np\n",
    "import time\n",
    "\n",
    "a = np.ones((1000, 1000))\n",
    "\n",
    "tic = time.time()\n",
    "a = a * 5\n",
    "toc = time.time()\n",
    "brcast_time = toc - tic\n",
    "\n",
    "print(\"Broadcasting : \" + str(brcast_time) + \" ms\")\n",
    "\n",
    "a = np.ones((1000,1000))\n",
    "\n",
    "tic = time.time()\n",
    "for i in range(a.shape[0]):\n",
    "    for j in range(a.shape[1]):\n",
    "        a[i,j] = a[i,j]*5\n",
    "toc = time.time()\n",
    "br_loop_time = toc - tic\n",
    "\n",
    "print(\"Loop : \" + str(br_loop_time) + \" ms\")\n",
    "\n",
    "if brcast_time < br_loop_time:\n",
    "    print(\"broadcasting is {:.3f} times faster than loop\".format(br_loop_time / brcast_time))\n",
    "else:\n",
    "    print(\"loop is {:.3f} times faster than broadcasting\".format(brcast_time / br_loop_time))"
   ]
  },
  {
   "cell_type": "markdown",
   "id": "b0d377db",
   "metadata": {
    "papermill": {
     "duration": 0.014814,
     "end_time": "2022-05-06T11:25:05.153760",
     "exception": false,
     "start_time": "2022-05-06T11:25:05.138946",
     "status": "completed"
    },
    "tags": []
   },
   "source": [
    "## N-차원 배열 (1)\n",
    "---\n",
    "### N-차원 배열 생성 (np.array), 원소 호출\n",
    "- `np.array(리스트)`  # 하나의 리스트만 들어감\n",
    "   \n",
    "#### 3차원 이상 배열의 원소 호출\n",
    "- 3차원 이상 배열은 2차원 배열(평면)이 겹겹이 겹친 모양 -> 편의상 페이지라고 칭하겠음. 3차원 공간으로 치면 y축 방향임.\n",
    "- 원소를 호출할 때 쓰는 인덱스의 순서는 y축 -> z축(위에서 아래로) -> x축\n",
    "- 예시   \n",
    "    `print(c[1, 3, 2])` -> 23 출력"
   ]
  },
  {
   "cell_type": "code",
   "execution_count": 3,
   "id": "75eccd1e",
   "metadata": {
    "execution": {
     "iopub.execute_input": "2022-05-06T11:25:05.184447Z",
     "iopub.status.busy": "2022-05-06T11:25:05.184186Z",
     "iopub.status.idle": "2022-05-06T11:25:05.194024Z",
     "shell.execute_reply": "2022-05-06T11:25:05.193102Z"
    },
    "papermill": {
     "duration": 0.028259,
     "end_time": "2022-05-06T11:25:05.196506",
     "exception": false,
     "start_time": "2022-05-06T11:25:05.168247",
     "status": "completed"
    },
    "tags": []
   },
   "outputs": [
    {
     "name": "stdout",
     "output_type": "stream",
     "text": [
      "5\n",
      "23\n"
     ]
    }
   ],
   "source": [
    "import numpy as np  # numpy 라이브러리 import\n",
    "\n",
    "# np.array(리스트)  # 하나의 리스트만 들어감\n",
    "a = np.array([0, 1, 2, 3])\n",
    "b = np.array([[0, 1, 2], [3, 4, 5]])\n",
    "c = np.array([[[0, 1, 2], [3, 4, 5], [6, 7, 8], [9, 10, 11]],\n",
    "            [[12, 13, 14], [15, 16, 17], [18, 19, 20], [21, 22, 23]],\n",
    "            [[24, 25, 26], [27, 28, 29], [30, 31, 32], [33, 34, 35]]])\n",
    "\n",
    "print(b[1, 2])  # 1번 행, 2번 열 -> 5 출력\n",
    "print(c[1, 3, 2])  # 23 출력"
   ]
  },
  {
   "cell_type": "markdown",
   "id": "796466e5",
   "metadata": {
    "papermill": {
     "duration": 0.014943,
     "end_time": "2022-05-06T11:25:05.227386",
     "exception": false,
     "start_time": "2022-05-06T11:25:05.212443",
     "status": "completed"
    },
    "tags": []
   },
   "source": [
    "### np.arange\n",
    "---\n",
    "- 일정한 간격만큼 떨어져 있는 숫자들을 배열 형태로 반환\n",
    "- `np.arange(시작, 끝, 간격)`\n",
    "    - 시작 기본값 : 0, 간격 기본값: 1\n",
    "    - `np.arange(5)` -> `[0, 1, 2, 3, 4]`\n",
    "    - `np.arange(2, 8)` -> `[2, 3, 4, 5, 6, 7]`\n",
    "    - `np.arange(2, 10, 2)` -> `[2, 4, 6, 8]`\n",
    "    - `np.arange(1, 3, 0.5)` -> `[1. , 1.5 , 2. , 2.5]`\n",
    "- `range`함수와의 차이는 `arange`함수는 실수 단위도 지원하며 `array`를 리턴함   \n",
    "    `range(1, 5, 0.5)` : `TypeError` 발생"
   ]
  },
  {
   "cell_type": "code",
   "execution_count": 4,
   "id": "82696146",
   "metadata": {
    "execution": {
     "iopub.execute_input": "2022-05-06T11:25:05.258902Z",
     "iopub.status.busy": "2022-05-06T11:25:05.258592Z",
     "iopub.status.idle": "2022-05-06T11:25:05.267906Z",
     "shell.execute_reply": "2022-05-06T11:25:05.267190Z"
    },
    "papermill": {
     "duration": 0.027954,
     "end_time": "2022-05-06T11:25:05.270472",
     "exception": false,
     "start_time": "2022-05-06T11:25:05.242518",
     "status": "completed"
    },
    "tags": []
   },
   "outputs": [
    {
     "name": "stdout",
     "output_type": "stream",
     "text": [
      "[1.  1.5 2.  2.5]\n",
      "[2 4 6 8]\n",
      "[2 3 4 5 6 7]\n",
      "[0 1 2 3 4]\n"
     ]
    }
   ],
   "source": [
    "import numpy as np\n",
    "\n",
    "# np.arange(시작값, 끝값, 간격값)\n",
    "d = np.arange(1, 3, 0.5); print(d)  # 시작값 이상, 끝값 미만에서 간격값 기준으로 등간격으로\n",
    "c = np.arange(2, 10, 2); print(c)\n",
    "b = np.arange(2, 8); print(b)  # 두 개의 argument가 들어가는 경우에는 간격값이 기본값인 1이 되어 실행되는 것\n",
    "a = np.arange(5); print(a)  # 시작값의 기본값이 0"
   ]
  },
  {
   "cell_type": "markdown",
   "id": "862aaf50",
   "metadata": {
    "papermill": {
     "duration": 0.01504,
     "end_time": "2022-05-06T11:25:05.301688",
     "exception": false,
     "start_time": "2022-05-06T11:25:05.286648",
     "status": "completed"
    },
    "tags": []
   },
   "source": [
    "## 여기부터 이어서 필기하면 됨"
   ]
  },
  {
   "cell_type": "code",
   "execution_count": 5,
   "id": "28424217",
   "metadata": {
    "execution": {
     "iopub.execute_input": "2022-05-06T11:25:05.334788Z",
     "iopub.status.busy": "2022-05-06T11:25:05.334470Z",
     "iopub.status.idle": "2022-05-06T11:25:05.340822Z",
     "shell.execute_reply": "2022-05-06T11:25:05.339947Z"
    },
    "papermill": {
     "duration": 0.025072,
     "end_time": "2022-05-06T11:25:05.342873",
     "exception": false,
     "start_time": "2022-05-06T11:25:05.317801",
     "status": "completed"
    },
    "tags": []
   },
   "outputs": [
    {
     "name": "stdout",
     "output_type": "stream",
     "text": [
      "[[1. 2. 2. 2. 2.]\n",
      " [2. 1. 2. 2. 2.]\n",
      " [2. 2. 1. 2. 2.]\n",
      " [2. 2. 2. 1. 2.]\n",
      " [2. 2. 2. 2. 1.]]\n"
     ]
    }
   ],
   "source": [
    "import numpy as np\n",
    "\n",
    "a = np.full((5, 5), 2)\n",
    "b = np.eye(5, 5)\n",
    "print(a - b)"
   ]
  },
  {
   "cell_type": "code",
   "execution_count": 6,
   "id": "6d342d10",
   "metadata": {
    "execution": {
     "iopub.execute_input": "2022-05-06T11:25:05.375547Z",
     "iopub.status.busy": "2022-05-06T11:25:05.375244Z",
     "iopub.status.idle": "2022-05-06T11:25:05.384410Z",
     "shell.execute_reply": "2022-05-06T11:25:05.383068Z"
    },
    "papermill": {
     "duration": 0.028109,
     "end_time": "2022-05-06T11:25:05.386627",
     "exception": false,
     "start_time": "2022-05-06T11:25:05.358518",
     "status": "completed"
    },
    "tags": []
   },
   "outputs": [
    {
     "name": "stdout",
     "output_type": "stream",
     "text": [
      "3\n",
      "(3, 4, 3)\n",
      "36\n",
      "int64\n"
     ]
    }
   ],
   "source": [
    "import numpy as np\n",
    "\n",
    "c = np.array([[[0,1,2],[3,4,5],[6,7,8],[9,10,11]],\n",
    "            [[12,13,14], [15,16,17],[18,19,20],[21,22,23]],\n",
    "            [[24,25,26],[27,28,29],[30,31,32],[33,34,35]]])\n",
    "\n",
    "print(c.ndim)  # 3\n",
    "print(c.shape)  # (3,4,3)\n",
    "print(c.size)  # 36\n",
    "print(c.dtype)  # int32"
   ]
  },
  {
   "cell_type": "code",
   "execution_count": 7,
   "id": "8d3aef26",
   "metadata": {
    "execution": {
     "iopub.execute_input": "2022-05-06T11:25:05.420836Z",
     "iopub.status.busy": "2022-05-06T11:25:05.420565Z",
     "iopub.status.idle": "2022-05-06T11:25:05.430955Z",
     "shell.execute_reply": "2022-05-06T11:25:05.429961Z"
    },
    "papermill": {
     "duration": 0.030183,
     "end_time": "2022-05-06T11:25:05.433487",
     "exception": false,
     "start_time": "2022-05-06T11:25:05.403304",
     "status": "completed"
    },
    "tags": []
   },
   "outputs": [
    {
     "name": "stdout",
     "output_type": "stream",
     "text": [
      "[[ 0  1  2  3  4]\n",
      " [ 5  6  7  8  9]\n",
      " [10 11 12 13 14]]\n",
      "[[ 0  1  2  3  4]\n",
      " [ 5  6  7  8  9]\n",
      " [10 11 12 13 14]]\n",
      "[[ 0  1  2  3  4]\n",
      " [ 5  6  7  8  9]\n",
      " [10 11 12 13 14]]\n",
      "[[ 0]\n",
      " [ 1]\n",
      " [ 2]\n",
      " [ 3]\n",
      " [ 4]\n",
      " [ 5]\n",
      " [ 6]\n",
      " [ 7]\n",
      " [ 8]\n",
      " [ 9]\n",
      " [10]\n",
      " [11]\n",
      " [12]\n",
      " [13]\n",
      " [14]]\n",
      "[[1 2 3]\n",
      " [4 5 6]]\n",
      "[[1 2]\n",
      " [3 4]\n",
      " [5 6]]\n"
     ]
    }
   ],
   "source": [
    "import numpy as np\n",
    "\n",
    "a = np.arange(15).reshape(3, 5); print(a)\n",
    "b = np.arange(15)\n",
    "b_new = np.reshape(b, (3, 5)); print(b_new)\n",
    "# b_new1 = np.reshape(b, (2, 7)); print(b_new1)\n",
    "b_new2 = np.reshape(b, (-1, 5)); print(b_new2) # -1의 의미는 나머지 size에 맞게 알아서 size를 조절해주는 의미\n",
    "b_new3 = np.reshape(b, (15, -1)); print(b_new3)\n",
    "# b_new4 = np.reshape(b, (-1, 9)); print(b_new4)\n",
    "\n",
    "c = np.array([1, 2, 3, 4, 5, 6])\n",
    "d = np.reshape(c, (2, 3)); print(d)\n",
    "e = np.reshape(d, (3, 2)); print(e)\n",
    "# print(d); print(e)"
   ]
  }
 ],
 "metadata": {
  "kernelspec": {
   "display_name": "Python 3",
   "language": "python",
   "name": "python3"
  },
  "language_info": {
   "codemirror_mode": {
    "name": "ipython",
    "version": 3
   },
   "file_extension": ".py",
   "mimetype": "text/x-python",
   "name": "python",
   "nbconvert_exporter": "python",
   "pygments_lexer": "ipython3",
   "version": "3.7.12"
  },
  "papermill": {
   "default_parameters": {},
   "duration": 14.634989,
   "end_time": "2022-05-06T11:25:06.071416",
   "environment_variables": {},
   "exception": null,
   "input_path": "__notebook__.ipynb",
   "output_path": "__notebook__.ipynb",
   "parameters": {},
   "start_time": "2022-05-06T11:24:51.436427",
   "version": "2.3.4"
  }
 },
 "nbformat": 4,
 "nbformat_minor": 5
}
