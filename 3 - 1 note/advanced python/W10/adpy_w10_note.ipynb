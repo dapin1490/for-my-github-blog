{
 "cells": [
  {
   "cell_type": "markdown",
   "id": "bc1de336",
   "metadata": {
    "papermill": {
     "duration": 0.025279,
     "end_time": "2022-05-12T14:30:02.956741",
     "exception": false,
     "start_time": "2022-05-12T14:30:02.931462",
     "status": "completed"
    },
    "tags": []
   },
   "source": [
    "## 고급 파이썬 10주\n",
    "---"
   ]
  },
  {
   "cell_type": "markdown",
   "id": "52b3ddc1",
   "metadata": {
    "papermill": {
     "duration": 0.0237,
     "end_time": "2022-05-12T14:30:03.004439",
     "exception": false,
     "start_time": "2022-05-12T14:30:02.980739",
     "status": "completed"
    },
    "tags": []
   },
   "source": [
    "## NumPy란?\n",
    "---\n",
    "### NumPy (NUMeric Python)\n",
    "- 수학 및 과학 계산용 라이브러리   \n",
    "- 배열을 포함한 벡터, 행렬 등의 연산에 최적화됨   \n",
    "- 수치해석 및 통계 관련 기능을 구현할 때 기본이 되는 모듈   \n",
    "   \n",
    "   \n",
    "### NumPy 제공 기능\n",
    "- 강력한 N-차원 배열\n",
    "- 정교한 브로드캐스팅 함수\n",
    "- C/C++ 및 포트란 코드 통합 도구\n",
    "- 유용한 선형 대수학, 푸리에 변환 및 난수 기능\n",
    "- 다양한 데이터 처리에 대하여 원활하고 신속히 통합 가능한 다차원 컨테이너   \n",
    "   \n",
    "   \n",
    "### NumPy 배열과 Standard Python sequences(예: string, list, tuple 등)의 차이\n",
    "- NumPy배열은 고정된 크기를 가지지만 Python list는 동적으로 변한다.\n",
    "    - 크기를 바꿀 때 새로운 배열을 만들고 원본은 지운다.\n",
    "- NumPy 배열의 원소는 모두 같은 타입이어야 한다. \n",
    "- NumPy 배열은 더 많은 data를 처리하는 것에 더 나은 성능을 가지고 있다."
   ]
  },
  {
   "cell_type": "markdown",
   "id": "618526df",
   "metadata": {
    "papermill": {
     "duration": 0.023962,
     "end_time": "2022-05-12T14:30:03.052651",
     "exception": false,
     "start_time": "2022-05-12T14:30:03.028689",
     "status": "completed"
    },
    "tags": []
   },
   "source": [
    "## Numpy의 빠른 연산 속도 (1)\n",
    "---\n",
    "### Vectorization : 명시적 루핑, 인덱싱 등이 없는 것\n",
    "- Scalar register 대신 Vector register를 이용하여 수치 연산이 더 빠름\n",
    "- Vectorized 코드는 더 간결하고 읽기에 좋음\n",
    "- 더 적은 양의 코드를 사용하기 때문에 버그를 줄일 수 있음\n",
    "- 수학적 notation과 유사하게 코딩함\n",
    "- 더욱 “Pythonic”한 코드"
   ]
  },
  {
   "cell_type": "code",
   "execution_count": 1,
   "id": "5b7628d2",
   "metadata": {
    "_cell_guid": "b1076dfc-b9ad-4769-8c92-a6c4dae69d19",
    "_uuid": "8f2839f25d086af736a60e9eeb907d3b93b6e0e5",
    "execution": {
     "iopub.execute_input": "2022-05-12T14:30:03.104471Z",
     "iopub.status.busy": "2022-05-12T14:30:03.103860Z",
     "iopub.status.idle": "2022-05-12T14:30:03.960433Z",
     "shell.execute_reply": "2022-05-12T14:30:03.959128Z"
    },
    "papermill": {
     "duration": 0.886602,
     "end_time": "2022-05-12T14:30:03.964356",
     "exception": false,
     "start_time": "2022-05-12T14:30:03.077754",
     "status": "completed"
    },
    "tags": []
   },
   "outputs": [
    {
     "name": "stdout",
     "output_type": "stream",
     "text": [
      "Vectorized : 0.0014569759368896484 ms\n",
      "Loop : 0.8139889240264893 ms\n",
      "vectorizing is 558.684 times faster than loop\n"
     ]
    }
   ],
   "source": [
    "import numpy as np\n",
    "import time\n",
    "\n",
    "a = np.random.rand(1000000)  # 길이가 1000000인 벡터 생성\n",
    "b = np.random.rand(1000000)\n",
    "\n",
    "tic = time.time()\n",
    "c = np.dot(a, b)  # inner product 내적 : 벡터에서 같은 인덱스의 원소끼리 곱해 모두 더함\n",
    "toc = time.time()\n",
    "vec_time = toc - tic\n",
    "\n",
    "print(\"Vectorized : \" + str(vec_time) + \" ms\")\n",
    "# print(\"c =\", c)\n",
    "\n",
    "d = 0\n",
    "\n",
    "tic = time.time()\n",
    "for i in range(1000000):\n",
    "    d += a[i] * b[i]\n",
    "toc = time.time()\n",
    "v_loop_time = toc - tic\n",
    "\n",
    "print(\"Loop : \" + str(v_loop_time) + \" ms\")\n",
    "\n",
    "if vec_time < v_loop_time:\n",
    "    print(\"vectorizing is {:.3f} times faster than loop\".format(v_loop_time / vec_time))\n",
    "else:\n",
    "    print(\"loop is {:.3f} times faster than vectorizing\".format(vec_time / v_loop_time))"
   ]
  },
  {
   "cell_type": "markdown",
   "id": "922cbcbf",
   "metadata": {
    "papermill": {
     "duration": 0.024301,
     "end_time": "2022-05-12T14:30:04.014446",
     "exception": false,
     "start_time": "2022-05-12T14:30:03.990145",
     "status": "completed"
    },
    "tags": []
   },
   "source": [
    "## Numpy의 빠른 연산 속도 (2)\n",
    "---\n",
    "- 브로드캐스팅: 사이즈가 다른 두 행렬을 연산할 때, 작은 행렬을 큰 행렬의 모양에 맞게 늘려주는 것"
   ]
  },
  {
   "cell_type": "code",
   "execution_count": 2,
   "id": "f56e93b7",
   "metadata": {
    "execution": {
     "iopub.execute_input": "2022-05-12T14:30:04.068426Z",
     "iopub.status.busy": "2022-05-12T14:30:04.067723Z",
     "iopub.status.idle": "2022-05-12T14:30:05.134435Z",
     "shell.execute_reply": "2022-05-12T14:30:05.133261Z"
    },
    "papermill": {
     "duration": 1.097092,
     "end_time": "2022-05-12T14:30:05.138068",
     "exception": false,
     "start_time": "2022-05-12T14:30:04.040976",
     "status": "completed"
    },
    "tags": []
   },
   "outputs": [
    {
     "name": "stdout",
     "output_type": "stream",
     "text": [
      "Broadcasting : 0.004251003265380859 ms\n",
      "Loop : 1.0452706813812256 ms\n",
      "broadcasting is 245.888 times faster than loop\n"
     ]
    }
   ],
   "source": [
    "import numpy as np\n",
    "import time\n",
    "\n",
    "a = np.ones((1000, 1000))\n",
    "\n",
    "tic = time.time()\n",
    "a = a * 5\n",
    "toc = time.time()\n",
    "brcast_time = toc - tic\n",
    "\n",
    "print(\"Broadcasting : \" + str(brcast_time) + \" ms\")\n",
    "\n",
    "a = np.ones((1000,1000))\n",
    "\n",
    "tic = time.time()\n",
    "for i in range(a.shape[0]):\n",
    "    for j in range(a.shape[1]):\n",
    "        a[i,j] = a[i,j]*5\n",
    "toc = time.time()\n",
    "br_loop_time = toc - tic\n",
    "\n",
    "print(\"Loop : \" + str(br_loop_time) + \" ms\")\n",
    "\n",
    "if brcast_time < br_loop_time:\n",
    "    print(\"broadcasting is {:.3f} times faster than loop\".format(br_loop_time / brcast_time))\n",
    "else:\n",
    "    print(\"loop is {:.3f} times faster than broadcasting\".format(brcast_time / br_loop_time))"
   ]
  },
  {
   "cell_type": "markdown",
   "id": "cd68b0b4",
   "metadata": {
    "papermill": {
     "duration": 0.025818,
     "end_time": "2022-05-12T14:30:05.191254",
     "exception": false,
     "start_time": "2022-05-12T14:30:05.165436",
     "status": "completed"
    },
    "tags": []
   },
   "source": [
    "## N-차원 배열\n",
    "---\n",
    "### N-차원 배열 생성 (`np.array`), 원소 호출\n",
    "- `np.array(리스트)`  # 하나의 리스트만 들어감\n",
    "   \n",
    "#### 3차원 이상 배열의 원소 호출\n",
    "- 3차원 이상 배열은 2차원 배열(평면)이 겹겹이 겹친 모양 -> 편의상 페이지라고 칭하겠음. 3차원 공간으로 치면 y축 방향임.\n",
    "- 원소를 호출할 때 쓰는 인덱스의 순서는 y축 -> z축(위에서 아래로) -> x축\n",
    "- 예시   \n",
    "    `print(c[1, 3, 2])` -> 23 출력"
   ]
  },
  {
   "cell_type": "code",
   "execution_count": 3,
   "id": "19fe83b6",
   "metadata": {
    "execution": {
     "iopub.execute_input": "2022-05-12T14:30:05.246238Z",
     "iopub.status.busy": "2022-05-12T14:30:05.245635Z",
     "iopub.status.idle": "2022-05-12T14:30:05.257489Z",
     "shell.execute_reply": "2022-05-12T14:30:05.256152Z"
    },
    "papermill": {
     "duration": 0.043247,
     "end_time": "2022-05-12T14:30:05.260239",
     "exception": false,
     "start_time": "2022-05-12T14:30:05.216992",
     "status": "completed"
    },
    "tags": []
   },
   "outputs": [
    {
     "name": "stdout",
     "output_type": "stream",
     "text": [
      "5\n",
      "23\n"
     ]
    }
   ],
   "source": [
    "import numpy as np  # numpy 라이브러리 import\n",
    "\n",
    "# np.array(리스트)  # 하나의 리스트만 들어감\n",
    "a = np.array([0, 1, 2, 3])\n",
    "b = np.array([[0, 1, 2], [3, 4, 5]])\n",
    "c = np.array([[[0, 1, 2], [3, 4, 5], [6, 7, 8], [9, 10, 11]],\n",
    "            [[12, 13, 14], [15, 16, 17], [18, 19, 20], [21, 22, 23]],\n",
    "            [[24, 25, 26], [27, 28, 29], [30, 31, 32], [33, 34, 35]]])\n",
    "\n",
    "print(b[1, 2])  # 1번 행, 2번 열 -> 5 출력\n",
    "print(c[1, 3, 2])  # 23 출력"
   ]
  },
  {
   "cell_type": "markdown",
   "id": "ffe1c9e5",
   "metadata": {
    "papermill": {
     "duration": 0.02559,
     "end_time": "2022-05-12T14:30:05.313204",
     "exception": false,
     "start_time": "2022-05-12T14:30:05.287614",
     "status": "completed"
    },
    "tags": []
   },
   "source": [
    "### `np.arange`\n",
    "---\n",
    "- 일정한 간격만큼 떨어져 있는 숫자들을 배열 형태로 반환\n",
    "- `np.arange(시작, 끝, 간격)`\n",
    "    - 시작 기본값 : 0, 간격 기본값: 1\n",
    "    - `np.arange(5)` -> `[0, 1, 2, 3, 4]`\n",
    "    - `np.arange(2, 8)` -> `[2, 3, 4, 5, 6, 7]`\n",
    "    - `np.arange(2, 10, 2)` -> `[2, 4, 6, 8]`\n",
    "    - `np.arange(1, 3, 0.5)` -> `[1. , 1.5 , 2. , 2.5]`\n",
    "- `range`함수와의 차이는 `arange`함수는 실수 단위도 지원하며 `array`를 리턴함   \n",
    "    `range(1, 5, 0.5)` : `TypeError` 발생"
   ]
  },
  {
   "cell_type": "code",
   "execution_count": 4,
   "id": "ec480cae",
   "metadata": {
    "execution": {
     "iopub.execute_input": "2022-05-12T14:30:05.368043Z",
     "iopub.status.busy": "2022-05-12T14:30:05.367552Z",
     "iopub.status.idle": "2022-05-12T14:30:05.379269Z",
     "shell.execute_reply": "2022-05-12T14:30:05.377899Z"
    },
    "papermill": {
     "duration": 0.042448,
     "end_time": "2022-05-12T14:30:05.381703",
     "exception": false,
     "start_time": "2022-05-12T14:30:05.339255",
     "status": "completed"
    },
    "tags": []
   },
   "outputs": [
    {
     "name": "stdout",
     "output_type": "stream",
     "text": [
      "[1.  1.5 2.  2.5]\n",
      "[2 4 6 8]\n",
      "[2 3 4 5 6 7]\n",
      "[0 1 2 3 4]\n"
     ]
    }
   ],
   "source": [
    "import numpy as np\n",
    "\n",
    "# np.arange(시작값, 끝값, 간격값)\n",
    "d = np.arange(1, 3, 0.5); print(d)  # 시작값 이상, 끝값 미만에서 간격값 기준으로 등간격으로\n",
    "c = np.arange(2, 10, 2); print(c)\n",
    "b = np.arange(2, 8); print(b)  # 두 개의 argument가 들어가는 경우에는 간격값이 기본값인 1이 되어 실행되는 것\n",
    "a = np.arange(5); print(a)  # 시작값의 기본값이 0"
   ]
  },
  {
   "cell_type": "markdown",
   "id": "54879425",
   "metadata": {
    "papermill": {
     "duration": 0.025826,
     "end_time": "2022-05-12T14:30:05.434035",
     "exception": false,
     "start_time": "2022-05-12T14:30:05.408209",
     "status": "completed"
    },
    "tags": []
   },
   "source": [
    "## 기타 N-차원 배열 생성 함수   \n",
    "---   \n",
    "### `np.zeros`, `np.ones`   \n",
    "- 모든 원소가 0 혹은 1인 배열을 생성   \n",
    "- `np.zeros((3,4))`, `np.ones((2,3,4))`   \n",
    "   \n",
    "### `np.full`   \n",
    "- 지정값으로 채워진 배열 생성   \n",
    "- 튜플 형태로 행렬의 모양을 지정하고, 단일 숫자로 행렬에 채워질 값을 지정한다.   \n",
    "   \n",
    "### `np.eye`   \n",
    "- 대각선에만 1이 차고 나머지엔 0이 차는 행렬   \n",
    "- 행렬의 모양만을 인수로 받기 때문에 튜플로 전달하지 않는다. 2개의 숫자 인수를 전달한다. 첫 번째는 행, 두 번째는 열.   \n",
    "   \n",
    "### `np.linspace`   \n",
    "- 시작점부터 끝점까지 특정 개수만큼의 등간격의 수를 생성   \n",
    "- `np.linspace(0,2,9) # 9 numbers from 0 to 2`   "
   ]
  },
  {
   "cell_type": "code",
   "execution_count": 5,
   "id": "76d7a8f2",
   "metadata": {
    "execution": {
     "iopub.execute_input": "2022-05-12T14:30:05.492832Z",
     "iopub.status.busy": "2022-05-12T14:30:05.492497Z",
     "iopub.status.idle": "2022-05-12T14:30:05.505770Z",
     "shell.execute_reply": "2022-05-12T14:30:05.504394Z"
    },
    "papermill": {
     "duration": 0.047468,
     "end_time": "2022-05-12T14:30:05.508706",
     "exception": false,
     "start_time": "2022-05-12T14:30:05.461238",
     "status": "completed"
    },
    "tags": []
   },
   "outputs": [
    {
     "name": "stdout",
     "output_type": "stream",
     "text": [
      "np.zeros((3, 4))\n",
      "[[0. 0. 0. 0.]\n",
      " [0. 0. 0. 0.]\n",
      " [0. 0. 0. 0.]]\n",
      "\n",
      "np.ones((2, 3, 4))\n",
      "[[[1. 1. 1. 1.]\n",
      "  [1. 1. 1. 1.]\n",
      "  [1. 1. 1. 1.]]\n",
      "\n",
      " [[1. 1. 1. 1.]\n",
      "  [1. 1. 1. 1.]\n",
      "  [1. 1. 1. 1.]]]\n",
      "\n",
      "np.full((3, 4), 5)\n",
      "[[5 5 5 5]\n",
      " [5 5 5 5]\n",
      " [5 5 5 5]]\n",
      "\n",
      "np.eye(3, 4)\n",
      "[[1. 0. 0. 0.]\n",
      " [0. 1. 0. 0.]\n",
      " [0. 0. 1. 0.]]\n",
      "\n",
      "np.linspace(0, 2, 9)\n",
      "[0.   0.25 0.5  0.75 1.   1.25 1.5  1.75 2.  ]\n"
     ]
    }
   ],
   "source": [
    "import numpy as np\n",
    "\n",
    "ex_zeros = np.zeros((3, 4))\n",
    "print(\"np.zeros((3, 4))\")\n",
    "print(ex_zeros, end=\"\\n\\n\")\n",
    "\n",
    "ex_ones = np.ones((2, 3, 4))\n",
    "print(\"np.ones((2, 3, 4))\")\n",
    "print(ex_ones, end=\"\\n\\n\")\n",
    "\n",
    "ex_full = np.full((3, 4), 5)\n",
    "print(\"np.full((3, 4), 5)\")\n",
    "print(ex_full, end=\"\\n\\n\")\n",
    "\n",
    "ex_eye = np.eye(3, 4)\n",
    "print(\"np.eye(3, 4)\")\n",
    "print(ex_eye, end=\"\\n\\n\")\n",
    "\n",
    "ex_linspace = np.linspace(0, 2, 9)\n",
    "print(\"np.linspace(0, 2, 9)\")\n",
    "print(ex_linspace)"
   ]
  },
  {
   "cell_type": "markdown",
   "id": "fd8782e4",
   "metadata": {
    "papermill": {
     "duration": 0.026529,
     "end_time": "2022-05-12T14:30:05.562095",
     "exception": false,
     "start_time": "2022-05-12T14:30:05.535566",
     "status": "completed"
    },
    "tags": []
   },
   "source": [
    "### 예제   \n",
    "---   \n",
    "다음과 같은 행렬을 만들어라\n",
    "```python\n",
    "[[1 2 2 2 2]\n",
    " [2 1 2 2 2]\n",
    " [2 2 1 2 2]\n",
    " [2 2 2 1 2]\n",
    " [2 2 2 2 1]]\n",
    "```"
   ]
  },
  {
   "cell_type": "code",
   "execution_count": 6,
   "id": "9b346242",
   "metadata": {
    "execution": {
     "iopub.execute_input": "2022-05-12T14:30:05.619095Z",
     "iopub.status.busy": "2022-05-12T14:30:05.618781Z",
     "iopub.status.idle": "2022-05-12T14:30:05.625256Z",
     "shell.execute_reply": "2022-05-12T14:30:05.624132Z"
    },
    "papermill": {
     "duration": 0.038173,
     "end_time": "2022-05-12T14:30:05.627856",
     "exception": false,
     "start_time": "2022-05-12T14:30:05.589683",
     "status": "completed"
    },
    "tags": []
   },
   "outputs": [
    {
     "name": "stdout",
     "output_type": "stream",
     "text": [
      "[[1. 2. 2. 2. 2.]\n",
      " [2. 1. 2. 2. 2.]\n",
      " [2. 2. 1. 2. 2.]\n",
      " [2. 2. 2. 1. 2.]\n",
      " [2. 2. 2. 2. 1.]]\n"
     ]
    }
   ],
   "source": [
    "import numpy as np\n",
    "\n",
    "a = np.full((5, 5), 2)\n",
    "b = np.eye(5, 5)\n",
    "print(a - b)"
   ]
  },
  {
   "cell_type": "markdown",
   "id": "6122a1e7",
   "metadata": {
    "papermill": {
     "duration": 0.027433,
     "end_time": "2022-05-12T14:30:05.683659",
     "exception": false,
     "start_time": "2022-05-12T14:30:05.656226",
     "status": "completed"
    },
    "tags": []
   },
   "source": [
    "## N-차원 배열 기초 명령어\n",
    "---\n",
    "- `ndarray.ndim` : `ndarray`의 차원\n",
    "- `ndarray.shape` : `ndarray`의 모양\n",
    "- `ndarray.size` : `ndarray`의 크기\n",
    "- `ndarray.dtype` : `ndarray`의 데이터 타입"
   ]
  },
  {
   "cell_type": "code",
   "execution_count": 7,
   "id": "420a303d",
   "metadata": {
    "execution": {
     "iopub.execute_input": "2022-05-12T14:30:05.742005Z",
     "iopub.status.busy": "2022-05-12T14:30:05.741684Z",
     "iopub.status.idle": "2022-05-12T14:30:05.751027Z",
     "shell.execute_reply": "2022-05-12T14:30:05.749633Z"
    },
    "papermill": {
     "duration": 0.041605,
     "end_time": "2022-05-12T14:30:05.753726",
     "exception": false,
     "start_time": "2022-05-12T14:30:05.712121",
     "status": "completed"
    },
    "tags": []
   },
   "outputs": [
    {
     "name": "stdout",
     "output_type": "stream",
     "text": [
      "3\n",
      "(3, 4, 3)\n",
      "36\n",
      "int64\n"
     ]
    }
   ],
   "source": [
    "import numpy as np\n",
    "\n",
    "c = np.array([[[0,1,2],[3,4,5],[6,7,8],[9,10,11]],\n",
    "            [[12,13,14], [15,16,17],[18,19,20],[21,22,23]],\n",
    "            [[24,25,26],[27,28,29],[30,31,32],[33,34,35]]])\n",
    "\n",
    "print(c.ndim)  # 3\n",
    "print(c.shape)  # (3,4,3)\n",
    "print(c.size)  # 36\n",
    "print(c.dtype)  # int32"
   ]
  },
  {
   "cell_type": "markdown",
   "id": "8a44cb4c",
   "metadata": {
    "papermill": {
     "duration": 0.028133,
     "end_time": "2022-05-12T14:30:05.810556",
     "exception": false,
     "start_time": "2022-05-12T14:30:05.782423",
     "status": "completed"
    },
    "tags": []
   },
   "source": [
    "## 배열 모양 변경(`np.reshape`)\n",
    "---\n",
    "- `np.reshape(배열,newshape)`\n",
    "- `newshape`에는 배열을 바꾸고 싶은 모양의 정수 tuple이 들어간다.\n",
    "- tuple에 -1을 넣는 경우 나머지 차원에 맞게 자동으로 차원을 설정한다."
   ]
  },
  {
   "cell_type": "code",
   "execution_count": 8,
   "id": "f4e1fba4",
   "metadata": {
    "_kg_hide-output": true,
    "execution": {
     "iopub.execute_input": "2022-05-12T14:30:05.869385Z",
     "iopub.status.busy": "2022-05-12T14:30:05.869070Z",
     "iopub.status.idle": "2022-05-12T14:30:05.882172Z",
     "shell.execute_reply": "2022-05-12T14:30:05.881027Z"
    },
    "papermill": {
     "duration": 0.045927,
     "end_time": "2022-05-12T14:30:05.884766",
     "exception": false,
     "start_time": "2022-05-12T14:30:05.838839",
     "status": "completed"
    },
    "scrolled": true,
    "tags": []
   },
   "outputs": [
    {
     "name": "stdout",
     "output_type": "stream",
     "text": [
      "[[ 0  1  2  3  4]\n",
      " [ 5  6  7  8  9]\n",
      " [10 11 12 13 14]]\n",
      "\n",
      "[[ 0  1  2  3  4]\n",
      " [ 5  6  7  8  9]\n",
      " [10 11 12 13 14]]\n",
      "\n",
      "[[ 0  1  2  3  4]\n",
      " [ 5  6  7  8  9]\n",
      " [10 11 12 13 14]]\n",
      "\n",
      "[[ 0]\n",
      " [ 1]\n",
      " [ 2]\n",
      " [ 3]\n",
      " [ 4]\n",
      " [ 5]\n",
      " [ 6]\n",
      " [ 7]\n",
      " [ 8]\n",
      " [ 9]\n",
      " [10]\n",
      " [11]\n",
      " [12]\n",
      " [13]\n",
      " [14]]\n",
      "\n",
      "[[1 2 3]\n",
      " [4 5 6]]\n",
      "\n",
      "[[1 2]\n",
      " [3 4]\n",
      " [5 6]]\n",
      "\n",
      "[[1 2 3]\n",
      " [4 5 6]]\n",
      "\n",
      "[[1 2]\n",
      " [3 4]\n",
      " [5 6]]\n",
      "\n"
     ]
    }
   ],
   "source": [
    "import numpy as np\n",
    "\n",
    "a = np.arange(15).reshape(3, 5); print(a, end=\"\\n\\n\")\n",
    "b = np.arange(15)\n",
    "b_new = np.reshape(b, (3, 5)); print(b_new, end=\"\\n\\n\")\n",
    "# b_new1 = np.reshape(b, (2, 7)); print(b_new1, end=\"\\n\\n\")  # 배열의 총 칸 수가 안 맞아서 오류남\n",
    "b_new2 = np.reshape(b, (-1, 5)); print(b_new2, end=\"\\n\\n\")  # -1의 의미는 나머지 size에 맞게 알아서 size를 조절해주는 의미\n",
    "b_new3 = np.reshape(b, (15, -1)); print(b_new3, end=\"\\n\\n\")\n",
    "# b_new4 = np.reshape(b, (-1, 9)); print(b_new4, end=\"\\n\\n\")  # 가로세로를 다 채울 수가 없어서 오류남\n",
    "\n",
    "c = np.array([1, 2, 3, 4, 5, 6])\n",
    "d = np.reshape(c, (2, 3)); print(d, end=\"\\n\\n\")\n",
    "e = np.reshape(d, (3, 2)); print(e, end=\"\\n\\n\")\n",
    "print(d, end=\"\\n\\n\"); print(e, end=\"\\n\\n\")"
   ]
  },
  {
   "cell_type": "markdown",
   "id": "9910c946",
   "metadata": {
    "papermill": {
     "duration": 0.029206,
     "end_time": "2022-05-12T14:30:05.942223",
     "exception": false,
     "start_time": "2022-05-12T14:30:05.913017",
     "status": "completed"
    },
    "tags": []
   },
   "source": [
    "## 인덱싱과 슬라이싱   \n",
    "---   \n",
    "3차원 이상 배열부터는 2차원 배열 여러 페이지가 포개진 상태로 생각할 수 있는데, 이때 인덱스 호출 순서에 주의해야 한다.   \n",
    "페이지 -> 가로줄(행) -> 세로줄(열) 순서로 호출한다.   \n",
    "   \n",
    "- 인덱싱: 배열 안에서 원소의 위치를 가리키는 것   \n",
    "- 슬라이싱: 배열 일부를 자르는 것   "
   ]
  },
  {
   "cell_type": "code",
   "execution_count": 9,
   "id": "0a1908bc",
   "metadata": {
    "execution": {
     "iopub.execute_input": "2022-05-12T14:30:06.004377Z",
     "iopub.status.busy": "2022-05-12T14:30:06.004100Z",
     "iopub.status.idle": "2022-05-12T14:30:06.018756Z",
     "shell.execute_reply": "2022-05-12T14:30:06.017422Z"
    },
    "papermill": {
     "duration": 0.048527,
     "end_time": "2022-05-12T14:30:06.021631",
     "exception": false,
     "start_time": "2022-05-12T14:30:05.973104",
     "status": "completed"
    },
    "tags": []
   },
   "outputs": [
    {
     "name": "stdout",
     "output_type": "stream",
     "text": [
      "(2, 2, 3)\n",
      "\n",
      "[[100 101 102]\n",
      " [110 112 113]]\n",
      "\n",
      "[[  2  13]\n",
      " [102 113]]\n",
      "\n",
      "8\n",
      "\n",
      "[ 8 27 64]\n",
      "\n",
      "[ 729  512  343  216  125 1000   27 1000    1 1000]\n",
      "\n",
      "[5 6 7 8 9]\n",
      "\n",
      "[[ 5  6  7  8  9]\n",
      " [10 11 12 13 14]]\n",
      "\n",
      "4\n",
      "\n",
      "[[ 1  2]\n",
      " [ 6  7]\n",
      " [11 12]]\n",
      "\n",
      "[15 16 17 18 19]\n",
      "\n"
     ]
    }
   ],
   "source": [
    "import numpy as np\n",
    "\n",
    "c = np.array([[[0, 1, 2], [10, 12, 13]], [[100, 101, 102], [110, 112, 113]]])\n",
    "\n",
    "print(c.shape, end=\"\\n\\n\")\n",
    "print(c[1, ...], end=\"\\n\\n\")  # same as c[1,:,:] or c[1]\n",
    "print(c[... ,2], end=\"\\n\\n\")  # same as c[:,:,2]\n",
    "\n",
    "# ------------------------------\n",
    "\n",
    "a = np.arange(10) ** 3  # 0, 1, 8, 27, 64, 125, 216, 343, 512, 729\n",
    "\n",
    "print(a[2], end=\"\\n\\n\")  # 8\n",
    "print(a[2:5], end=\"\\n\\n\")  # [8, 27, 64]\n",
    "\n",
    "a[:6:2] = 1000  # 시작지점부터 6번 인덱스 직전까지 2번째 원소마다 1000을 집어 넣음\n",
    "# [1000, 1, 1000, 27, 1000, 125, 216, 343, 512, 729]\n",
    "\n",
    "print(a[::-1], end=\"\\n\\n\")  # 역순\n",
    "\n",
    "array = np.arange(20).reshape(4, 5)\n",
    "\n",
    "print(array[1], end=\"\\n\\n\")  # [5 6 7 8 9]\n",
    "print(array[1:3], end=\"\\n\\n\")  #[[5 6 7 8 9] [10 11 12 13 14]]\n",
    "print(array[0, 4], end=\"\\n\\n\")  # 4\n",
    "print(array[0:3, 1:3], end=\"\\n\\n\")  #[[1 2] [6 7] [11 12]]\n",
    "print(array[-1], end=\"\\n\\n\")  #[15 16 17 18 19]"
   ]
  },
  {
   "cell_type": "markdown",
   "id": "38eb2123",
   "metadata": {
    "papermill": {
     "duration": 0.028025,
     "end_time": "2022-05-12T14:30:06.078626",
     "exception": false,
     "start_time": "2022-05-12T14:30:06.050601",
     "status": "completed"
    },
    "tags": []
   },
   "source": [
    "## 모양 바꾸기   \n",
    "---   \n",
    "### `numpy.random.default_rng`   \n",
    "- 랜덤한 실수를 생성해주는 객체 생성. 전달된 인자는 시드. 시드를 지정하면 재현성 있는 결과를 얻을 수 있다.   \n",
    "- `객체명.random(n, m)`으로 n\\*m 크기의 난수 행렬을 생성할 수 있다.   \n",
    "   \n",
    "### `배열명.ravel()`   \n",
    "- 배열을 flat하게 1차원 벡터로 만들어줌   \n",
    "   \n",
    "### `배열명.T`   \n",
    "- 대각선으로 대칭된 행렬로 바꿔줌   "
   ]
  },
  {
   "cell_type": "code",
   "execution_count": 10,
   "id": "8dc97def",
   "metadata": {
    "execution": {
     "iopub.execute_input": "2022-05-12T14:30:06.138199Z",
     "iopub.status.busy": "2022-05-12T14:30:06.137908Z",
     "iopub.status.idle": "2022-05-12T14:30:06.148665Z",
     "shell.execute_reply": "2022-05-12T14:30:06.147631Z"
    },
    "papermill": {
     "duration": 0.043622,
     "end_time": "2022-05-12T14:30:06.150997",
     "exception": false,
     "start_time": "2022-05-12T14:30:06.107375",
     "status": "completed"
    },
    "tags": []
   },
   "outputs": [
    {
     "name": "stdout",
     "output_type": "stream",
     "text": [
      "[[5. 9. 1. 9.]\n",
      " [3. 4. 8. 4.]\n",
      " [5. 0. 7. 5.]]\n",
      "\n",
      "[5. 9. 1. 9. 3. 4. 8. 4. 5. 0. 7. 5.]\n",
      "\n",
      "[[5. 9.]\n",
      " [1. 9.]\n",
      " [3. 4.]\n",
      " [8. 4.]\n",
      " [5. 0.]\n",
      " [7. 5.]]\n",
      "\n",
      "[[5. 3. 5.]\n",
      " [9. 4. 0.]\n",
      " [1. 8. 7.]\n",
      " [9. 4. 5.]]\n",
      "\n",
      "[[5. 1. 3. 8. 5. 7.]\n",
      " [9. 9. 4. 4. 0. 5.]]\n",
      "\n",
      "[[5. 9. 1. 9.]\n",
      " [3. 4. 8. 4.]\n",
      " [5. 0. 7. 5.]]\n",
      "\n"
     ]
    }
   ],
   "source": [
    "import numpy as np\n",
    "\n",
    "rg = np.random.default_rng(1)  # 랜덤한 실수를 생성해주는 객체. 전달된 인자는 시드. 시드를 지정하면 재현성 있는 결과를 얻을 수 있다.\n",
    "a = np.floor(10 * rg.random((3, 4)))\n",
    "\n",
    "print(a, end=\"\\n\\n\")\n",
    "print(a.ravel(), end=\"\\n\\n\")  # Flat하게 size 1 x 12 vector로 만듦\n",
    "print(a.reshape(6, 2), end=\"\\n\\n\")\n",
    "print(a.T, end=\"\\n\\n\")  # matrix transpose : 대각선으로 대칭된 행렬로 바꿔줌\n",
    "print(a.reshape(6, 2).T, end=\"\\n\\n\")\n",
    "print(a.reshape(3, -1), end=\"\\n\\n\")  # -1을 넣은 부분은 size에 맞게 자동으로 설정"
   ]
  },
  {
   "cell_type": "markdown",
   "id": "22c44691",
   "metadata": {
    "papermill": {
     "duration": 0.028701,
     "end_time": "2022-05-12T14:30:06.208252",
     "exception": false,
     "start_time": "2022-05-12T14:30:06.179551",
     "status": "completed"
    },
    "tags": []
   },
   "source": [
    "## 배열 병합   \n",
    "---   \n",
    "- `hstack` : horizontally 병합   \n",
    "- `vstack`: vertically 병합   \n",
    "- `stack`: 지정 축으로 병합   \n",
    "- `dstack`: 새로운 축으로 병합   "
   ]
  },
  {
   "cell_type": "code",
   "execution_count": 11,
   "id": "d0ffcfb8",
   "metadata": {
    "_kg_hide-output": true,
    "execution": {
     "iopub.execute_input": "2022-05-12T14:30:06.267824Z",
     "iopub.status.busy": "2022-05-12T14:30:06.267543Z",
     "iopub.status.idle": "2022-05-12T14:30:06.282345Z",
     "shell.execute_reply": "2022-05-12T14:30:06.281179Z"
    },
    "papermill": {
     "duration": 0.046802,
     "end_time": "2022-05-12T14:30:06.284674",
     "exception": false,
     "start_time": "2022-05-12T14:30:06.237872",
     "status": "completed"
    },
    "scrolled": true,
    "tags": []
   },
   "outputs": [
    {
     "name": "stdout",
     "output_type": "stream",
     "text": [
      "(2, 4)\n",
      "[[1 2 5 6]\n",
      " [3 4 7 8]]\n",
      "\n",
      "\n",
      "(4, 2)\n",
      "[[1 2]\n",
      " [3 4]\n",
      " [5 6]\n",
      " [7 8]]\n",
      "\n",
      "\n",
      "(2, 2, 2)\n",
      "[[[1 2]\n",
      "  [3 4]]\n",
      "\n",
      " [[5 6]\n",
      "  [7 8]]]\n",
      "\n",
      "\n",
      "(2, 2, 2)\n",
      "[[[1 2]\n",
      "  [5 6]]\n",
      "\n",
      " [[3 4]\n",
      "  [7 8]]]\n",
      "\n",
      "\n",
      "(2, 2, 2)\n",
      "[[[1 5]\n",
      "  [2 6]]\n",
      "\n",
      " [[3 7]\n",
      "  [4 8]]]\n",
      "\n",
      "\n"
     ]
    }
   ],
   "source": [
    "import numpy as np\n",
    "\n",
    "a = np.array([[1, 2], [3, 4]])\n",
    "b = np.array([[5, 6], [7, 8]])\n",
    "\n",
    "# hstack, vstack\n",
    "print(np.hstack([a, b]).shape)  # (2, 4)\n",
    "print(np.hstack([a, b]), end=\"\\n\\n\\n\")\n",
    "print(np.vstack([a, b]).shape)  # (4, 2)\n",
    "print(np.vstack([a, b]), end=\"\\n\\n\\n\")\n",
    "\n",
    "# stack\n",
    "print(np.stack([a, b], axis=0).shape)  # axis 0 을 기준으로 붙임\n",
    "print(np.stack([a, b], axis=0), end=\"\\n\\n\\n\")  # axis 0 을 기준으로 붙임\n",
    "print(np.stack([a, b], axis=1).shape)  # axis 1 을 기준으로 붙임\n",
    "print(np.stack([a, b], axis=1), end=\"\\n\\n\\n\")  # axis 1 을 기준으로 붙임\n",
    "\n",
    "# dstack\n",
    "print(np.dstack([a, b]).shape)  # 새로운 축 (본 예제에선 axis 2) 기준으로 붙임\n",
    "print(np.dstack([a, b]), end=\"\\n\\n\\n\")  # 새로운 축 (본 예제에선 axis 2) 기준으로 붙임"
   ]
  },
  {
   "cell_type": "markdown",
   "id": "6855ff3d",
   "metadata": {
    "papermill": {
     "duration": 0.028627,
     "end_time": "2022-05-12T14:30:06.343780",
     "exception": false,
     "start_time": "2022-05-12T14:30:06.315153",
     "status": "completed"
    },
    "tags": []
   },
   "source": [
    "## N-차원 연산   \n",
    "---   \n",
    "- 크기가 동일한 배열끼리 사칙연산 가능   \n",
    "- 단일 배열에 대한 수식 연산 가능(거듭제곱, 상수 사칙연산, 부등호 비교 등)   \n",
    "- 배열을 다른 함수의 인자로 전달 가능(예 : np.sin()에 인자로 넘파이 배열 전달)   \n",
    "- 배열 간 행렬 곱셈(matrix product) 가능   \n",
    "   \n",
    "\\-\\-\\-\\-\\-\\-\\-\\-\\-\\-\\-\\-\\-\\-\\-\\-\\-\\-\\-\\-\\-\\-\\-\\-\\-\\-\\-\\-\\-\\-\\-\\-\\-\\-\\-\\-\\-\\-\\-\\-\\-\\-\\-\\-\\-\\-\\-\\-   \n",
    "   \n",
    "- `객체명.sum()`으로 배열 내 모든 요소 합 가능, 축 지정 가능(축끼리 합해짐. 1은 가로축(행), 0은 세로축(열))   \n",
    "- `객체명.max()/min()`으로 최대/최솟값 반환 가능, 축 지정 가능   \n",
    "- `객체명.cumsum()`으로 누적합 가능, 축 지정 가능   "
   ]
  },
  {
   "cell_type": "code",
   "execution_count": 12,
   "id": "668f62a6",
   "metadata": {
    "_kg_hide-output": true,
    "execution": {
     "iopub.execute_input": "2022-05-12T14:30:06.403238Z",
     "iopub.status.busy": "2022-05-12T14:30:06.402880Z",
     "iopub.status.idle": "2022-05-12T14:30:06.420274Z",
     "shell.execute_reply": "2022-05-12T14:30:06.418578Z"
    },
    "papermill": {
     "duration": 0.05027,
     "end_time": "2022-05-12T14:30:06.422987",
     "exception": false,
     "start_time": "2022-05-12T14:30:06.372717",
     "status": "completed"
    },
    "scrolled": true,
    "tags": []
   },
   "outputs": [
    {
     "name": "stdout",
     "output_type": "stream",
     "text": [
      "[20 29 38 47]\n",
      "\n",
      "[0 1 4 9]\n",
      "\n",
      "[ 9.12945251 -9.88031624  7.4511316  -2.62374854]\n",
      "\n",
      "[ True  True False False]\n",
      "\n",
      "[[2 0]\n",
      " [0 4]]\n",
      "\n",
      "[[5 4]\n",
      " [3 4]]\n",
      "\n",
      "[[5 4]\n",
      " [3 4]]\n",
      "\n",
      "[[3. 3. 3.]\n",
      " [3. 3. 3.]]\n",
      "\n",
      "[[0.51182162 0.9504637  0.14415961]\n",
      " [0.94864945 0.31183145 0.42332645]]\n",
      "\n",
      "[[3.51182162 3.9504637  3.14415961]\n",
      " [3.94864945 3.31183145 3.42332645]]\n",
      "\n"
     ]
    }
   ],
   "source": [
    "import numpy as np\n",
    "\n",
    "a = np.array([20, 30, 40, 50])\n",
    "b = np.arange(4)\n",
    "c = a - b\n",
    "print(c, end=\"\\n\\n\")\n",
    "\n",
    "print(b ** 2, end=\"\\n\\n\")\n",
    "print(10 * np.sin(a), end=\"\\n\\n\")\n",
    "print(a < 35, end=\"\\n\\n\")\n",
    "\n",
    "A = np.array([[1, 1], [0, 1]])\n",
    "B = np.array([[2, 0], [3, 4]])\n",
    "\n",
    "print(A * B, end=\"\\n\\n\")  # elementwise product\n",
    "print(A @ B, end=\"\\n\\n\")  # matrix product (two methods - 1)\n",
    "print(A.dot(B), end=\"\\n\\n\")  # matrix product (two methods - 2)\n",
    "\n",
    "C = np.ones((2, 3))\n",
    "C *= 3\n",
    "print(C, end=\"\\n\\n\")\n",
    "\n",
    "rg = np.random.default_rng(1)  # random generator\n",
    "D = rg.random((2, 3))\n",
    "print(D, end=\"\\n\\n\")  # 랜덤 값 취하는 Size (2, 3)짜리 행렬 생성\n",
    "D += C\n",
    "print(D, end=\"\\n\\n\")"
   ]
  },
  {
   "cell_type": "code",
   "execution_count": 13,
   "id": "e3bfb5a5",
   "metadata": {
    "_kg_hide-output": true,
    "execution": {
     "iopub.execute_input": "2022-05-12T14:30:06.483240Z",
     "iopub.status.busy": "2022-05-12T14:30:06.482972Z",
     "iopub.status.idle": "2022-05-12T14:30:06.493861Z",
     "shell.execute_reply": "2022-05-12T14:30:06.493021Z"
    },
    "papermill": {
     "duration": 0.043532,
     "end_time": "2022-05-12T14:30:06.495932",
     "exception": false,
     "start_time": "2022-05-12T14:30:06.452400",
     "status": "completed"
    },
    "tags": []
   },
   "outputs": [
    {
     "name": "stdout",
     "output_type": "stream",
     "text": [
      "21\n",
      "\n",
      "[5 7 9]\n",
      "\n",
      "[ 6 15]\n",
      "\n",
      "1\n",
      "\n",
      "6\n",
      "\n",
      "[1 2 3]\n",
      "\n",
      "[1 4]\n",
      "\n",
      "[ 1  3  6 10 15 21]\n",
      "\n",
      "[[1 2 3]\n",
      " [5 7 9]]\n",
      "\n",
      "[[ 1  3  6]\n",
      " [ 4  9 15]]\n",
      "\n"
     ]
    }
   ],
   "source": [
    "import numpy as np\n",
    "\n",
    "a = np.array([[1, 2, 3], [4, 5, 6]])\n",
    "\n",
    "print(a.sum(), end=\"\\n\\n\")\n",
    "print(a.sum(axis=0), end=\"\\n\\n\")\n",
    "print(a.sum(axis=1), end=\"\\n\\n\")\n",
    "\n",
    "print(a.min(), end=\"\\n\\n\")\n",
    "print(a.max(), end=\"\\n\\n\")\n",
    "\n",
    "print(a.min(axis=0), end=\"\\n\\n\")\n",
    "print(a.min(axis=1), end=\"\\n\\n\")\n",
    "\n",
    "print(a.cumsum(), end=\"\\n\\n\")\n",
    "print(a.cumsum(axis=0), end=\"\\n\\n\")\n",
    "print(a.cumsum(axis=1), end=\"\\n\\n\")  # cumulative sum"
   ]
  },
  {
   "cell_type": "code",
   "execution_count": 14,
   "id": "8d6294eb",
   "metadata": {
    "_kg_hide-output": true,
    "execution": {
     "iopub.execute_input": "2022-05-12T14:30:06.557629Z",
     "iopub.status.busy": "2022-05-12T14:30:06.557365Z",
     "iopub.status.idle": "2022-05-12T14:30:06.563844Z",
     "shell.execute_reply": "2022-05-12T14:30:06.562992Z"
    },
    "papermill": {
     "duration": 0.039705,
     "end_time": "2022-05-12T14:30:06.566193",
     "exception": false,
     "start_time": "2022-05-12T14:30:06.526488",
     "status": "completed"
    },
    "tags": []
   },
   "outputs": [
    {
     "name": "stdout",
     "output_type": "stream",
     "text": [
      "[1.         2.71828183 7.3890561 ]\n",
      "\n",
      "[0.         1.         1.41421356]\n",
      "\n",
      "[2 0 6]\n",
      "\n"
     ]
    }
   ],
   "source": [
    "import numpy as np\n",
    "\n",
    "a = np.arange(3)\n",
    "\n",
    "print(np.exp(a), end=\"\\n\\n\")\n",
    "print(np.sqrt(a), end=\"\\n\\n\")\n",
    "print(np.add(a, [2, -1, 4]), end=\"\\n\\n\")"
   ]
  }
 ],
 "metadata": {
  "kernelspec": {
   "display_name": "Python 3",
   "language": "python",
   "name": "python3"
  },
  "language_info": {
   "codemirror_mode": {
    "name": "ipython",
    "version": 3
   },
   "file_extension": ".py",
   "mimetype": "text/x-python",
   "name": "python",
   "nbconvert_exporter": "python",
   "pygments_lexer": "ipython3",
   "version": "3.7.12"
  },
  "papermill": {
   "default_parameters": {},
   "duration": 17.691313,
   "end_time": "2022-05-12T14:30:10.052310",
   "environment_variables": {},
   "exception": null,
   "input_path": "__notebook__.ipynb",
   "output_path": "__notebook__.ipynb",
   "parameters": {},
   "start_time": "2022-05-12T14:29:52.360997",
   "version": "2.3.4"
  }
 },
 "nbformat": 4,
 "nbformat_minor": 5
}
