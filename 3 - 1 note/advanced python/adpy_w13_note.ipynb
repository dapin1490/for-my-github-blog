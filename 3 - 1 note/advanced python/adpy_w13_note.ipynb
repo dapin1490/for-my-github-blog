{
 "cells": [
  {
   "cell_type": "code",
   "execution_count": 1,
   "id": "994cb572",
   "metadata": {
    "_cell_guid": "b1076dfc-b9ad-4769-8c92-a6c4dae69d19",
    "_kg_hide-input": true,
    "_kg_hide-output": true,
    "_uuid": "8f2839f25d086af736a60e9eeb907d3b93b6e0e5",
    "execution": {
     "iopub.execute_input": "2022-06-02T07:40:08.842792Z",
     "iopub.status.busy": "2022-06-02T07:40:08.842184Z",
     "iopub.status.idle": "2022-06-02T07:40:08.858468Z",
     "shell.execute_reply": "2022-06-02T07:40:08.857774Z"
    },
    "papermill": {
     "duration": 0.039006,
     "end_time": "2022-06-02T07:40:08.862233",
     "exception": false,
     "start_time": "2022-06-02T07:40:08.823227",
     "status": "completed"
    },
    "tags": []
   },
   "outputs": [
    {
     "name": "stdout",
     "output_type": "stream",
     "text": [
      "/kaggle/input/220527-adpy-w13-files/air_quality_no2_long.csv\n",
      "/kaggle/input/220527-adpy-w13-files/titanic.csv\n",
      "/kaggle/input/220527-adpy-w13-files/air_quality_parameters.csv\n",
      "/kaggle/input/220527-adpy-w13-files/air_quality_stations.csv\n",
      "/kaggle/input/220527-adpy-w13-files/air_quality_pm25_long.csv\n"
     ]
    }
   ],
   "source": [
    "import os\n",
    "\n",
    "for dirname, _, filenames in os.walk('/kaggle/input'):\n",
    "    for filename in filenames:\n",
    "        print(os.path.join(dirname, filename))\n",
    "\n",
    "air_quality_no2_long_csv = \"/kaggle/input/220527-adpy-w13-files/air_quality_no2_long.csv\"\n",
    "titanic_csv = \"/kaggle/input/220527-adpy-w13-files/titanic.csv\"\n",
    "air_quality_parameters_csv = \"/kaggle/input/220527-adpy-w13-files/air_quality_parameters.csv\"\n",
    "air_quality_stations_csv = \"/kaggle/input/220527-adpy-w13-files/air_quality_stations.csv\"\n",
    "air_quality_pm25_long_csv = \"/kaggle/input/220527-adpy-w13-files/air_quality_pm25_long.csv\""
   ]
  },
  {
   "cell_type": "markdown",
   "id": "74098138",
   "metadata": {
    "papermill": {
     "duration": 0.014679,
     "end_time": "2022-06-02T07:40:08.892630",
     "exception": false,
     "start_time": "2022-06-02T07:40:08.877951",
     "status": "completed"
    },
    "tags": []
   },
   "source": [
    "## 테이블 병합\n",
    "---   \n",
    "- 속성이 동일한 두 테이블 병합\n",
    "- 속성이 상이한 두 테이블 병합"
   ]
  },
  {
   "cell_type": "code",
   "execution_count": 2,
   "id": "eb0f2960",
   "metadata": {
    "execution": {
     "iopub.execute_input": "2022-06-02T07:40:08.925303Z",
     "iopub.status.busy": "2022-06-02T07:40:08.924716Z",
     "iopub.status.idle": "2022-06-02T07:40:08.989690Z",
     "shell.execute_reply": "2022-06-02T07:40:08.988394Z"
    },
    "papermill": {
     "duration": 0.084862,
     "end_time": "2022-06-02T07:40:08.992780",
     "exception": false,
     "start_time": "2022-06-02T07:40:08.907918",
     "status": "completed"
    },
    "tags": []
   },
   "outputs": [
    {
     "name": "stdout",
     "output_type": "stream",
     "text": [
      "Shape of the air_quality_pm25 table:  (1110, 4)\n",
      "\n",
      "Shape of the air_quality_no2 table:  (2068, 4)\n",
      "\n",
      "Shape of the resulting table:  (3178, 4)\n",
      "\n"
     ]
    },
    {
     "data": {
      "text/html": [
       "<div>\n",
       "<style scoped>\n",
       "    .dataframe tbody tr th:only-of-type {\n",
       "        vertical-align: middle;\n",
       "    }\n",
       "\n",
       "    .dataframe tbody tr th {\n",
       "        vertical-align: top;\n",
       "    }\n",
       "\n",
       "    .dataframe thead th {\n",
       "        text-align: right;\n",
       "    }\n",
       "</style>\n",
       "<table border=\"1\" class=\"dataframe\">\n",
       "  <thead>\n",
       "    <tr style=\"text-align: right;\">\n",
       "      <th></th>\n",
       "      <th>date.utc</th>\n",
       "      <th>location</th>\n",
       "      <th>parameter</th>\n",
       "      <th>value</th>\n",
       "    </tr>\n",
       "  </thead>\n",
       "  <tbody>\n",
       "    <tr>\n",
       "      <th>2067</th>\n",
       "      <td>2019-05-07 01:00:00+00:00</td>\n",
       "      <td>London Westminster</td>\n",
       "      <td>no2</td>\n",
       "      <td>23.0</td>\n",
       "    </tr>\n",
       "    <tr>\n",
       "      <th>1003</th>\n",
       "      <td>2019-05-07 01:00:00+00:00</td>\n",
       "      <td>FR04014</td>\n",
       "      <td>no2</td>\n",
       "      <td>25.0</td>\n",
       "    </tr>\n",
       "    <tr>\n",
       "      <th>100</th>\n",
       "      <td>2019-05-07 01:00:00+00:00</td>\n",
       "      <td>BETR801</td>\n",
       "      <td>pm25</td>\n",
       "      <td>12.5</td>\n",
       "    </tr>\n",
       "    <tr>\n",
       "      <th>1098</th>\n",
       "      <td>2019-05-07 01:00:00+00:00</td>\n",
       "      <td>BETR801</td>\n",
       "      <td>no2</td>\n",
       "      <td>50.5</td>\n",
       "    </tr>\n",
       "    <tr>\n",
       "      <th>1109</th>\n",
       "      <td>2019-05-07 01:00:00+00:00</td>\n",
       "      <td>London Westminster</td>\n",
       "      <td>pm25</td>\n",
       "      <td>8.0</td>\n",
       "    </tr>\n",
       "    <tr>\n",
       "      <th>...</th>\n",
       "      <td>...</td>\n",
       "      <td>...</td>\n",
       "      <td>...</td>\n",
       "      <td>...</td>\n",
       "    </tr>\n",
       "    <tr>\n",
       "      <th>2</th>\n",
       "      <td>2019-06-20 22:00:00+00:00</td>\n",
       "      <td>FR04014</td>\n",
       "      <td>no2</td>\n",
       "      <td>26.5</td>\n",
       "    </tr>\n",
       "    <tr>\n",
       "      <th>102</th>\n",
       "      <td>2019-06-20 23:00:00+00:00</td>\n",
       "      <td>London Westminster</td>\n",
       "      <td>pm25</td>\n",
       "      <td>7.0</td>\n",
       "    </tr>\n",
       "    <tr>\n",
       "      <th>1</th>\n",
       "      <td>2019-06-20 23:00:00+00:00</td>\n",
       "      <td>FR04014</td>\n",
       "      <td>no2</td>\n",
       "      <td>21.8</td>\n",
       "    </tr>\n",
       "    <tr>\n",
       "      <th>101</th>\n",
       "      <td>2019-06-21 00:00:00+00:00</td>\n",
       "      <td>London Westminster</td>\n",
       "      <td>pm25</td>\n",
       "      <td>7.0</td>\n",
       "    </tr>\n",
       "    <tr>\n",
       "      <th>0</th>\n",
       "      <td>2019-06-21 00:00:00+00:00</td>\n",
       "      <td>FR04014</td>\n",
       "      <td>no2</td>\n",
       "      <td>20.0</td>\n",
       "    </tr>\n",
       "  </tbody>\n",
       "</table>\n",
       "<p>3178 rows × 4 columns</p>\n",
       "</div>"
      ],
      "text/plain": [
       "                       date.utc            location parameter  value\n",
       "2067  2019-05-07 01:00:00+00:00  London Westminster       no2   23.0\n",
       "1003  2019-05-07 01:00:00+00:00             FR04014       no2   25.0\n",
       "100   2019-05-07 01:00:00+00:00             BETR801      pm25   12.5\n",
       "1098  2019-05-07 01:00:00+00:00             BETR801       no2   50.5\n",
       "1109  2019-05-07 01:00:00+00:00  London Westminster      pm25    8.0\n",
       "...                         ...                 ...       ...    ...\n",
       "2     2019-06-20 22:00:00+00:00             FR04014       no2   26.5\n",
       "102   2019-06-20 23:00:00+00:00  London Westminster      pm25    7.0\n",
       "1     2019-06-20 23:00:00+00:00             FR04014       no2   21.8\n",
       "101   2019-06-21 00:00:00+00:00  London Westminster      pm25    7.0\n",
       "0     2019-06-21 00:00:00+00:00             FR04014       no2   20.0\n",
       "\n",
       "[3178 rows x 4 columns]"
      ]
     },
     "execution_count": 2,
     "metadata": {},
     "output_type": "execute_result"
    }
   ],
   "source": [
    "# 속성이 동일한 두 테이블 병합\n",
    "\n",
    "import pandas as pd\n",
    "\n",
    "air_quality_no2 = pd.read_csv(air_quality_no2_long_csv, parse_dates=True)\n",
    "air_quality_no2 = air_quality_no2[[\"date.utc\", \"location\", \"parameter\", \"value\"]]\n",
    "\n",
    "air_quality_pm25 = pd.read_csv(air_quality_pm25_long_csv, parse_dates=True)\n",
    "air_quality_pm25 = air_quality_pm25[[\"date.utc\", \"location\", \"parameter\", \"value\"]]\n",
    "\n",
    "air_quality = pd.concat([air_quality_pm25, air_quality_no2], axis=0) \n",
    "\n",
    "print('Shape of the air_quality_pm25 table: ', air_quality_pm25.shape, end=\"\\n\\n\")\n",
    "print('Shape of the air_quality_no2 table: ', air_quality_no2.shape, end=\"\\n\\n\")\n",
    "print('Shape of the resulting table: ', air_quality.shape, end=\"\\n\\n\")\n",
    "\n",
    "air_quality = air_quality.sort_values(\"date.utc\")\n",
    "air_quality"
   ]
  },
  {
   "cell_type": "code",
   "execution_count": 3,
   "id": "8e911b07",
   "metadata": {
    "execution": {
     "iopub.execute_input": "2022-06-02T07:40:09.026816Z",
     "iopub.status.busy": "2022-06-02T07:40:09.026326Z",
     "iopub.status.idle": "2022-06-02T07:40:09.034616Z",
     "shell.execute_reply": "2022-06-02T07:40:09.033856Z"
    },
    "papermill": {
     "duration": 0.027841,
     "end_time": "2022-06-02T07:40:09.036765",
     "exception": false,
     "start_time": "2022-06-02T07:40:09.008924",
     "status": "completed"
    },
    "tags": []
   },
   "outputs": [],
   "source": [
    "# 속성이 상이한 두 테이블 병합\n",
    "\n",
    "import pandas as pd\n",
    "\n",
    "city = pd.DataFrame({'Num':[175, 178, 389, 927, 1064], 'City':['Seoul', 'Incheon', 'Daejeon', 'Gwangju', 'Busan']})\n",
    "weather = pd.DataFrame({'Num':[178, 1064, 1095], 'Weather':['Sunny', 'Rain', 'Windy']})"
   ]
  },
  {
   "cell_type": "code",
   "execution_count": 4,
   "id": "9270590f",
   "metadata": {
    "execution": {
     "iopub.execute_input": "2022-06-02T07:40:09.069862Z",
     "iopub.status.busy": "2022-06-02T07:40:09.069385Z",
     "iopub.status.idle": "2022-06-02T07:40:09.088417Z",
     "shell.execute_reply": "2022-06-02T07:40:09.087567Z"
    },
    "papermill": {
     "duration": 0.03802,
     "end_time": "2022-06-02T07:40:09.090446",
     "exception": false,
     "start_time": "2022-06-02T07:40:09.052426",
     "status": "completed"
    },
    "tags": []
   },
   "outputs": [
    {
     "data": {
      "text/html": [
       "<div>\n",
       "<style scoped>\n",
       "    .dataframe tbody tr th:only-of-type {\n",
       "        vertical-align: middle;\n",
       "    }\n",
       "\n",
       "    .dataframe tbody tr th {\n",
       "        vertical-align: top;\n",
       "    }\n",
       "\n",
       "    .dataframe thead th {\n",
       "        text-align: right;\n",
       "    }\n",
       "</style>\n",
       "<table border=\"1\" class=\"dataframe\">\n",
       "  <thead>\n",
       "    <tr style=\"text-align: right;\">\n",
       "      <th></th>\n",
       "      <th>Num</th>\n",
       "      <th>City</th>\n",
       "      <th>Weather</th>\n",
       "    </tr>\n",
       "  </thead>\n",
       "  <tbody>\n",
       "    <tr>\n",
       "      <th>0</th>\n",
       "      <td>175</td>\n",
       "      <td>Seoul</td>\n",
       "      <td>NaN</td>\n",
       "    </tr>\n",
       "    <tr>\n",
       "      <th>1</th>\n",
       "      <td>178</td>\n",
       "      <td>Incheon</td>\n",
       "      <td>Sunny</td>\n",
       "    </tr>\n",
       "    <tr>\n",
       "      <th>2</th>\n",
       "      <td>389</td>\n",
       "      <td>Daejeon</td>\n",
       "      <td>NaN</td>\n",
       "    </tr>\n",
       "    <tr>\n",
       "      <th>3</th>\n",
       "      <td>927</td>\n",
       "      <td>Gwangju</td>\n",
       "      <td>NaN</td>\n",
       "    </tr>\n",
       "    <tr>\n",
       "      <th>4</th>\n",
       "      <td>1064</td>\n",
       "      <td>Busan</td>\n",
       "      <td>Rain</td>\n",
       "    </tr>\n",
       "  </tbody>\n",
       "</table>\n",
       "</div>"
      ],
      "text/plain": [
       "    Num     City Weather\n",
       "0   175    Seoul     NaN\n",
       "1   178  Incheon   Sunny\n",
       "2   389  Daejeon     NaN\n",
       "3   927  Gwangju     NaN\n",
       "4  1064    Busan    Rain"
      ]
     },
     "execution_count": 4,
     "metadata": {},
     "output_type": "execute_result"
    }
   ],
   "source": [
    "# 두 테이블 중 왼쪽 기준으로 병합\n",
    "# 왼쪽에는 있고 오른쪽 테이블에는 없는 값은 NaN\n",
    "# 오른쪽에만 있는 값은 버려짐\n",
    "pd.merge(city, weather, on='Num', how='left')"
   ]
  },
  {
   "cell_type": "code",
   "execution_count": 5,
   "id": "6c3a381a",
   "metadata": {
    "execution": {
     "iopub.execute_input": "2022-06-02T07:40:09.126423Z",
     "iopub.status.busy": "2022-06-02T07:40:09.125427Z",
     "iopub.status.idle": "2022-06-02T07:40:09.137729Z",
     "shell.execute_reply": "2022-06-02T07:40:09.137107Z"
    },
    "papermill": {
     "duration": 0.032648,
     "end_time": "2022-06-02T07:40:09.139667",
     "exception": false,
     "start_time": "2022-06-02T07:40:09.107019",
     "status": "completed"
    },
    "tags": []
   },
   "outputs": [
    {
     "data": {
      "text/html": [
       "<div>\n",
       "<style scoped>\n",
       "    .dataframe tbody tr th:only-of-type {\n",
       "        vertical-align: middle;\n",
       "    }\n",
       "\n",
       "    .dataframe tbody tr th {\n",
       "        vertical-align: top;\n",
       "    }\n",
       "\n",
       "    .dataframe thead th {\n",
       "        text-align: right;\n",
       "    }\n",
       "</style>\n",
       "<table border=\"1\" class=\"dataframe\">\n",
       "  <thead>\n",
       "    <tr style=\"text-align: right;\">\n",
       "      <th></th>\n",
       "      <th>Num</th>\n",
       "      <th>City</th>\n",
       "      <th>Weather</th>\n",
       "    </tr>\n",
       "  </thead>\n",
       "  <tbody>\n",
       "    <tr>\n",
       "      <th>0</th>\n",
       "      <td>178</td>\n",
       "      <td>Incheon</td>\n",
       "      <td>Sunny</td>\n",
       "    </tr>\n",
       "    <tr>\n",
       "      <th>1</th>\n",
       "      <td>1064</td>\n",
       "      <td>Busan</td>\n",
       "      <td>Rain</td>\n",
       "    </tr>\n",
       "    <tr>\n",
       "      <th>2</th>\n",
       "      <td>1095</td>\n",
       "      <td>NaN</td>\n",
       "      <td>Windy</td>\n",
       "    </tr>\n",
       "  </tbody>\n",
       "</table>\n",
       "</div>"
      ],
      "text/plain": [
       "    Num     City Weather\n",
       "0   178  Incheon   Sunny\n",
       "1  1064    Busan    Rain\n",
       "2  1095      NaN   Windy"
      ]
     },
     "execution_count": 5,
     "metadata": {},
     "output_type": "execute_result"
    }
   ],
   "source": [
    "# 두 테이블 중 오른쪽 기준으로 병합\n",
    "# 오른쪽에는 있고 왼쪽 테이블에는 없는 값은 NaN\n",
    "# 왼쪽에만 있는 값은 버려짐\n",
    "pd.merge(city, weather, on='Num', how='right')"
   ]
  },
  {
   "cell_type": "code",
   "execution_count": 6,
   "id": "a7260668",
   "metadata": {
    "execution": {
     "iopub.execute_input": "2022-06-02T07:40:09.175776Z",
     "iopub.status.busy": "2022-06-02T07:40:09.174870Z",
     "iopub.status.idle": "2022-06-02T07:40:09.188148Z",
     "shell.execute_reply": "2022-06-02T07:40:09.187283Z"
    },
    "papermill": {
     "duration": 0.033938,
     "end_time": "2022-06-02T07:40:09.190514",
     "exception": false,
     "start_time": "2022-06-02T07:40:09.156576",
     "status": "completed"
    },
    "tags": []
   },
   "outputs": [
    {
     "data": {
      "text/html": [
       "<div>\n",
       "<style scoped>\n",
       "    .dataframe tbody tr th:only-of-type {\n",
       "        vertical-align: middle;\n",
       "    }\n",
       "\n",
       "    .dataframe tbody tr th {\n",
       "        vertical-align: top;\n",
       "    }\n",
       "\n",
       "    .dataframe thead th {\n",
       "        text-align: right;\n",
       "    }\n",
       "</style>\n",
       "<table border=\"1\" class=\"dataframe\">\n",
       "  <thead>\n",
       "    <tr style=\"text-align: right;\">\n",
       "      <th></th>\n",
       "      <th>Num</th>\n",
       "      <th>City</th>\n",
       "      <th>Weather</th>\n",
       "    </tr>\n",
       "  </thead>\n",
       "  <tbody>\n",
       "    <tr>\n",
       "      <th>0</th>\n",
       "      <td>178</td>\n",
       "      <td>Incheon</td>\n",
       "      <td>Sunny</td>\n",
       "    </tr>\n",
       "    <tr>\n",
       "      <th>1</th>\n",
       "      <td>1064</td>\n",
       "      <td>Busan</td>\n",
       "      <td>Rain</td>\n",
       "    </tr>\n",
       "  </tbody>\n",
       "</table>\n",
       "</div>"
      ],
      "text/plain": [
       "    Num     City Weather\n",
       "0   178  Incheon   Sunny\n",
       "1  1064    Busan    Rain"
      ]
     },
     "execution_count": 6,
     "metadata": {},
     "output_type": "execute_result"
    }
   ],
   "source": [
    "# 양쪽 테이블 모두 기준으로 함\n",
    "# 두 테이블에 모두 값이 있는 것만 남는다\n",
    "pd.merge(city, weather, on='Num', how='inner')"
   ]
  },
  {
   "cell_type": "code",
   "execution_count": 7,
   "id": "c8c4b262",
   "metadata": {
    "execution": {
     "iopub.execute_input": "2022-06-02T07:40:09.225882Z",
     "iopub.status.busy": "2022-06-02T07:40:09.225006Z",
     "iopub.status.idle": "2022-06-02T07:40:09.239534Z",
     "shell.execute_reply": "2022-06-02T07:40:09.238569Z"
    },
    "papermill": {
     "duration": 0.034722,
     "end_time": "2022-06-02T07:40:09.241862",
     "exception": false,
     "start_time": "2022-06-02T07:40:09.207140",
     "status": "completed"
    },
    "tags": []
   },
   "outputs": [
    {
     "data": {
      "text/html": [
       "<div>\n",
       "<style scoped>\n",
       "    .dataframe tbody tr th:only-of-type {\n",
       "        vertical-align: middle;\n",
       "    }\n",
       "\n",
       "    .dataframe tbody tr th {\n",
       "        vertical-align: top;\n",
       "    }\n",
       "\n",
       "    .dataframe thead th {\n",
       "        text-align: right;\n",
       "    }\n",
       "</style>\n",
       "<table border=\"1\" class=\"dataframe\">\n",
       "  <thead>\n",
       "    <tr style=\"text-align: right;\">\n",
       "      <th></th>\n",
       "      <th>Num</th>\n",
       "      <th>City</th>\n",
       "      <th>Weather</th>\n",
       "    </tr>\n",
       "  </thead>\n",
       "  <tbody>\n",
       "    <tr>\n",
       "      <th>0</th>\n",
       "      <td>175</td>\n",
       "      <td>Seoul</td>\n",
       "      <td>NaN</td>\n",
       "    </tr>\n",
       "    <tr>\n",
       "      <th>1</th>\n",
       "      <td>178</td>\n",
       "      <td>Incheon</td>\n",
       "      <td>Sunny</td>\n",
       "    </tr>\n",
       "    <tr>\n",
       "      <th>2</th>\n",
       "      <td>389</td>\n",
       "      <td>Daejeon</td>\n",
       "      <td>NaN</td>\n",
       "    </tr>\n",
       "    <tr>\n",
       "      <th>3</th>\n",
       "      <td>927</td>\n",
       "      <td>Gwangju</td>\n",
       "      <td>NaN</td>\n",
       "    </tr>\n",
       "    <tr>\n",
       "      <th>4</th>\n",
       "      <td>1064</td>\n",
       "      <td>Busan</td>\n",
       "      <td>Rain</td>\n",
       "    </tr>\n",
       "    <tr>\n",
       "      <th>5</th>\n",
       "      <td>1095</td>\n",
       "      <td>NaN</td>\n",
       "      <td>Windy</td>\n",
       "    </tr>\n",
       "  </tbody>\n",
       "</table>\n",
       "</div>"
      ],
      "text/plain": [
       "    Num     City Weather\n",
       "0   175    Seoul     NaN\n",
       "1   178  Incheon   Sunny\n",
       "2   389  Daejeon     NaN\n",
       "3   927  Gwangju     NaN\n",
       "4  1064    Busan    Rain\n",
       "5  1095      NaN   Windy"
      ]
     },
     "execution_count": 7,
     "metadata": {},
     "output_type": "execute_result"
    }
   ],
   "source": [
    "# 양쪽 테이블 모두 기준으로 함\n",
    "# 둘 중 한 테이블이라도 값이 있으면 모두 합친다\n",
    "pd.merge(city, weather, on='Num', how='outer')"
   ]
  },
  {
   "cell_type": "markdown",
   "id": "c4a1dc3e",
   "metadata": {
    "papermill": {
     "duration": 0.017042,
     "end_time": "2022-06-02T07:40:09.277196",
     "exception": false,
     "start_time": "2022-06-02T07:40:09.260154",
     "status": "completed"
    },
    "tags": []
   },
   "source": [
    "## 문자열 data 처리\n",
    "---\n",
    "- 문자열은 `.str` 접근자 통해서 처리 가능\n",
    "- Element-wise 처리\n",
    "- `replace()`: 값을 전환할 때 사용하는 메서드"
   ]
  },
  {
   "cell_type": "code",
   "execution_count": 8,
   "id": "4d7b5a72",
   "metadata": {
    "_kg_hide-output": true,
    "execution": {
     "iopub.execute_input": "2022-06-02T07:40:09.315475Z",
     "iopub.status.busy": "2022-06-02T07:40:09.314756Z",
     "iopub.status.idle": "2022-06-02T07:40:09.387162Z",
     "shell.execute_reply": "2022-06-02T07:40:09.385197Z"
    },
    "papermill": {
     "duration": 0.094498,
     "end_time": "2022-06-02T07:40:09.390048",
     "exception": false,
     "start_time": "2022-06-02T07:40:09.295550",
     "status": "completed"
    },
    "scrolled": true,
    "tags": []
   },
   "outputs": [
    {
     "name": "stdout",
     "output_type": "stream",
     "text": [
      "0                                Braund, Mr. Owen Harris\n",
      "1      Cumings, Mrs. John Bradley (Florence Briggs Th...\n",
      "2                                 Heikkinen, Miss. Laina\n",
      "3           Futrelle, Mrs. Jacques Heath (Lily May Peel)\n",
      "4                               Allen, Mr. William Henry\n",
      "                             ...                        \n",
      "886                                Montvila, Rev. Juozas\n",
      "887                         Graham, Miss. Margaret Edith\n",
      "888             Johnston, Miss. Catherine Helen \"Carrie\"\n",
      "889                                Behr, Mr. Karl Howell\n",
      "890                                  Dooley, Mr. Patrick\n",
      "Name: Name, Length: 891, dtype: object\n",
      "\n",
      "0                                braund, mr. owen harris\n",
      "1      cumings, mrs. john bradley (florence briggs th...\n",
      "2                                 heikkinen, miss. laina\n",
      "3           futrelle, mrs. jacques heath (lily may peel)\n",
      "4                               allen, mr. william henry\n",
      "                             ...                        \n",
      "886                                montvila, rev. juozas\n",
      "887                         graham, miss. margaret edith\n",
      "888             johnston, miss. catherine helen \"carrie\"\n",
      "889                                behr, mr. karl howell\n",
      "890                                  dooley, mr. patrick\n",
      "Name: Name, Length: 891, dtype: object\n",
      "\n",
      "0                             [Braund,  Mr. Owen Harris]\n",
      "1      [Cumings,  Mrs. John Bradley (Florence Briggs ...\n",
      "2                              [Heikkinen,  Miss. Laina]\n",
      "3        [Futrelle,  Mrs. Jacques Heath (Lily May Peel)]\n",
      "4                            [Allen,  Mr. William Henry]\n",
      "                             ...                        \n",
      "886                             [Montvila,  Rev. Juozas]\n",
      "887                      [Graham,  Miss. Margaret Edith]\n",
      "888          [Johnston,  Miss. Catherine Helen \"Carrie\"]\n",
      "889                             [Behr,  Mr. Karl Howell]\n",
      "890                               [Dooley,  Mr. Patrick]\n",
      "Name: Name, Length: 891, dtype: object\n",
      "\n",
      "0         Braund\n",
      "1        Cumings\n",
      "2      Heikkinen\n",
      "3       Futrelle\n",
      "4          Allen\n",
      "         ...    \n",
      "886     Montvila\n",
      "887       Graham\n",
      "888     Johnston\n",
      "889         Behr\n",
      "890       Dooley\n",
      "Name: Surname, Length: 891, dtype: object\n",
      "\n",
      "0      False\n",
      "1      False\n",
      "2      False\n",
      "3      False\n",
      "4      False\n",
      "       ...  \n",
      "886    False\n",
      "887    False\n",
      "888    False\n",
      "889    False\n",
      "890    False\n",
      "Name: Name, Length: 891, dtype: bool\n",
      "\n",
      "0      23\n",
      "1      51\n",
      "2      22\n",
      "3      44\n",
      "4      24\n",
      "       ..\n",
      "886    21\n",
      "887    28\n",
      "888    40\n",
      "889    21\n",
      "890    19\n",
      "Name: Name, Length: 891, dtype: int64\n",
      "\n",
      "307\n",
      "\n",
      "Penasco y Castellana, Mrs. Victor de Satode (Maria Josefa Perez de Soto y Vallejo)\n",
      "\n"
     ]
    },
    {
     "data": {
      "text/html": [
       "<div>\n",
       "<style scoped>\n",
       "    .dataframe tbody tr th:only-of-type {\n",
       "        vertical-align: middle;\n",
       "    }\n",
       "\n",
       "    .dataframe tbody tr th {\n",
       "        vertical-align: top;\n",
       "    }\n",
       "\n",
       "    .dataframe thead th {\n",
       "        text-align: right;\n",
       "    }\n",
       "</style>\n",
       "<table border=\"1\" class=\"dataframe\">\n",
       "  <thead>\n",
       "    <tr style=\"text-align: right;\">\n",
       "      <th></th>\n",
       "      <th>PassengerId</th>\n",
       "      <th>Survived</th>\n",
       "      <th>Pclass</th>\n",
       "      <th>Name</th>\n",
       "      <th>Sex</th>\n",
       "      <th>Age</th>\n",
       "      <th>SibSp</th>\n",
       "      <th>Parch</th>\n",
       "      <th>Ticket</th>\n",
       "      <th>Fare</th>\n",
       "      <th>Cabin</th>\n",
       "      <th>Embarked</th>\n",
       "      <th>Surname</th>\n",
       "      <th>Sex_short</th>\n",
       "    </tr>\n",
       "  </thead>\n",
       "  <tbody>\n",
       "    <tr>\n",
       "      <th>0</th>\n",
       "      <td>1</td>\n",
       "      <td>0</td>\n",
       "      <td>3</td>\n",
       "      <td>Braund, Mr. Owen Harris</td>\n",
       "      <td>male</td>\n",
       "      <td>22.0</td>\n",
       "      <td>1</td>\n",
       "      <td>0</td>\n",
       "      <td>A/5 21171</td>\n",
       "      <td>7.2500</td>\n",
       "      <td>NaN</td>\n",
       "      <td>S</td>\n",
       "      <td>Braund</td>\n",
       "      <td>M</td>\n",
       "    </tr>\n",
       "    <tr>\n",
       "      <th>1</th>\n",
       "      <td>2</td>\n",
       "      <td>1</td>\n",
       "      <td>1</td>\n",
       "      <td>Cumings, Mrs. John Bradley (Florence Briggs Th...</td>\n",
       "      <td>female</td>\n",
       "      <td>38.0</td>\n",
       "      <td>1</td>\n",
       "      <td>0</td>\n",
       "      <td>PC 17599</td>\n",
       "      <td>71.2833</td>\n",
       "      <td>C85</td>\n",
       "      <td>C</td>\n",
       "      <td>Cumings</td>\n",
       "      <td>F</td>\n",
       "    </tr>\n",
       "    <tr>\n",
       "      <th>2</th>\n",
       "      <td>3</td>\n",
       "      <td>1</td>\n",
       "      <td>3</td>\n",
       "      <td>Heikkinen, Miss. Laina</td>\n",
       "      <td>female</td>\n",
       "      <td>26.0</td>\n",
       "      <td>0</td>\n",
       "      <td>0</td>\n",
       "      <td>STON/O2. 3101282</td>\n",
       "      <td>7.9250</td>\n",
       "      <td>NaN</td>\n",
       "      <td>S</td>\n",
       "      <td>Heikkinen</td>\n",
       "      <td>F</td>\n",
       "    </tr>\n",
       "    <tr>\n",
       "      <th>3</th>\n",
       "      <td>4</td>\n",
       "      <td>1</td>\n",
       "      <td>1</td>\n",
       "      <td>Futrelle, Mrs. Jacques Heath (Lily May Peel)</td>\n",
       "      <td>female</td>\n",
       "      <td>35.0</td>\n",
       "      <td>1</td>\n",
       "      <td>0</td>\n",
       "      <td>113803</td>\n",
       "      <td>53.1000</td>\n",
       "      <td>C123</td>\n",
       "      <td>S</td>\n",
       "      <td>Futrelle</td>\n",
       "      <td>F</td>\n",
       "    </tr>\n",
       "    <tr>\n",
       "      <th>4</th>\n",
       "      <td>5</td>\n",
       "      <td>0</td>\n",
       "      <td>3</td>\n",
       "      <td>Allen, Mr. William Henry</td>\n",
       "      <td>male</td>\n",
       "      <td>35.0</td>\n",
       "      <td>0</td>\n",
       "      <td>0</td>\n",
       "      <td>373450</td>\n",
       "      <td>8.0500</td>\n",
       "      <td>NaN</td>\n",
       "      <td>S</td>\n",
       "      <td>Allen</td>\n",
       "      <td>M</td>\n",
       "    </tr>\n",
       "    <tr>\n",
       "      <th>...</th>\n",
       "      <td>...</td>\n",
       "      <td>...</td>\n",
       "      <td>...</td>\n",
       "      <td>...</td>\n",
       "      <td>...</td>\n",
       "      <td>...</td>\n",
       "      <td>...</td>\n",
       "      <td>...</td>\n",
       "      <td>...</td>\n",
       "      <td>...</td>\n",
       "      <td>...</td>\n",
       "      <td>...</td>\n",
       "      <td>...</td>\n",
       "      <td>...</td>\n",
       "    </tr>\n",
       "    <tr>\n",
       "      <th>886</th>\n",
       "      <td>887</td>\n",
       "      <td>0</td>\n",
       "      <td>2</td>\n",
       "      <td>Montvila, Rev. Juozas</td>\n",
       "      <td>male</td>\n",
       "      <td>27.0</td>\n",
       "      <td>0</td>\n",
       "      <td>0</td>\n",
       "      <td>211536</td>\n",
       "      <td>13.0000</td>\n",
       "      <td>NaN</td>\n",
       "      <td>S</td>\n",
       "      <td>Montvila</td>\n",
       "      <td>M</td>\n",
       "    </tr>\n",
       "    <tr>\n",
       "      <th>887</th>\n",
       "      <td>888</td>\n",
       "      <td>1</td>\n",
       "      <td>1</td>\n",
       "      <td>Graham, Miss. Margaret Edith</td>\n",
       "      <td>female</td>\n",
       "      <td>19.0</td>\n",
       "      <td>0</td>\n",
       "      <td>0</td>\n",
       "      <td>112053</td>\n",
       "      <td>30.0000</td>\n",
       "      <td>B42</td>\n",
       "      <td>S</td>\n",
       "      <td>Graham</td>\n",
       "      <td>F</td>\n",
       "    </tr>\n",
       "    <tr>\n",
       "      <th>888</th>\n",
       "      <td>889</td>\n",
       "      <td>0</td>\n",
       "      <td>3</td>\n",
       "      <td>Johnston, Miss. Catherine Helen \"Carrie\"</td>\n",
       "      <td>female</td>\n",
       "      <td>NaN</td>\n",
       "      <td>1</td>\n",
       "      <td>2</td>\n",
       "      <td>W./C. 6607</td>\n",
       "      <td>23.4500</td>\n",
       "      <td>NaN</td>\n",
       "      <td>S</td>\n",
       "      <td>Johnston</td>\n",
       "      <td>F</td>\n",
       "    </tr>\n",
       "    <tr>\n",
       "      <th>889</th>\n",
       "      <td>890</td>\n",
       "      <td>1</td>\n",
       "      <td>1</td>\n",
       "      <td>Behr, Mr. Karl Howell</td>\n",
       "      <td>male</td>\n",
       "      <td>26.0</td>\n",
       "      <td>0</td>\n",
       "      <td>0</td>\n",
       "      <td>111369</td>\n",
       "      <td>30.0000</td>\n",
       "      <td>C148</td>\n",
       "      <td>C</td>\n",
       "      <td>Behr</td>\n",
       "      <td>M</td>\n",
       "    </tr>\n",
       "    <tr>\n",
       "      <th>890</th>\n",
       "      <td>891</td>\n",
       "      <td>0</td>\n",
       "      <td>3</td>\n",
       "      <td>Dooley, Mr. Patrick</td>\n",
       "      <td>male</td>\n",
       "      <td>32.0</td>\n",
       "      <td>0</td>\n",
       "      <td>0</td>\n",
       "      <td>370376</td>\n",
       "      <td>7.7500</td>\n",
       "      <td>NaN</td>\n",
       "      <td>Q</td>\n",
       "      <td>Dooley</td>\n",
       "      <td>M</td>\n",
       "    </tr>\n",
       "  </tbody>\n",
       "</table>\n",
       "<p>891 rows × 14 columns</p>\n",
       "</div>"
      ],
      "text/plain": [
       "     PassengerId  Survived  Pclass  \\\n",
       "0              1         0       3   \n",
       "1              2         1       1   \n",
       "2              3         1       3   \n",
       "3              4         1       1   \n",
       "4              5         0       3   \n",
       "..           ...       ...     ...   \n",
       "886          887         0       2   \n",
       "887          888         1       1   \n",
       "888          889         0       3   \n",
       "889          890         1       1   \n",
       "890          891         0       3   \n",
       "\n",
       "                                                  Name     Sex   Age  SibSp  \\\n",
       "0                              Braund, Mr. Owen Harris    male  22.0      1   \n",
       "1    Cumings, Mrs. John Bradley (Florence Briggs Th...  female  38.0      1   \n",
       "2                               Heikkinen, Miss. Laina  female  26.0      0   \n",
       "3         Futrelle, Mrs. Jacques Heath (Lily May Peel)  female  35.0      1   \n",
       "4                             Allen, Mr. William Henry    male  35.0      0   \n",
       "..                                                 ...     ...   ...    ...   \n",
       "886                              Montvila, Rev. Juozas    male  27.0      0   \n",
       "887                       Graham, Miss. Margaret Edith  female  19.0      0   \n",
       "888           Johnston, Miss. Catherine Helen \"Carrie\"  female   NaN      1   \n",
       "889                              Behr, Mr. Karl Howell    male  26.0      0   \n",
       "890                                Dooley, Mr. Patrick    male  32.0      0   \n",
       "\n",
       "     Parch            Ticket     Fare Cabin Embarked    Surname Sex_short  \n",
       "0        0         A/5 21171   7.2500   NaN        S     Braund         M  \n",
       "1        0          PC 17599  71.2833   C85        C    Cumings         F  \n",
       "2        0  STON/O2. 3101282   7.9250   NaN        S  Heikkinen         F  \n",
       "3        0            113803  53.1000  C123        S   Futrelle         F  \n",
       "4        0            373450   8.0500   NaN        S      Allen         M  \n",
       "..     ...               ...      ...   ...      ...        ...       ...  \n",
       "886      0            211536  13.0000   NaN        S   Montvila         M  \n",
       "887      0            112053  30.0000   B42        S     Graham         F  \n",
       "888      2        W./C. 6607  23.4500   NaN        S   Johnston         F  \n",
       "889      0            111369  30.0000  C148        C       Behr         M  \n",
       "890      0            370376   7.7500   NaN        Q     Dooley         M  \n",
       "\n",
       "[891 rows x 14 columns]"
      ]
     },
     "execution_count": 8,
     "metadata": {},
     "output_type": "execute_result"
    }
   ],
   "source": [
    "import pandas as pd\n",
    "\n",
    "titanic = pd.read_csv(titanic_csv)\n",
    "\n",
    "print(titanic[\"Name\"], end=\"\\n\\n\")  # 이름 속성 프린트\n",
    "print(titanic[\"Name\"].str.lower(), end=\"\\n\\n\")  # 이름 속성 전부 소문자로 바꿔서 프린트\n",
    "print(titanic[\"Name\"].str.split(\",\"), end=\"\\n\\n\")  # 이름 속성의 샘플 각각 쉼표 단위로 구분해서 리스트로 만듦\n",
    "\n",
    "titanic[\"Surname\"] = titanic[\"Name\"].str.split(\",\").str.get(0)  # 이름 속성의 샘플 각각 쉼표 단위로 구분해서 리스트로 만들고, 그 중 첫 번째 요소만 저장\n",
    "\n",
    "print(titanic[\"Surname\"], end=\"\\n\\n\")  # Surname 속성 프린트\n",
    "print(titanic[\"Name\"].str.contains(\"Countess\"), end=\"\\n\\n\")  # 이름 속성의 샘플이 \"Countess\"라는 값을 포함하는지에 대한 bool 출력\n",
    "print(titanic[\"Name\"].str.len(), end=\"\\n\\n\")  # 이름 길이 출력\n",
    "print(titanic[\"Name\"].str.len().idxmax(), end=\"\\n\\n\")  # 이름이 가장 긴 샘플의 인덱스 출력\n",
    "print(titanic.loc[titanic[\"Name\"].str.len().idxmax(), \"Name\"], end=\"\\n\\n\")  # 이름이 가장 긴 샘플의 이름 출력\n",
    "\n",
    "titanic[\"Sex_short\"] = titanic[\"Sex\"].replace({\"male\": \"M\", \"female\": \"F\"})  # 성별 속성의 값(key)을 지정한 딕셔너리의 value로 대체한 새 속성 추가\n",
    "titanic  # titanic 보기"
   ]
  },
  {
   "cell_type": "markdown",
   "id": "565da102",
   "metadata": {
    "papermill": {
     "duration": 0.017225,
     "end_time": "2022-06-02T07:40:09.429231",
     "exception": false,
     "start_time": "2022-06-02T07:40:09.412006",
     "status": "completed"
    },
    "tags": []
   },
   "source": [
    "## Time series\n",
    "---\n",
    "- `to_datetime()` : string을 날짜 object로 바꾸는 함수\n",
    "- `dt` : date-related properties\n",
    "- DatetimeIndex : `no_2[\"2019-05-20\":\"2019-05-21\"]`"
   ]
  },
  {
   "cell_type": "code",
   "execution_count": 9,
   "id": "0aa82edb",
   "metadata": {
    "execution": {
     "iopub.execute_input": "2022-06-02T07:40:09.465571Z",
     "iopub.status.busy": "2022-06-02T07:40:09.465131Z",
     "iopub.status.idle": "2022-06-02T07:40:09.507993Z",
     "shell.execute_reply": "2022-06-02T07:40:09.506911Z"
    },
    "papermill": {
     "duration": 0.063744,
     "end_time": "2022-06-02T07:40:09.510130",
     "exception": false,
     "start_time": "2022-06-02T07:40:09.446386",
     "status": "completed"
    },
    "scrolled": true,
    "tags": []
   },
   "outputs": [
    {
     "name": "stdout",
     "output_type": "stream",
     "text": [
      "0      2019-06-21 00:00:00+00:00\n",
      "1      2019-06-20 23:00:00+00:00\n",
      "2      2019-06-20 22:00:00+00:00\n",
      "3      2019-06-20 21:00:00+00:00\n",
      "4      2019-06-20 20:00:00+00:00\n",
      "                  ...           \n",
      "2063   2019-05-07 06:00:00+00:00\n",
      "2064   2019-05-07 04:00:00+00:00\n",
      "2065   2019-05-07 03:00:00+00:00\n",
      "2066   2019-05-07 02:00:00+00:00\n",
      "2067   2019-05-07 01:00:00+00:00\n",
      "Name: datetime, Length: 2068, dtype: datetime64[ns, UTC]\n",
      "\n",
      "2019-05-07 01:00:00+00:00\n",
      "\n",
      "2019-06-21 00:00:00+00:00\n",
      "\n",
      "44 days 23:00:00\n",
      "\n"
     ]
    },
    {
     "data": {
      "text/html": [
       "<div>\n",
       "<style scoped>\n",
       "    .dataframe tbody tr th:only-of-type {\n",
       "        vertical-align: middle;\n",
       "    }\n",
       "\n",
       "    .dataframe tbody tr th {\n",
       "        vertical-align: top;\n",
       "    }\n",
       "\n",
       "    .dataframe thead th {\n",
       "        text-align: right;\n",
       "    }\n",
       "</style>\n",
       "<table border=\"1\" class=\"dataframe\">\n",
       "  <thead>\n",
       "    <tr style=\"text-align: right;\">\n",
       "      <th></th>\n",
       "      <th>city</th>\n",
       "      <th>country</th>\n",
       "      <th>datetime</th>\n",
       "      <th>location</th>\n",
       "      <th>parameter</th>\n",
       "      <th>value</th>\n",
       "      <th>unit</th>\n",
       "      <th>month</th>\n",
       "      <th>weekday</th>\n",
       "    </tr>\n",
       "  </thead>\n",
       "  <tbody>\n",
       "    <tr>\n",
       "      <th>0</th>\n",
       "      <td>Paris</td>\n",
       "      <td>FR</td>\n",
       "      <td>2019-06-21 00:00:00+00:00</td>\n",
       "      <td>FR04014</td>\n",
       "      <td>no2</td>\n",
       "      <td>20.0</td>\n",
       "      <td>µg/m³</td>\n",
       "      <td>6</td>\n",
       "      <td>4</td>\n",
       "    </tr>\n",
       "    <tr>\n",
       "      <th>1</th>\n",
       "      <td>Paris</td>\n",
       "      <td>FR</td>\n",
       "      <td>2019-06-20 23:00:00+00:00</td>\n",
       "      <td>FR04014</td>\n",
       "      <td>no2</td>\n",
       "      <td>21.8</td>\n",
       "      <td>µg/m³</td>\n",
       "      <td>6</td>\n",
       "      <td>3</td>\n",
       "    </tr>\n",
       "    <tr>\n",
       "      <th>2</th>\n",
       "      <td>Paris</td>\n",
       "      <td>FR</td>\n",
       "      <td>2019-06-20 22:00:00+00:00</td>\n",
       "      <td>FR04014</td>\n",
       "      <td>no2</td>\n",
       "      <td>26.5</td>\n",
       "      <td>µg/m³</td>\n",
       "      <td>6</td>\n",
       "      <td>3</td>\n",
       "    </tr>\n",
       "    <tr>\n",
       "      <th>3</th>\n",
       "      <td>Paris</td>\n",
       "      <td>FR</td>\n",
       "      <td>2019-06-20 21:00:00+00:00</td>\n",
       "      <td>FR04014</td>\n",
       "      <td>no2</td>\n",
       "      <td>24.9</td>\n",
       "      <td>µg/m³</td>\n",
       "      <td>6</td>\n",
       "      <td>3</td>\n",
       "    </tr>\n",
       "    <tr>\n",
       "      <th>4</th>\n",
       "      <td>Paris</td>\n",
       "      <td>FR</td>\n",
       "      <td>2019-06-20 20:00:00+00:00</td>\n",
       "      <td>FR04014</td>\n",
       "      <td>no2</td>\n",
       "      <td>21.4</td>\n",
       "      <td>µg/m³</td>\n",
       "      <td>6</td>\n",
       "      <td>3</td>\n",
       "    </tr>\n",
       "    <tr>\n",
       "      <th>...</th>\n",
       "      <td>...</td>\n",
       "      <td>...</td>\n",
       "      <td>...</td>\n",
       "      <td>...</td>\n",
       "      <td>...</td>\n",
       "      <td>...</td>\n",
       "      <td>...</td>\n",
       "      <td>...</td>\n",
       "      <td>...</td>\n",
       "    </tr>\n",
       "    <tr>\n",
       "      <th>2063</th>\n",
       "      <td>London</td>\n",
       "      <td>GB</td>\n",
       "      <td>2019-05-07 06:00:00+00:00</td>\n",
       "      <td>London Westminster</td>\n",
       "      <td>no2</td>\n",
       "      <td>26.0</td>\n",
       "      <td>µg/m³</td>\n",
       "      <td>5</td>\n",
       "      <td>1</td>\n",
       "    </tr>\n",
       "    <tr>\n",
       "      <th>2064</th>\n",
       "      <td>London</td>\n",
       "      <td>GB</td>\n",
       "      <td>2019-05-07 04:00:00+00:00</td>\n",
       "      <td>London Westminster</td>\n",
       "      <td>no2</td>\n",
       "      <td>16.0</td>\n",
       "      <td>µg/m³</td>\n",
       "      <td>5</td>\n",
       "      <td>1</td>\n",
       "    </tr>\n",
       "    <tr>\n",
       "      <th>2065</th>\n",
       "      <td>London</td>\n",
       "      <td>GB</td>\n",
       "      <td>2019-05-07 03:00:00+00:00</td>\n",
       "      <td>London Westminster</td>\n",
       "      <td>no2</td>\n",
       "      <td>19.0</td>\n",
       "      <td>µg/m³</td>\n",
       "      <td>5</td>\n",
       "      <td>1</td>\n",
       "    </tr>\n",
       "    <tr>\n",
       "      <th>2066</th>\n",
       "      <td>London</td>\n",
       "      <td>GB</td>\n",
       "      <td>2019-05-07 02:00:00+00:00</td>\n",
       "      <td>London Westminster</td>\n",
       "      <td>no2</td>\n",
       "      <td>19.0</td>\n",
       "      <td>µg/m³</td>\n",
       "      <td>5</td>\n",
       "      <td>1</td>\n",
       "    </tr>\n",
       "    <tr>\n",
       "      <th>2067</th>\n",
       "      <td>London</td>\n",
       "      <td>GB</td>\n",
       "      <td>2019-05-07 01:00:00+00:00</td>\n",
       "      <td>London Westminster</td>\n",
       "      <td>no2</td>\n",
       "      <td>23.0</td>\n",
       "      <td>µg/m³</td>\n",
       "      <td>5</td>\n",
       "      <td>1</td>\n",
       "    </tr>\n",
       "  </tbody>\n",
       "</table>\n",
       "<p>2068 rows × 9 columns</p>\n",
       "</div>"
      ],
      "text/plain": [
       "        city country                  datetime            location parameter  \\\n",
       "0      Paris      FR 2019-06-21 00:00:00+00:00             FR04014       no2   \n",
       "1      Paris      FR 2019-06-20 23:00:00+00:00             FR04014       no2   \n",
       "2      Paris      FR 2019-06-20 22:00:00+00:00             FR04014       no2   \n",
       "3      Paris      FR 2019-06-20 21:00:00+00:00             FR04014       no2   \n",
       "4      Paris      FR 2019-06-20 20:00:00+00:00             FR04014       no2   \n",
       "...      ...     ...                       ...                 ...       ...   \n",
       "2063  London      GB 2019-05-07 06:00:00+00:00  London Westminster       no2   \n",
       "2064  London      GB 2019-05-07 04:00:00+00:00  London Westminster       no2   \n",
       "2065  London      GB 2019-05-07 03:00:00+00:00  London Westminster       no2   \n",
       "2066  London      GB 2019-05-07 02:00:00+00:00  London Westminster       no2   \n",
       "2067  London      GB 2019-05-07 01:00:00+00:00  London Westminster       no2   \n",
       "\n",
       "      value   unit  month  weekday  \n",
       "0      20.0  µg/m³      6        4  \n",
       "1      21.8  µg/m³      6        3  \n",
       "2      26.5  µg/m³      6        3  \n",
       "3      24.9  µg/m³      6        3  \n",
       "4      21.4  µg/m³      6        3  \n",
       "...     ...    ...    ...      ...  \n",
       "2063   26.0  µg/m³      5        1  \n",
       "2064   16.0  µg/m³      5        1  \n",
       "2065   19.0  µg/m³      5        1  \n",
       "2066   19.0  µg/m³      5        1  \n",
       "2067   23.0  µg/m³      5        1  \n",
       "\n",
       "[2068 rows x 9 columns]"
      ]
     },
     "execution_count": 9,
     "metadata": {},
     "output_type": "execute_result"
    }
   ],
   "source": [
    "import pandas as pd\n",
    "import matplotlib.pyplot as plt\n",
    "\n",
    "air_quality = pd.read_csv(air_quality_no2_long_csv)\n",
    "air_quality = air_quality.rename(columns={\"date.utc\": \"datetime\"})  # 지정한 속성의 이름 변경\n",
    "air_quality[\"datetime\"] = pd.to_datetime(air_quality[\"datetime\"])  # to_datetime : string을 날짜 object로 바꾸는 함수\n",
    "\n",
    "print(air_quality[\"datetime\"], end=\"\\n\\n\")  # 날짜 오브젝트로 바꾼 날짜 속성 출력\n",
    "print(air_quality[\"datetime\"].min(), end=\"\\n\\n\")  # 날짜 오브젝트 속성 중 최솟값 출력\n",
    "print(air_quality[\"datetime\"].max(), end=\"\\n\\n\")  # 날짜 오브젝트 속성 중 최댓값 출력\n",
    "print(air_quality[\"datetime\"].max() - air_quality[\"datetime\"].min(), end=\"\\n\\n\")  # 최댓값 - 최솟값 출력\n",
    "\n",
    "air_quality[\"month\"] = air_quality[\"datetime\"].dt.month\n",
    "air_quality[\"weekday\"] = air_quality[\"datetime\"].dt.weekday\n",
    "\n",
    "air_quality"
   ]
  },
  {
   "cell_type": "code",
   "execution_count": 10,
   "id": "4a10de06",
   "metadata": {
    "execution": {
     "iopub.execute_input": "2022-06-02T07:40:09.548991Z",
     "iopub.status.busy": "2022-06-02T07:40:09.548134Z",
     "iopub.status.idle": "2022-06-02T07:40:10.014076Z",
     "shell.execute_reply": "2022-06-02T07:40:10.013043Z"
    },
    "papermill": {
     "duration": 0.487505,
     "end_time": "2022-06-02T07:40:10.016200",
     "exception": false,
     "start_time": "2022-06-02T07:40:09.528695",
     "status": "completed"
    },
    "tags": []
   },
   "outputs": [
    {
     "data": {
      "image/png": "[encoded data removed]",
      "text/plain": [
       "<Figure size 864x288 with 1 Axes>"
      ]
     },
     "metadata": {
      "needs_background": "light"
     },
     "output_type": "display_data"
    }
   ],
   "source": [
    "fig, axs = plt.subplots(figsize=(12, 4))\n",
    "air_quality.groupby(air_quality[\"datetime\"].dt.hour)[\"value\"].mean().plot(kind='bar', rot=0, ax=axs)\n",
    "plt.xlabel(\"Hour of the day\")\n",
    "plt.ylabel(\"$No_2(\\mu g/m^3)$\")\n",
    "plt.show()"
   ]
  },
  {
   "cell_type": "code",
   "execution_count": 11,
   "id": "f177aed3",
   "metadata": {
    "execution": {
     "iopub.execute_input": "2022-06-02T07:40:10.055304Z",
     "iopub.status.busy": "2022-06-02T07:40:10.054628Z",
     "iopub.status.idle": "2022-06-02T07:40:10.424694Z",
     "shell.execute_reply": "2022-06-02T07:40:10.423858Z"
    },
    "papermill": {
     "duration": 0.391582,
     "end_time": "2022-06-02T07:40:10.426552",
     "exception": false,
     "start_time": "2022-06-02T07:40:10.034970",
     "status": "completed"
    },
    "tags": []
   },
   "outputs": [
    {
     "data": {
      "image/png": "[encoded data removed]",
      "text/plain": [
       "<Figure size 864x288 with 1 Axes>"
      ]
     },
     "metadata": {
      "needs_background": "light"
     },
     "output_type": "display_data"
    }
   ],
   "source": [
    "fig, axs = plt.subplots(figsize=(12, 4))\n",
    "air_quality.groupby(air_quality[\"datetime\"].dt.hour)[\"value\"].mean().plot(kind='bar', rot=0, ax=axs)\n",
    "plt.xlabel(\"Hour of the day\")\n",
    "plt.ylabel(\"$No_2(\\mu g/m^3)$\")\n",
    "plt.show()"
   ]
  },
  {
   "cell_type": "code",
   "execution_count": 12,
   "id": "0898505b",
   "metadata": {
    "execution": {
     "iopub.execute_input": "2022-06-02T07:40:10.452809Z",
     "iopub.status.busy": "2022-06-02T07:40:10.451545Z",
     "iopub.status.idle": "2022-06-02T07:40:10.653211Z",
     "shell.execute_reply": "2022-06-02T07:40:10.651848Z"
    },
    "papermill": {
     "duration": 0.216782,
     "end_time": "2022-06-02T07:40:10.655342",
     "exception": false,
     "start_time": "2022-06-02T07:40:10.438560",
     "status": "completed"
    },
    "tags": []
   },
   "outputs": [
    {
     "name": "stdout",
     "output_type": "stream",
     "text": [
      "location                   BETR801  FR04014  London Westminster\n",
      "datetime                                                       \n",
      "2019-05-07 01:00:00+00:00     50.5     25.0                23.0\n",
      "2019-05-07 02:00:00+00:00     45.0     27.7                19.0\n",
      "2019-05-07 03:00:00+00:00      NaN     50.4                19.0\n",
      "2019-05-07 04:00:00+00:00      NaN     61.9                16.0\n",
      "2019-05-07 05:00:00+00:00      NaN     72.4                 NaN\n",
      "\n",
      "Int64Index([2019, 2019, 2019, 2019, 2019, 2019, 2019, 2019, 2019, 2019,\n",
      "            ...\n",
      "            2019, 2019, 2019, 2019, 2019, 2019, 2019, 2019, 2019, 2019],\n",
      "           dtype='int64', name='datetime', length=1033)\n",
      "\n",
      "Int64Index([1, 1, 1, 1, 1, 1, 1, 1, 1, 1,\n",
      "            ...\n",
      "            3, 3, 3, 3, 3, 3, 3, 3, 3, 4],\n",
      "           dtype='int64', name='datetime', length=1033)\n",
      "\n"
     ]
    },
    {
     "data": {
      "image/png": "[encoded data removed]",
      "text/plain": [
       "<Figure size 432x288 with 1 Axes>"
      ]
     },
     "metadata": {
      "needs_background": "light"
     },
     "output_type": "display_data"
    }
   ],
   "source": [
    "no_2 = air_quality.pivot(index=\"datetime\", columns=\"location\", values=\"value\")\n",
    "print(no_2.head(), end=\"\\n\\n\")\n",
    "print(no_2.index.year, end=\"\\n\\n\")\n",
    "print(no_2.index.weekday, end=\"\\n\\n\")\n",
    "no_2[\"2019-05-20\":\"2019-05-21\"].plot()  # DatetimeIndex\n",
    "plt.show()"
   ]
  },
  {
   "cell_type": "markdown",
   "id": "97ab5b1d",
   "metadata": {
    "papermill": {
     "duration": 0.012083,
     "end_time": "2022-06-02T07:40:10.680354",
     "exception": false,
     "start_time": "2022-06-02T07:40:10.668271",
     "status": "completed"
    },
    "tags": []
   },
   "source": [
    "### 출석 대체 예제\n",
    "---"
   ]
  },
  {
   "cell_type": "code",
   "execution_count": 13,
   "id": "506de73d",
   "metadata": {
    "_kg_hide-input": true,
    "_kg_hide-output": true,
    "execution": {
     "iopub.execute_input": "2022-06-02T07:40:10.707855Z",
     "iopub.status.busy": "2022-06-02T07:40:10.707213Z",
     "iopub.status.idle": "2022-06-02T07:40:11.262671Z",
     "shell.execute_reply": "2022-06-02T07:40:11.261524Z"
    },
    "papermill": {
     "duration": 0.571979,
     "end_time": "2022-06-02T07:40:11.264825",
     "exception": false,
     "start_time": "2022-06-02T07:40:10.692846",
     "status": "completed"
    },
    "scrolled": true,
    "tags": []
   },
   "outputs": [
    {
     "name": "stdout",
     "output_type": "stream",
     "text": [
      "0      2019-06-21 00:00:00+00:00\n",
      "1      2019-06-20 23:00:00+00:00\n",
      "2      2019-06-20 22:00:00+00:00\n",
      "3      2019-06-20 21:00:00+00:00\n",
      "4      2019-06-20 20:00:00+00:00\n",
      "                  ...           \n",
      "2063   2019-05-07 06:00:00+00:00\n",
      "2064   2019-05-07 04:00:00+00:00\n",
      "2065   2019-05-07 03:00:00+00:00\n",
      "2066   2019-05-07 02:00:00+00:00\n",
      "2067   2019-05-07 01:00:00+00:00\n",
      "Name: datetime, Length: 2068, dtype: datetime64[ns, UTC]\n",
      "2019-05-07 01:00:00+00:00\n",
      "2019-06-21 00:00:00+00:00\n",
      "44 days 23:00:00\n"
     ]
    },
    {
     "data": {
      "image/png": "[encoded data removed]",
      "text/plain": [
       "<Figure size 864x288 with 1 Axes>"
      ]
     },
     "metadata": {
      "needs_background": "light"
     },
     "output_type": "display_data"
    },
    {
     "name": "stdout",
     "output_type": "stream",
     "text": [
      "location                   BETR801  FR04014  London Westminster\n",
      "datetime                                                       \n",
      "2019-05-07 01:00:00+00:00     50.5     25.0                23.0\n",
      "2019-05-07 02:00:00+00:00     45.0     27.7                19.0\n",
      "2019-05-07 03:00:00+00:00      NaN     50.4                19.0\n",
      "2019-05-07 04:00:00+00:00      NaN     61.9                16.0\n",
      "2019-05-07 05:00:00+00:00      NaN     72.4                 NaN\n",
      "Int64Index([2019, 2019, 2019, 2019, 2019, 2019, 2019, 2019, 2019, 2019,\n",
      "            ...\n",
      "            2019, 2019, 2019, 2019, 2019, 2019, 2019, 2019, 2019, 2019],\n",
      "           dtype='int64', name='datetime', length=1033)\n",
      "Int64Index([1, 1, 1, 1, 1, 1, 1, 1, 1, 1,\n",
      "            ...\n",
      "            3, 3, 3, 3, 3, 3, 3, 3, 3, 4],\n",
      "           dtype='int64', name='datetime', length=1033)\n"
     ]
    },
    {
     "data": {
      "image/png": "[encoded data removed]",
      "text/plain": [
       "<Figure size 432x288 with 1 Axes>"
      ]
     },
     "metadata": {
      "needs_background": "light"
     },
     "output_type": "display_data"
    }
   ],
   "source": [
    "import pandas as pd\n",
    "import matplotlib.pyplot as plt\n",
    "\n",
    "air_quality = pd.read_csv(air_quality_no2_long_csv)\n",
    "air_quality = air_quality.rename(columns={\"date.utc\": \"datetime\"})\n",
    "air_quality[\"datetime\"] = pd.to_datetime(air_quality[\"datetime\"])\n",
    "print(air_quality[\"datetime\"])\n",
    "print(air_quality[\"datetime\"].min())\n",
    "print(air_quality[\"datetime\"].max())\n",
    "print(air_quality[\"datetime\"].max()-air_quality[\"datetime\"].min())\n",
    "air_quality[\"month\"] = air_quality[\"datetime\"].dt.month\n",
    "air_quality[\"weekday\"] = air_quality[\"datetime\"].dt.weekday\n",
    "\n",
    "fig,axs = plt.subplots(figsize=(12,4))\n",
    "air_quality.groupby(air_quality[\"datetime\"].dt.hour)[\"value\"].mean().plot(kind='bar', rot=0, ax=axs)\n",
    "plt.xlabel(\"Hour of the day\")\n",
    "plt.ylabel(\"$No_2(\\mu g/m^3)$\")\n",
    "plt.show()\n",
    "\n",
    "no_2 = air_quality.pivot(index=\"datetime\", columns=\"location\", \n",
    "values=\"value\")\n",
    "print(no_2.head())\n",
    "print(no_2.index.year);print(no_2.index.weekday)\n",
    "no_2[\"2019-05-20\":\"2019-05-21\"].plot()\n",
    "plt.show()"
   ]
  },
  {
   "cell_type": "markdown",
   "id": "e42f2ce0",
   "metadata": {
    "papermill": {
     "duration": 0.013721,
     "end_time": "2022-06-02T07:40:11.292415",
     "exception": false,
     "start_time": "2022-06-02T07:40:11.278694",
     "status": "completed"
    },
    "tags": []
   },
   "source": [
    "## Missing data processing\n",
    "---\n",
    "- `isna()` : NaN이면 True\n",
    "- `notna()` : NaN이면 False"
   ]
  },
  {
   "cell_type": "code",
   "execution_count": 14,
   "id": "f7e1f7a2",
   "metadata": {
    "execution": {
     "iopub.execute_input": "2022-06-02T07:40:11.323271Z",
     "iopub.status.busy": "2022-06-02T07:40:11.322514Z",
     "iopub.status.idle": "2022-06-02T07:40:11.340788Z",
     "shell.execute_reply": "2022-06-02T07:40:11.340115Z"
    },
    "papermill": {
     "duration": 0.035737,
     "end_time": "2022-06-02T07:40:11.343095",
     "exception": false,
     "start_time": "2022-06-02T07:40:11.307358",
     "status": "completed"
    },
    "tags": []
   },
   "outputs": [
    {
     "data": {
      "text/html": [
       "<div>\n",
       "<style scoped>\n",
       "    .dataframe tbody tr th:only-of-type {\n",
       "        vertical-align: middle;\n",
       "    }\n",
       "\n",
       "    .dataframe tbody tr th {\n",
       "        vertical-align: top;\n",
       "    }\n",
       "\n",
       "    .dataframe thead th {\n",
       "        text-align: right;\n",
       "    }\n",
       "</style>\n",
       "<table border=\"1\" class=\"dataframe\">\n",
       "  <thead>\n",
       "    <tr style=\"text-align: right;\">\n",
       "      <th></th>\n",
       "      <th>one</th>\n",
       "      <th>two</th>\n",
       "      <th>three</th>\n",
       "      <th>four</th>\n",
       "      <th>five</th>\n",
       "    </tr>\n",
       "  </thead>\n",
       "  <tbody>\n",
       "    <tr>\n",
       "      <th>a</th>\n",
       "      <td>-1.696085</td>\n",
       "      <td>1.071061</td>\n",
       "      <td>0.069102</td>\n",
       "      <td>bar</td>\n",
       "      <td>False</td>\n",
       "    </tr>\n",
       "    <tr>\n",
       "      <th>c</th>\n",
       "      <td>0.201115</td>\n",
       "      <td>0.221156</td>\n",
       "      <td>-0.267883</td>\n",
       "      <td>bar</td>\n",
       "      <td>True</td>\n",
       "    </tr>\n",
       "    <tr>\n",
       "      <th>e</th>\n",
       "      <td>-0.880595</td>\n",
       "      <td>1.100627</td>\n",
       "      <td>1.087989</td>\n",
       "      <td>bar</td>\n",
       "      <td>False</td>\n",
       "    </tr>\n",
       "    <tr>\n",
       "      <th>f</th>\n",
       "      <td>0.563704</td>\n",
       "      <td>-0.713726</td>\n",
       "      <td>0.172763</td>\n",
       "      <td>bar</td>\n",
       "      <td>True</td>\n",
       "    </tr>\n",
       "    <tr>\n",
       "      <th>h</th>\n",
       "      <td>0.138510</td>\n",
       "      <td>-0.930306</td>\n",
       "      <td>-1.076665</td>\n",
       "      <td>bar</td>\n",
       "      <td>True</td>\n",
       "    </tr>\n",
       "  </tbody>\n",
       "</table>\n",
       "</div>"
      ],
      "text/plain": [
       "        one       two     three four   five\n",
       "a -1.696085  1.071061  0.069102  bar  False\n",
       "c  0.201115  0.221156 -0.267883  bar   True\n",
       "e -0.880595  1.100627  1.087989  bar  False\n",
       "f  0.563704 -0.713726  0.172763  bar   True\n",
       "h  0.138510 -0.930306 -1.076665  bar   True"
      ]
     },
     "execution_count": 14,
     "metadata": {},
     "output_type": "execute_result"
    }
   ],
   "source": [
    "import pandas as pd\n",
    "import numpy as np\n",
    "\n",
    "df = pd.DataFrame(np.random.randn(5, 3),\n",
    "                  index=[\"a\", \"c\", \"e\", \"f\", \"h\"],\n",
    "                  columns=[\"one\", \"two\", \"three\"],\n",
    "                 )\n",
    "\n",
    "df[\"four\"] = \"bar\"  # 새 속성의 모든 값이 \"bar\"가 됨\n",
    "df[\"five\"] = df[\"one\"] > 0  # 새 속성에 식의 결과값이 각각 저장됨\n",
    "\n",
    "df"
   ]
  },
  {
   "cell_type": "code",
   "execution_count": 15,
   "id": "36cc1a36",
   "metadata": {
    "execution": {
     "iopub.execute_input": "2022-06-02T07:40:11.372353Z",
     "iopub.status.busy": "2022-06-02T07:40:11.371675Z",
     "iopub.status.idle": "2022-06-02T07:40:11.381562Z",
     "shell.execute_reply": "2022-06-02T07:40:11.380644Z"
    },
    "papermill": {
     "duration": 0.026394,
     "end_time": "2022-06-02T07:40:11.383225",
     "exception": false,
     "start_time": "2022-06-02T07:40:11.356831",
     "status": "completed"
    },
    "scrolled": true,
    "tags": []
   },
   "outputs": [
    {
     "data": {
      "text/plain": [
       "a   -1.696085\n",
       "b         NaN\n",
       "c    0.201115\n",
       "d         NaN\n",
       "e   -0.880595\n",
       "f    0.563704\n",
       "g         NaN\n",
       "h    0.138510\n",
       "Name: one, dtype: float64"
      ]
     },
     "execution_count": 15,
     "metadata": {},
     "output_type": "execute_result"
    }
   ],
   "source": [
    "df2 = df.reindex([\"a\", \"b\", \"c\", \"d\", \"e\", \"f\", \"g\", \"h\"])  # 위에서 사용한 데이터프레임의 인덱스(행 번호) 이름을 다시 지정함\n",
    "# 원래는 없던 인덱스가 있다면 NaN으로 채워짐\n",
    "\n",
    "df2[\"one\"]"
   ]
  },
  {
   "cell_type": "code",
   "execution_count": 16,
   "id": "6590f030",
   "metadata": {
    "execution": {
     "iopub.execute_input": "2022-06-02T07:40:11.413830Z",
     "iopub.status.busy": "2022-06-02T07:40:11.412819Z",
     "iopub.status.idle": "2022-06-02T07:40:11.422269Z",
     "shell.execute_reply": "2022-06-02T07:40:11.420997Z"
    },
    "papermill": {
     "duration": 0.026815,
     "end_time": "2022-06-02T07:40:11.424158",
     "exception": false,
     "start_time": "2022-06-02T07:40:11.397343",
     "status": "completed"
    },
    "tags": []
   },
   "outputs": [
    {
     "data": {
      "text/plain": [
       "a    False\n",
       "b     True\n",
       "c    False\n",
       "d     True\n",
       "e    False\n",
       "f    False\n",
       "g     True\n",
       "h    False\n",
       "Name: one, dtype: bool"
      ]
     },
     "execution_count": 16,
     "metadata": {},
     "output_type": "execute_result"
    }
   ],
   "source": [
    "pd.isna(df2[\"one\"])  # NaN이면 True"
   ]
  },
  {
   "cell_type": "code",
   "execution_count": 17,
   "id": "3f2f73ab",
   "metadata": {
    "execution": {
     "iopub.execute_input": "2022-06-02T07:40:11.453742Z",
     "iopub.status.busy": "2022-06-02T07:40:11.453144Z",
     "iopub.status.idle": "2022-06-02T07:40:11.460792Z",
     "shell.execute_reply": "2022-06-02T07:40:11.459996Z"
    },
    "papermill": {
     "duration": 0.024688,
     "end_time": "2022-06-02T07:40:11.462448",
     "exception": false,
     "start_time": "2022-06-02T07:40:11.437760",
     "status": "completed"
    },
    "tags": []
   },
   "outputs": [
    {
     "data": {
      "text/plain": [
       "a     True\n",
       "b    False\n",
       "c     True\n",
       "d    False\n",
       "e     True\n",
       "f     True\n",
       "g    False\n",
       "h     True\n",
       "Name: four, dtype: bool"
      ]
     },
     "execution_count": 17,
     "metadata": {},
     "output_type": "execute_result"
    }
   ],
   "source": [
    "df2[\"four\"].notna()  # NaN이면 False"
   ]
  },
  {
   "cell_type": "code",
   "execution_count": 18,
   "id": "7c2a79b5",
   "metadata": {
    "execution": {
     "iopub.execute_input": "2022-06-02T07:40:11.491675Z",
     "iopub.status.busy": "2022-06-02T07:40:11.491074Z",
     "iopub.status.idle": "2022-06-02T07:40:11.503684Z",
     "shell.execute_reply": "2022-06-02T07:40:11.502995Z"
    },
    "papermill": {
     "duration": 0.029175,
     "end_time": "2022-06-02T07:40:11.505306",
     "exception": false,
     "start_time": "2022-06-02T07:40:11.476131",
     "status": "completed"
    },
    "tags": []
   },
   "outputs": [
    {
     "data": {
      "text/html": [
       "<div>\n",
       "<style scoped>\n",
       "    .dataframe tbody tr th:only-of-type {\n",
       "        vertical-align: middle;\n",
       "    }\n",
       "\n",
       "    .dataframe tbody tr th {\n",
       "        vertical-align: top;\n",
       "    }\n",
       "\n",
       "    .dataframe thead th {\n",
       "        text-align: right;\n",
       "    }\n",
       "</style>\n",
       "<table border=\"1\" class=\"dataframe\">\n",
       "  <thead>\n",
       "    <tr style=\"text-align: right;\">\n",
       "      <th></th>\n",
       "      <th>one</th>\n",
       "      <th>two</th>\n",
       "      <th>three</th>\n",
       "      <th>four</th>\n",
       "      <th>five</th>\n",
       "    </tr>\n",
       "  </thead>\n",
       "  <tbody>\n",
       "    <tr>\n",
       "      <th>a</th>\n",
       "      <td>False</td>\n",
       "      <td>False</td>\n",
       "      <td>False</td>\n",
       "      <td>False</td>\n",
       "      <td>False</td>\n",
       "    </tr>\n",
       "    <tr>\n",
       "      <th>b</th>\n",
       "      <td>True</td>\n",
       "      <td>True</td>\n",
       "      <td>True</td>\n",
       "      <td>True</td>\n",
       "      <td>True</td>\n",
       "    </tr>\n",
       "    <tr>\n",
       "      <th>c</th>\n",
       "      <td>False</td>\n",
       "      <td>False</td>\n",
       "      <td>False</td>\n",
       "      <td>False</td>\n",
       "      <td>False</td>\n",
       "    </tr>\n",
       "    <tr>\n",
       "      <th>d</th>\n",
       "      <td>True</td>\n",
       "      <td>True</td>\n",
       "      <td>True</td>\n",
       "      <td>True</td>\n",
       "      <td>True</td>\n",
       "    </tr>\n",
       "    <tr>\n",
       "      <th>e</th>\n",
       "      <td>False</td>\n",
       "      <td>False</td>\n",
       "      <td>False</td>\n",
       "      <td>False</td>\n",
       "      <td>False</td>\n",
       "    </tr>\n",
       "    <tr>\n",
       "      <th>f</th>\n",
       "      <td>False</td>\n",
       "      <td>False</td>\n",
       "      <td>False</td>\n",
       "      <td>False</td>\n",
       "      <td>False</td>\n",
       "    </tr>\n",
       "    <tr>\n",
       "      <th>g</th>\n",
       "      <td>True</td>\n",
       "      <td>True</td>\n",
       "      <td>True</td>\n",
       "      <td>True</td>\n",
       "      <td>True</td>\n",
       "    </tr>\n",
       "    <tr>\n",
       "      <th>h</th>\n",
       "      <td>False</td>\n",
       "      <td>False</td>\n",
       "      <td>False</td>\n",
       "      <td>False</td>\n",
       "      <td>False</td>\n",
       "    </tr>\n",
       "  </tbody>\n",
       "</table>\n",
       "</div>"
      ],
      "text/plain": [
       "     one    two  three   four   five\n",
       "a  False  False  False  False  False\n",
       "b   True   True   True   True   True\n",
       "c  False  False  False  False  False\n",
       "d   True   True   True   True   True\n",
       "e  False  False  False  False  False\n",
       "f  False  False  False  False  False\n",
       "g   True   True   True   True   True\n",
       "h  False  False  False  False  False"
      ]
     },
     "execution_count": 18,
     "metadata": {},
     "output_type": "execute_result"
    }
   ],
   "source": [
    "df2.isna()  # NaN이면 True"
   ]
  },
  {
   "cell_type": "markdown",
   "id": "749c6a8b",
   "metadata": {
    "papermill": {
     "duration": 0.013651,
     "end_time": "2022-06-02T07:40:11.532942",
     "exception": false,
     "start_time": "2022-06-02T07:40:11.519291",
     "status": "completed"
    },
    "tags": []
   },
   "source": [
    "### Missing data가 있을 때의 연산   \n",
    "- NaN + 값 = NaN\n",
    "- `sum()`, `mean()` 등 함수에 의한 계산은 NaN 값을 자동으로 무시함\n",
    "- `cumsum()` : 누적합\n",
    "    - `skipna=False` : NaN 포함해서 계산함"
   ]
  },
  {
   "cell_type": "code",
   "execution_count": 19,
   "id": "1085ad1e",
   "metadata": {
    "execution": {
     "iopub.execute_input": "2022-06-02T07:40:11.562836Z",
     "iopub.status.busy": "2022-06-02T07:40:11.562207Z",
     "iopub.status.idle": "2022-06-02T07:40:11.582727Z",
     "shell.execute_reply": "2022-06-02T07:40:11.582107Z"
    },
    "papermill": {
     "duration": 0.03808,
     "end_time": "2022-06-02T07:40:11.584836",
     "exception": false,
     "start_time": "2022-06-02T07:40:11.546756",
     "status": "completed"
    },
    "tags": []
   },
   "outputs": [
    {
     "data": {
      "text/html": [
       "<div>\n",
       "<style scoped>\n",
       "    .dataframe tbody tr th:only-of-type {\n",
       "        vertical-align: middle;\n",
       "    }\n",
       "\n",
       "    .dataframe tbody tr th {\n",
       "        vertical-align: top;\n",
       "    }\n",
       "\n",
       "    .dataframe thead th {\n",
       "        text-align: right;\n",
       "    }\n",
       "</style>\n",
       "<table border=\"1\" class=\"dataframe\">\n",
       "  <thead>\n",
       "    <tr style=\"text-align: right;\">\n",
       "      <th></th>\n",
       "      <th>one</th>\n",
       "      <th>three</th>\n",
       "      <th>two</th>\n",
       "    </tr>\n",
       "  </thead>\n",
       "  <tbody>\n",
       "    <tr>\n",
       "      <th>a</th>\n",
       "      <td>NaN</td>\n",
       "      <td>NaN</td>\n",
       "      <td>-0.565726</td>\n",
       "    </tr>\n",
       "    <tr>\n",
       "      <th>c</th>\n",
       "      <td>NaN</td>\n",
       "      <td>NaN</td>\n",
       "      <td>2.424224</td>\n",
       "    </tr>\n",
       "    <tr>\n",
       "      <th>e</th>\n",
       "      <td>-0.398418</td>\n",
       "      <td>NaN</td>\n",
       "      <td>-2.088472</td>\n",
       "    </tr>\n",
       "    <tr>\n",
       "      <th>f</th>\n",
       "      <td>NaN</td>\n",
       "      <td>NaN</td>\n",
       "      <td>-0.989858</td>\n",
       "    </tr>\n",
       "    <tr>\n",
       "      <th>h</th>\n",
       "      <td>-4.210269</td>\n",
       "      <td>NaN</td>\n",
       "      <td>-1.413542</td>\n",
       "    </tr>\n",
       "  </tbody>\n",
       "</table>\n",
       "</div>"
      ],
      "text/plain": [
       "        one  three       two\n",
       "a       NaN    NaN -0.565726\n",
       "c       NaN    NaN  2.424224\n",
       "e -0.398418    NaN -2.088472\n",
       "f       NaN    NaN -0.989858\n",
       "h -4.210269    NaN -1.413542"
      ]
     },
     "execution_count": 19,
     "metadata": {},
     "output_type": "execute_result"
    }
   ],
   "source": [
    "a = pd.DataFrame([[np.nan, -0.282863],\n",
    "                  [np.nan, 1.212112],\n",
    "                  [-.199209,-1.044236],\n",
    "                  [-2.104569, -0.494929],\n",
    "                  [-2.104569, -0.706771]],\n",
    "                 index=[\"a\", \"c\", \"e\", \"f\", \"h\"],\n",
    "                 columns=[\"one\", \"two\"],\n",
    "                )\n",
    "\n",
    "b = pd.DataFrame([[np.nan, -0.282863, -1.509059],\n",
    "                  [np.nan, 1.212112, -0.173215],\n",
    "                  [-.199209, -1.044236, -0.861849],\n",
    "                  [np.nan, - 0.494929, 1.071804],\n",
    "                  [-2.1057, -0.706771,-1.039575]],\n",
    "                 index=[\"a\", \"c\", \"e\", \"f\", \"h\"],\n",
    "                 columns=[\"one\", \"two\", \"three\"],\n",
    "                )\n",
    "\n",
    "a + b"
   ]
  },
  {
   "cell_type": "code",
   "execution_count": 20,
   "id": "3d872d63",
   "metadata": {
    "execution": {
     "iopub.execute_input": "2022-06-02T07:40:11.616381Z",
     "iopub.status.busy": "2022-06-02T07:40:11.615628Z",
     "iopub.status.idle": "2022-06-02T07:40:11.623245Z",
     "shell.execute_reply": "2022-06-02T07:40:11.621943Z"
    },
    "papermill": {
     "duration": 0.025761,
     "end_time": "2022-06-02T07:40:11.625229",
     "exception": false,
     "start_time": "2022-06-02T07:40:11.599468",
     "status": "completed"
    },
    "tags": []
   },
   "outputs": [
    {
     "data": {
      "text/plain": [
       "-2.3049090000000003"
      ]
     },
     "execution_count": 20,
     "metadata": {},
     "output_type": "execute_result"
    }
   ],
   "source": [
    "b[\"one\"].sum()"
   ]
  },
  {
   "cell_type": "code",
   "execution_count": 21,
   "id": "8cc6cc5f",
   "metadata": {
    "execution": {
     "iopub.execute_input": "2022-06-02T07:40:11.656714Z",
     "iopub.status.busy": "2022-06-02T07:40:11.656192Z",
     "iopub.status.idle": "2022-06-02T07:40:11.664094Z",
     "shell.execute_reply": "2022-06-02T07:40:11.663389Z"
    },
    "papermill": {
     "duration": 0.025897,
     "end_time": "2022-06-02T07:40:11.665845",
     "exception": false,
     "start_time": "2022-06-02T07:40:11.639948",
     "status": "completed"
    },
    "tags": []
   },
   "outputs": [
    {
     "data": {
      "text/plain": [
       "a   -0.895961\n",
       "c    0.519448\n",
       "e   -0.701765\n",
       "f    0.288438\n",
       "h   -1.284015\n",
       "dtype: float64"
      ]
     },
     "execution_count": 21,
     "metadata": {},
     "output_type": "execute_result"
    }
   ],
   "source": [
    "b.mean(1)  # 0은 열(속성) 단위 계산, 1은 인덱스 단위 계산"
   ]
  },
  {
   "cell_type": "code",
   "execution_count": 22,
   "id": "4cd82a51",
   "metadata": {
    "execution": {
     "iopub.execute_input": "2022-06-02T07:40:11.696952Z",
     "iopub.status.busy": "2022-06-02T07:40:11.696243Z",
     "iopub.status.idle": "2022-06-02T07:40:11.707959Z",
     "shell.execute_reply": "2022-06-02T07:40:11.707017Z"
    },
    "papermill": {
     "duration": 0.02918,
     "end_time": "2022-06-02T07:40:11.709579",
     "exception": false,
     "start_time": "2022-06-02T07:40:11.680399",
     "status": "completed"
    },
    "tags": []
   },
   "outputs": [
    {
     "data": {
      "text/html": [
       "<div>\n",
       "<style scoped>\n",
       "    .dataframe tbody tr th:only-of-type {\n",
       "        vertical-align: middle;\n",
       "    }\n",
       "\n",
       "    .dataframe tbody tr th {\n",
       "        vertical-align: top;\n",
       "    }\n",
       "\n",
       "    .dataframe thead th {\n",
       "        text-align: right;\n",
       "    }\n",
       "</style>\n",
       "<table border=\"1\" class=\"dataframe\">\n",
       "  <thead>\n",
       "    <tr style=\"text-align: right;\">\n",
       "      <th></th>\n",
       "      <th>one</th>\n",
       "      <th>two</th>\n",
       "      <th>three</th>\n",
       "    </tr>\n",
       "  </thead>\n",
       "  <tbody>\n",
       "    <tr>\n",
       "      <th>a</th>\n",
       "      <td>NaN</td>\n",
       "      <td>-0.282863</td>\n",
       "      <td>-1.509059</td>\n",
       "    </tr>\n",
       "    <tr>\n",
       "      <th>c</th>\n",
       "      <td>NaN</td>\n",
       "      <td>0.929249</td>\n",
       "      <td>-1.682274</td>\n",
       "    </tr>\n",
       "    <tr>\n",
       "      <th>e</th>\n",
       "      <td>-0.199209</td>\n",
       "      <td>-0.114987</td>\n",
       "      <td>-2.544123</td>\n",
       "    </tr>\n",
       "    <tr>\n",
       "      <th>f</th>\n",
       "      <td>NaN</td>\n",
       "      <td>-0.609916</td>\n",
       "      <td>-1.472319</td>\n",
       "    </tr>\n",
       "    <tr>\n",
       "      <th>h</th>\n",
       "      <td>-2.304909</td>\n",
       "      <td>-1.316687</td>\n",
       "      <td>-2.511894</td>\n",
       "    </tr>\n",
       "  </tbody>\n",
       "</table>\n",
       "</div>"
      ],
      "text/plain": [
       "        one       two     three\n",
       "a       NaN -0.282863 -1.509059\n",
       "c       NaN  0.929249 -1.682274\n",
       "e -0.199209 -0.114987 -2.544123\n",
       "f       NaN -0.609916 -1.472319\n",
       "h -2.304909 -1.316687 -2.511894"
      ]
     },
     "execution_count": 22,
     "metadata": {},
     "output_type": "execute_result"
    }
   ],
   "source": [
    "b.cumsum()  # 누적합"
   ]
  },
  {
   "cell_type": "code",
   "execution_count": 23,
   "id": "4f99ecd4",
   "metadata": {
    "execution": {
     "iopub.execute_input": "2022-06-02T07:40:11.741090Z",
     "iopub.status.busy": "2022-06-02T07:40:11.740386Z",
     "iopub.status.idle": "2022-06-02T07:40:11.752413Z",
     "shell.execute_reply": "2022-06-02T07:40:11.751582Z"
    },
    "papermill": {
     "duration": 0.029892,
     "end_time": "2022-06-02T07:40:11.754163",
     "exception": false,
     "start_time": "2022-06-02T07:40:11.724271",
     "status": "completed"
    },
    "tags": []
   },
   "outputs": [
    {
     "data": {
      "text/html": [
       "<div>\n",
       "<style scoped>\n",
       "    .dataframe tbody tr th:only-of-type {\n",
       "        vertical-align: middle;\n",
       "    }\n",
       "\n",
       "    .dataframe tbody tr th {\n",
       "        vertical-align: top;\n",
       "    }\n",
       "\n",
       "    .dataframe thead th {\n",
       "        text-align: right;\n",
       "    }\n",
       "</style>\n",
       "<table border=\"1\" class=\"dataframe\">\n",
       "  <thead>\n",
       "    <tr style=\"text-align: right;\">\n",
       "      <th></th>\n",
       "      <th>one</th>\n",
       "      <th>two</th>\n",
       "      <th>three</th>\n",
       "    </tr>\n",
       "  </thead>\n",
       "  <tbody>\n",
       "    <tr>\n",
       "      <th>a</th>\n",
       "      <td>NaN</td>\n",
       "      <td>-0.282863</td>\n",
       "      <td>-1.509059</td>\n",
       "    </tr>\n",
       "    <tr>\n",
       "      <th>c</th>\n",
       "      <td>NaN</td>\n",
       "      <td>0.929249</td>\n",
       "      <td>-1.682274</td>\n",
       "    </tr>\n",
       "    <tr>\n",
       "      <th>e</th>\n",
       "      <td>NaN</td>\n",
       "      <td>-0.114987</td>\n",
       "      <td>-2.544123</td>\n",
       "    </tr>\n",
       "    <tr>\n",
       "      <th>f</th>\n",
       "      <td>NaN</td>\n",
       "      <td>-0.609916</td>\n",
       "      <td>-1.472319</td>\n",
       "    </tr>\n",
       "    <tr>\n",
       "      <th>h</th>\n",
       "      <td>NaN</td>\n",
       "      <td>-1.316687</td>\n",
       "      <td>-2.511894</td>\n",
       "    </tr>\n",
       "  </tbody>\n",
       "</table>\n",
       "</div>"
      ],
      "text/plain": [
       "   one       two     three\n",
       "a  NaN -0.282863 -1.509059\n",
       "c  NaN  0.929249 -1.682274\n",
       "e  NaN -0.114987 -2.544123\n",
       "f  NaN -0.609916 -1.472319\n",
       "h  NaN -1.316687 -2.511894"
      ]
     },
     "execution_count": 23,
     "metadata": {},
     "output_type": "execute_result"
    }
   ],
   "source": [
    "b.cumsum(skipna=False)"
   ]
  },
  {
   "cell_type": "markdown",
   "id": "253e533e",
   "metadata": {
    "papermill": {
     "duration": 0.014444,
     "end_time": "2022-06-02T07:40:11.783409",
     "exception": false,
     "start_time": "2022-06-02T07:40:11.768965",
     "status": "completed"
    },
    "tags": []
   },
   "source": [
    "- 비어있거나 모두 NaN인 Series의 합은 0, 곱은 1\n",
    "- `GroupBy()` : NaN은 자동 제외"
   ]
  },
  {
   "cell_type": "code",
   "execution_count": 24,
   "id": "c50883a7",
   "metadata": {
    "execution": {
     "iopub.execute_input": "2022-06-02T07:40:11.815981Z",
     "iopub.status.busy": "2022-06-02T07:40:11.815305Z",
     "iopub.status.idle": "2022-06-02T07:40:11.839790Z",
     "shell.execute_reply": "2022-06-02T07:40:11.838354Z"
    },
    "papermill": {
     "duration": 0.043205,
     "end_time": "2022-06-02T07:40:11.841832",
     "exception": false,
     "start_time": "2022-06-02T07:40:11.798627",
     "status": "completed"
    },
    "tags": []
   },
   "outputs": [
    {
     "name": "stdout",
     "output_type": "stream",
     "text": [
      "0.0\n",
      "\n",
      "0.0\n",
      "\n",
      "1.0\n",
      "\n",
      "1.0\n",
      "\n"
     ]
    },
    {
     "data": {
      "text/html": [
       "<div>\n",
       "<style scoped>\n",
       "    .dataframe tbody tr th:only-of-type {\n",
       "        vertical-align: middle;\n",
       "    }\n",
       "\n",
       "    .dataframe tbody tr th {\n",
       "        vertical-align: top;\n",
       "    }\n",
       "\n",
       "    .dataframe thead th {\n",
       "        text-align: right;\n",
       "    }\n",
       "</style>\n",
       "<table border=\"1\" class=\"dataframe\">\n",
       "  <thead>\n",
       "    <tr style=\"text-align: right;\">\n",
       "      <th></th>\n",
       "      <th>two</th>\n",
       "    </tr>\n",
       "    <tr>\n",
       "      <th>one</th>\n",
       "      <th></th>\n",
       "    </tr>\n",
       "  </thead>\n",
       "  <tbody>\n",
       "    <tr>\n",
       "      <th>-0.199209</th>\n",
       "      <td>-1.044236</td>\n",
       "    </tr>\n",
       "  </tbody>\n",
       "</table>\n",
       "</div>"
      ],
      "text/plain": [
       "                two\n",
       "one                \n",
       "-0.199209 -1.044236"
      ]
     },
     "execution_count": 24,
     "metadata": {},
     "output_type": "execute_result"
    }
   ],
   "source": [
    "print(pd.Series([np.nan]).sum(), end=\"\\n\\n\")\n",
    "print(pd.Series([], dtype=\"float64\").sum(), end=\"\\n\\n\")\n",
    "print(pd.Series([np.nan]).prod(), end=\"\\n\\n\")  # 곱\n",
    "print(pd.Series([], dtype=\"float64\").prod(), end=\"\\n\\n\")  # 곱\n",
    "\n",
    "b = pd.DataFrame([[np.nan, -0.282863],\n",
    "                  [np.nan, 1.212112],\n",
    "                  [-.199209,-1.044236],\n",
    "                  [np.nan, -0.494929],],\n",
    "                 index=[\"a\", \"c\", \"e\", \"f\"],\n",
    "                 columns=[\"one\", \"two\"],\n",
    "                 )\n",
    "\n",
    "b.groupby(\"one\").mean()"
   ]
  },
  {
   "cell_type": "markdown",
   "id": "fb780232",
   "metadata": {
    "papermill": {
     "duration": 0.015324,
     "end_time": "2022-06-02T07:40:11.873121",
     "exception": false,
     "start_time": "2022-06-02T07:40:11.857797",
     "status": "completed"
    },
    "tags": []
   },
   "source": [
    "### 손실 데이터 채우기\n",
    "- `fillna()` : NaN을 지정한 값으로 채움"
   ]
  },
  {
   "cell_type": "code",
   "execution_count": 25,
   "id": "9e434576",
   "metadata": {
    "execution": {
     "iopub.execute_input": "2022-06-02T07:40:11.906877Z",
     "iopub.status.busy": "2022-06-02T07:40:11.906463Z",
     "iopub.status.idle": "2022-06-02T07:40:11.922978Z",
     "shell.execute_reply": "2022-06-02T07:40:11.921619Z"
    },
    "papermill": {
     "duration": 0.036818,
     "end_time": "2022-06-02T07:40:11.925508",
     "exception": false,
     "start_time": "2022-06-02T07:40:11.888690",
     "status": "completed"
    },
    "tags": []
   },
   "outputs": [
    {
     "name": "stdout",
     "output_type": "stream",
     "text": [
      "        one       two\n",
      "a  0.000000 -0.282863\n",
      "c  0.000000  1.212112\n",
      "e -0.199209 -1.044236\n",
      "f  0.000000 -0.494929\n",
      "\n",
      "        one       two\n",
      "a   no data -0.282863\n",
      "c   no data  1.212112\n",
      "e -0.199209 -1.044236\n",
      "f   no data -0.494929\n",
      "\n",
      "        one       two\n",
      "a       NaN -0.282863\n",
      "c       NaN  1.212112\n",
      "e -0.199209 -1.044236\n",
      "f -0.199209 -0.494929\n",
      "\n"
     ]
    }
   ],
   "source": [
    "b = pd.DataFrame([[np.nan, -0.282863],\n",
    "                  [np.nan, 1.212112],\n",
    "                  [-.199209,-1.044236],\n",
    "                  [np.nan, -0.494929],],\n",
    "                 index=[\"a\", \"c\", \"e\", \"f\"],\n",
    "                 columns=[\"one\", \"two\"],\n",
    "                )\n",
    "\n",
    "b1 = b\n",
    "b2 = b\n",
    "\n",
    "print(b.fillna(0), end=\"\\n\\n\")\n",
    "print(b1.fillna(\"no data\"), end=\"\\n\\n\")\n",
    "print(b2.fillna(method=\"pad\"), end=\"\\n\\n\")"
   ]
  },
  {
   "cell_type": "markdown",
   "id": "8bd6f574",
   "metadata": {
    "papermill": {
     "duration": 0.015267,
     "end_time": "2022-06-02T07:40:11.957937",
     "exception": false,
     "start_time": "2022-06-02T07:40:11.942670",
     "status": "completed"
    },
    "tags": []
   },
   "source": [
    "- `mean()` : Column의 평균으로 채움"
   ]
  },
  {
   "cell_type": "code",
   "execution_count": 26,
   "id": "bdd2e4f9",
   "metadata": {
    "execution": {
     "iopub.execute_input": "2022-06-02T07:40:11.992918Z",
     "iopub.status.busy": "2022-06-02T07:40:11.991393Z",
     "iopub.status.idle": "2022-06-02T07:40:12.008838Z",
     "shell.execute_reply": "2022-06-02T07:40:12.007590Z"
    },
    "papermill": {
     "duration": 0.036896,
     "end_time": "2022-06-02T07:40:12.010775",
     "exception": false,
     "start_time": "2022-06-02T07:40:11.973879",
     "status": "completed"
    },
    "tags": []
   },
   "outputs": [
    {
     "data": {
      "text/html": [
       "<div>\n",
       "<style scoped>\n",
       "    .dataframe tbody tr th:only-of-type {\n",
       "        vertical-align: middle;\n",
       "    }\n",
       "\n",
       "    .dataframe tbody tr th {\n",
       "        vertical-align: top;\n",
       "    }\n",
       "\n",
       "    .dataframe thead th {\n",
       "        text-align: right;\n",
       "    }\n",
       "</style>\n",
       "<table border=\"1\" class=\"dataframe\">\n",
       "  <thead>\n",
       "    <tr style=\"text-align: right;\">\n",
       "      <th></th>\n",
       "      <th>A</th>\n",
       "      <th>B</th>\n",
       "      <th>C</th>\n",
       "    </tr>\n",
       "  </thead>\n",
       "  <tbody>\n",
       "    <tr>\n",
       "      <th>0</th>\n",
       "      <td>0.237214</td>\n",
       "      <td>0.350160</td>\n",
       "      <td>-0.642835</td>\n",
       "    </tr>\n",
       "    <tr>\n",
       "      <th>1</th>\n",
       "      <td>-0.740944</td>\n",
       "      <td>-1.259542</td>\n",
       "      <td>0.278226</td>\n",
       "    </tr>\n",
       "    <tr>\n",
       "      <th>2</th>\n",
       "      <td>2.152718</td>\n",
       "      <td>0.752795</td>\n",
       "      <td>0.366488</td>\n",
       "    </tr>\n",
       "    <tr>\n",
       "      <th>3</th>\n",
       "      <td>NaN</td>\n",
       "      <td>-0.471974</td>\n",
       "      <td>0.342957</td>\n",
       "    </tr>\n",
       "    <tr>\n",
       "      <th>4</th>\n",
       "      <td>NaN</td>\n",
       "      <td>NaN</td>\n",
       "      <td>-0.339139</td>\n",
       "    </tr>\n",
       "    <tr>\n",
       "      <th>5</th>\n",
       "      <td>0.670537</td>\n",
       "      <td>NaN</td>\n",
       "      <td>NaN</td>\n",
       "    </tr>\n",
       "    <tr>\n",
       "      <th>6</th>\n",
       "      <td>0.353397</td>\n",
       "      <td>-1.914163</td>\n",
       "      <td>NaN</td>\n",
       "    </tr>\n",
       "    <tr>\n",
       "      <th>7</th>\n",
       "      <td>0.380433</td>\n",
       "      <td>-1.444758</td>\n",
       "      <td>NaN</td>\n",
       "    </tr>\n",
       "    <tr>\n",
       "      <th>8</th>\n",
       "      <td>0.318049</td>\n",
       "      <td>-1.298216</td>\n",
       "      <td>-0.819169</td>\n",
       "    </tr>\n",
       "    <tr>\n",
       "      <th>9</th>\n",
       "      <td>0.439646</td>\n",
       "      <td>2.191579</td>\n",
       "      <td>2.014222</td>\n",
       "    </tr>\n",
       "  </tbody>\n",
       "</table>\n",
       "</div>"
      ],
      "text/plain": [
       "          A         B         C\n",
       "0  0.237214  0.350160 -0.642835\n",
       "1 -0.740944 -1.259542  0.278226\n",
       "2  2.152718  0.752795  0.366488\n",
       "3       NaN -0.471974  0.342957\n",
       "4       NaN       NaN -0.339139\n",
       "5  0.670537       NaN       NaN\n",
       "6  0.353397 -1.914163       NaN\n",
       "7  0.380433 -1.444758       NaN\n",
       "8  0.318049 -1.298216 -0.819169\n",
       "9  0.439646  2.191579  2.014222"
      ]
     },
     "execution_count": 26,
     "metadata": {},
     "output_type": "execute_result"
    }
   ],
   "source": [
    "import pandas as pd\n",
    "import numpy as np\n",
    "\n",
    "dff = pd.DataFrame(np.random.randn(10, 3), columns=list(\"ABC\"))\n",
    "\n",
    "dff.iloc[3:5, 0] = np.nan\n",
    "dff.iloc[4:6, 1] = np.nan\n",
    "dff.iloc[5:8, 2] = np.nan\n",
    "\n",
    "dff"
   ]
  },
  {
   "cell_type": "code",
   "execution_count": 27,
   "id": "32063330",
   "metadata": {
    "execution": {
     "iopub.execute_input": "2022-06-02T07:40:12.045365Z",
     "iopub.status.busy": "2022-06-02T07:40:12.044833Z",
     "iopub.status.idle": "2022-06-02T07:40:12.059325Z",
     "shell.execute_reply": "2022-06-02T07:40:12.058476Z"
    },
    "papermill": {
     "duration": 0.034608,
     "end_time": "2022-06-02T07:40:12.061271",
     "exception": false,
     "start_time": "2022-06-02T07:40:12.026663",
     "status": "completed"
    },
    "tags": []
   },
   "outputs": [
    {
     "data": {
      "text/html": [
       "<div>\n",
       "<style scoped>\n",
       "    .dataframe tbody tr th:only-of-type {\n",
       "        vertical-align: middle;\n",
       "    }\n",
       "\n",
       "    .dataframe tbody tr th {\n",
       "        vertical-align: top;\n",
       "    }\n",
       "\n",
       "    .dataframe thead th {\n",
       "        text-align: right;\n",
       "    }\n",
       "</style>\n",
       "<table border=\"1\" class=\"dataframe\">\n",
       "  <thead>\n",
       "    <tr style=\"text-align: right;\">\n",
       "      <th></th>\n",
       "      <th>A</th>\n",
       "      <th>B</th>\n",
       "      <th>C</th>\n",
       "    </tr>\n",
       "  </thead>\n",
       "  <tbody>\n",
       "    <tr>\n",
       "      <th>0</th>\n",
       "      <td>0.237214</td>\n",
       "      <td>0.350160</td>\n",
       "      <td>-0.642835</td>\n",
       "    </tr>\n",
       "    <tr>\n",
       "      <th>1</th>\n",
       "      <td>-0.740944</td>\n",
       "      <td>-1.259542</td>\n",
       "      <td>0.278226</td>\n",
       "    </tr>\n",
       "    <tr>\n",
       "      <th>2</th>\n",
       "      <td>2.152718</td>\n",
       "      <td>0.752795</td>\n",
       "      <td>0.366488</td>\n",
       "    </tr>\n",
       "    <tr>\n",
       "      <th>3</th>\n",
       "      <td>0.476381</td>\n",
       "      <td>-0.471974</td>\n",
       "      <td>0.342957</td>\n",
       "    </tr>\n",
       "    <tr>\n",
       "      <th>4</th>\n",
       "      <td>0.476381</td>\n",
       "      <td>-0.386765</td>\n",
       "      <td>-0.339139</td>\n",
       "    </tr>\n",
       "    <tr>\n",
       "      <th>5</th>\n",
       "      <td>0.670537</td>\n",
       "      <td>-0.386765</td>\n",
       "      <td>0.171536</td>\n",
       "    </tr>\n",
       "    <tr>\n",
       "      <th>6</th>\n",
       "      <td>0.353397</td>\n",
       "      <td>-1.914163</td>\n",
       "      <td>0.171536</td>\n",
       "    </tr>\n",
       "    <tr>\n",
       "      <th>7</th>\n",
       "      <td>0.380433</td>\n",
       "      <td>-1.444758</td>\n",
       "      <td>0.171536</td>\n",
       "    </tr>\n",
       "    <tr>\n",
       "      <th>8</th>\n",
       "      <td>0.318049</td>\n",
       "      <td>-1.298216</td>\n",
       "      <td>-0.819169</td>\n",
       "    </tr>\n",
       "    <tr>\n",
       "      <th>9</th>\n",
       "      <td>0.439646</td>\n",
       "      <td>2.191579</td>\n",
       "      <td>2.014222</td>\n",
       "    </tr>\n",
       "  </tbody>\n",
       "</table>\n",
       "</div>"
      ],
      "text/plain": [
       "          A         B         C\n",
       "0  0.237214  0.350160 -0.642835\n",
       "1 -0.740944 -1.259542  0.278226\n",
       "2  2.152718  0.752795  0.366488\n",
       "3  0.476381 -0.471974  0.342957\n",
       "4  0.476381 -0.386765 -0.339139\n",
       "5  0.670537 -0.386765  0.171536\n",
       "6  0.353397 -1.914163  0.171536\n",
       "7  0.380433 -1.444758  0.171536\n",
       "8  0.318049 -1.298216 -0.819169\n",
       "9  0.439646  2.191579  2.014222"
      ]
     },
     "execution_count": 27,
     "metadata": {},
     "output_type": "execute_result"
    }
   ],
   "source": [
    "dff.fillna(dff.mean())"
   ]
  },
  {
   "cell_type": "markdown",
   "id": "0bcda2a9",
   "metadata": {
    "papermill": {
     "duration": 0.015956,
     "end_time": "2022-06-02T07:40:12.093344",
     "exception": false,
     "start_time": "2022-06-02T07:40:12.077388",
     "status": "completed"
    },
    "tags": []
   },
   "source": [
    "- Interpolation\n",
    "    - `interpolate()` : 대충 추세에 맞게(추세선 따라) 자연스러워보이게 채워줌"
   ]
  },
  {
   "cell_type": "code",
   "execution_count": 28,
   "id": "0df586b9",
   "metadata": {
    "execution": {
     "iopub.execute_input": "2022-06-02T07:40:12.128776Z",
     "iopub.status.busy": "2022-06-02T07:40:12.128137Z",
     "iopub.status.idle": "2022-06-02T07:40:12.137950Z",
     "shell.execute_reply": "2022-06-02T07:40:12.137227Z"
    },
    "papermill": {
     "duration": 0.030193,
     "end_time": "2022-06-02T07:40:12.139575",
     "exception": false,
     "start_time": "2022-06-02T07:40:12.109382",
     "status": "completed"
    },
    "tags": []
   },
   "outputs": [
    {
     "data": {
      "text/plain": [
       "0      0.550419\n",
       "1      1.303652\n",
       "2      2.801386\n",
       "3      3.982202\n",
       "4      4.545912\n",
       "        ...    \n",
       "95    95.100574\n",
       "96    96.168515\n",
       "97    97.048392\n",
       "98    98.145327\n",
       "99    99.748423\n",
       "Name: data, Length: 100, dtype: float64"
      ]
     },
     "execution_count": 28,
     "metadata": {},
     "output_type": "execute_result"
    }
   ],
   "source": [
    "import pandas as pd\n",
    "import numpy as np\n",
    "import matplotlib.pyplot as plt\n",
    "\n",
    "ts = pd.Series(np.arange(100) + np.random.random(100), name=\"data\")\n",
    "ts"
   ]
  },
  {
   "cell_type": "code",
   "execution_count": 29,
   "id": "26aa4e0d",
   "metadata": {
    "execution": {
     "iopub.execute_input": "2022-06-02T07:40:12.173650Z",
     "iopub.status.busy": "2022-06-02T07:40:12.172967Z",
     "iopub.status.idle": "2022-06-02T07:40:12.329008Z",
     "shell.execute_reply": "2022-06-02T07:40:12.328034Z"
    },
    "papermill": {
     "duration": 0.175317,
     "end_time": "2022-06-02T07:40:12.330767",
     "exception": false,
     "start_time": "2022-06-02T07:40:12.155450",
     "status": "completed"
    },
    "tags": []
   },
   "outputs": [
    {
     "data": {
      "image/png": "[encoded data removed]",
      "text/plain": [
       "<Figure size 432x288 with 1 Axes>"
      ]
     },
     "metadata": {
      "needs_background": "light"
     },
     "output_type": "display_data"
    }
   ],
   "source": [
    "ts.iloc[10:20] = np.nan\n",
    "ts.plot()\n",
    "plt.show()"
   ]
  },
  {
   "cell_type": "code",
   "execution_count": 30,
   "id": "e1b90b4f",
   "metadata": {
    "execution": {
     "iopub.execute_input": "2022-06-02T07:40:12.368284Z",
     "iopub.status.busy": "2022-06-02T07:40:12.367633Z",
     "iopub.status.idle": "2022-06-02T07:40:12.526913Z",
     "shell.execute_reply": "2022-06-02T07:40:12.525745Z"
    },
    "papermill": {
     "duration": 0.180989,
     "end_time": "2022-06-02T07:40:12.528984",
     "exception": false,
     "start_time": "2022-06-02T07:40:12.347995",
     "status": "completed"
    },
    "tags": []
   },
   "outputs": [
    {
     "data": {
      "image/png": "[encoded data removed]",
      "text/plain": [
       "<Figure size 432x288 with 1 Axes>"
      ]
     },
     "metadata": {
      "needs_background": "light"
     },
     "output_type": "display_data"
    }
   ],
   "source": [
    "ts1 = ts.interpolate()\n",
    "ts1.plot()\n",
    "plt.show()"
   ]
  },
  {
   "cell_type": "markdown",
   "id": "d01bca2d",
   "metadata": {
    "papermill": {
     "duration": 0.016678,
     "end_time": "2022-06-02T07:40:12.562838",
     "exception": false,
     "start_time": "2022-06-02T07:40:12.546160",
     "status": "completed"
    },
    "tags": []
   },
   "source": [
    "## 기타 데이터 프로세싱\n",
    "---\n",
    "### 중복 제거\n",
    "- `duplicated()` : 중복 여부를 boolean으로 리턴\n",
    "- `drop_duplicates()` : 중복 data 삭제"
   ]
  },
  {
   "cell_type": "code",
   "execution_count": 31,
   "id": "c90cc555",
   "metadata": {
    "execution": {
     "iopub.execute_input": "2022-06-02T07:40:12.599828Z",
     "iopub.status.busy": "2022-06-02T07:40:12.599328Z",
     "iopub.status.idle": "2022-06-02T07:40:12.614695Z",
     "shell.execute_reply": "2022-06-02T07:40:12.613503Z"
    },
    "papermill": {
     "duration": 0.036759,
     "end_time": "2022-06-02T07:40:12.617302",
     "exception": false,
     "start_time": "2022-06-02T07:40:12.580543",
     "status": "completed"
    },
    "tags": []
   },
   "outputs": [
    {
     "data": {
      "text/html": [
       "<div>\n",
       "<style scoped>\n",
       "    .dataframe tbody tr th:only-of-type {\n",
       "        vertical-align: middle;\n",
       "    }\n",
       "\n",
       "    .dataframe tbody tr th {\n",
       "        vertical-align: top;\n",
       "    }\n",
       "\n",
       "    .dataframe thead th {\n",
       "        text-align: right;\n",
       "    }\n",
       "</style>\n",
       "<table border=\"1\" class=\"dataframe\">\n",
       "  <thead>\n",
       "    <tr style=\"text-align: right;\">\n",
       "      <th></th>\n",
       "      <th>c1</th>\n",
       "      <th>c2</th>\n",
       "    </tr>\n",
       "  </thead>\n",
       "  <tbody>\n",
       "    <tr>\n",
       "      <th>0</th>\n",
       "      <td>a</td>\n",
       "      <td>1</td>\n",
       "    </tr>\n",
       "    <tr>\n",
       "      <th>1</th>\n",
       "      <td>b</td>\n",
       "      <td>2</td>\n",
       "    </tr>\n",
       "    <tr>\n",
       "      <th>2</th>\n",
       "      <td>c</td>\n",
       "      <td>1</td>\n",
       "    </tr>\n",
       "    <tr>\n",
       "      <th>3</th>\n",
       "      <td>a</td>\n",
       "      <td>1</td>\n",
       "    </tr>\n",
       "    <tr>\n",
       "      <th>4</th>\n",
       "      <td>b</td>\n",
       "      <td>2</td>\n",
       "    </tr>\n",
       "    <tr>\n",
       "      <th>5</th>\n",
       "      <td>c</td>\n",
       "      <td>3</td>\n",
       "    </tr>\n",
       "    <tr>\n",
       "      <th>6</th>\n",
       "      <td>b</td>\n",
       "      <td>3</td>\n",
       "    </tr>\n",
       "    <tr>\n",
       "      <th>7</th>\n",
       "      <td>c</td>\n",
       "      <td>4</td>\n",
       "    </tr>\n",
       "  </tbody>\n",
       "</table>\n",
       "</div>"
      ],
      "text/plain": [
       "  c1  c2\n",
       "0  a   1\n",
       "1  b   2\n",
       "2  c   1\n",
       "3  a   1\n",
       "4  b   2\n",
       "5  c   3\n",
       "6  b   3\n",
       "7  c   4"
      ]
     },
     "execution_count": 31,
     "metadata": {},
     "output_type": "execute_result"
    }
   ],
   "source": [
    "import pandas as pd\n",
    "\n",
    "df = pd.DataFrame({'c1':['a','b','c'] * 2 + ['b'] + ['c'],\n",
    "                   'c2':[1, 2, 1, 1, 2, 3, 3, 4]})\n",
    "\n",
    "df"
   ]
  },
  {
   "cell_type": "code",
   "execution_count": 32,
   "id": "8331f610",
   "metadata": {
    "execution": {
     "iopub.execute_input": "2022-06-02T07:40:12.674824Z",
     "iopub.status.busy": "2022-06-02T07:40:12.673286Z",
     "iopub.status.idle": "2022-06-02T07:40:12.680958Z",
     "shell.execute_reply": "2022-06-02T07:40:12.680311Z"
    },
    "papermill": {
     "duration": 0.038084,
     "end_time": "2022-06-02T07:40:12.683369",
     "exception": false,
     "start_time": "2022-06-02T07:40:12.645285",
     "status": "completed"
    },
    "tags": []
   },
   "outputs": [
    {
     "data": {
      "text/plain": [
       "0    False\n",
       "1    False\n",
       "2    False\n",
       "3     True\n",
       "4     True\n",
       "5    False\n",
       "6    False\n",
       "7    False\n",
       "dtype: bool"
      ]
     },
     "execution_count": 32,
     "metadata": {},
     "output_type": "execute_result"
    }
   ],
   "source": [
    "df.duplicated()  # 중복 여부를 boolean으로 리턴"
   ]
  },
  {
   "cell_type": "code",
   "execution_count": 33,
   "id": "3aabe87d",
   "metadata": {
    "execution": {
     "iopub.execute_input": "2022-06-02T07:40:12.739826Z",
     "iopub.status.busy": "2022-06-02T07:40:12.739239Z",
     "iopub.status.idle": "2022-06-02T07:40:12.749166Z",
     "shell.execute_reply": "2022-06-02T07:40:12.748182Z"
    },
    "papermill": {
     "duration": 0.040903,
     "end_time": "2022-06-02T07:40:12.751445",
     "exception": false,
     "start_time": "2022-06-02T07:40:12.710542",
     "status": "completed"
    },
    "tags": []
   },
   "outputs": [
    {
     "data": {
      "text/html": [
       "<div>\n",
       "<style scoped>\n",
       "    .dataframe tbody tr th:only-of-type {\n",
       "        vertical-align: middle;\n",
       "    }\n",
       "\n",
       "    .dataframe tbody tr th {\n",
       "        vertical-align: top;\n",
       "    }\n",
       "\n",
       "    .dataframe thead th {\n",
       "        text-align: right;\n",
       "    }\n",
       "</style>\n",
       "<table border=\"1\" class=\"dataframe\">\n",
       "  <thead>\n",
       "    <tr style=\"text-align: right;\">\n",
       "      <th></th>\n",
       "      <th>c1</th>\n",
       "      <th>c2</th>\n",
       "    </tr>\n",
       "  </thead>\n",
       "  <tbody>\n",
       "    <tr>\n",
       "      <th>0</th>\n",
       "      <td>a</td>\n",
       "      <td>1</td>\n",
       "    </tr>\n",
       "    <tr>\n",
       "      <th>1</th>\n",
       "      <td>b</td>\n",
       "      <td>2</td>\n",
       "    </tr>\n",
       "    <tr>\n",
       "      <th>2</th>\n",
       "      <td>c</td>\n",
       "      <td>1</td>\n",
       "    </tr>\n",
       "    <tr>\n",
       "      <th>5</th>\n",
       "      <td>c</td>\n",
       "      <td>3</td>\n",
       "    </tr>\n",
       "    <tr>\n",
       "      <th>6</th>\n",
       "      <td>b</td>\n",
       "      <td>3</td>\n",
       "    </tr>\n",
       "    <tr>\n",
       "      <th>7</th>\n",
       "      <td>c</td>\n",
       "      <td>4</td>\n",
       "    </tr>\n",
       "  </tbody>\n",
       "</table>\n",
       "</div>"
      ],
      "text/plain": [
       "  c1  c2\n",
       "0  a   1\n",
       "1  b   2\n",
       "2  c   1\n",
       "5  c   3\n",
       "6  b   3\n",
       "7  c   4"
      ]
     },
     "execution_count": 33,
     "metadata": {},
     "output_type": "execute_result"
    }
   ],
   "source": [
    "df.drop_duplicates()  # 중복 data 삭제"
   ]
  },
  {
   "cell_type": "markdown",
   "id": "26b99d17",
   "metadata": {
    "papermill": {
     "duration": 0.026664,
     "end_time": "2022-06-02T07:40:12.805602",
     "exception": false,
     "start_time": "2022-06-02T07:40:12.778938",
     "status": "completed"
    },
    "tags": []
   },
   "source": [
    "### 값 치환\n",
    "    - `replace()` : 특정 data의 값을 대체함"
   ]
  },
  {
   "cell_type": "code",
   "execution_count": 34,
   "id": "9235a0c3",
   "metadata": {
    "execution": {
     "iopub.execute_input": "2022-06-02T07:40:12.862220Z",
     "iopub.status.busy": "2022-06-02T07:40:12.861581Z",
     "iopub.status.idle": "2022-06-02T07:40:12.868345Z",
     "shell.execute_reply": "2022-06-02T07:40:12.867602Z"
    },
    "papermill": {
     "duration": 0.037465,
     "end_time": "2022-06-02T07:40:12.870376",
     "exception": false,
     "start_time": "2022-06-02T07:40:12.832911",
     "status": "completed"
    },
    "tags": []
   },
   "outputs": [
    {
     "data": {
      "text/plain": [
       "0       1\n",
       "1       2\n",
       "2    -999\n",
       "3       4\n",
       "4       5\n",
       "5    1000\n",
       "dtype: int64"
      ]
     },
     "execution_count": 34,
     "metadata": {},
     "output_type": "execute_result"
    }
   ],
   "source": [
    "import pandas as pd\n",
    "import numpy as np\n",
    "\n",
    "s = pd.Series([1, 2, -999, 4, 5, 1000])\n",
    "\n",
    "s"
   ]
  },
  {
   "cell_type": "code",
   "execution_count": 35,
   "id": "623f207d",
   "metadata": {
    "execution": {
     "iopub.execute_input": "2022-06-02T07:40:12.927694Z",
     "iopub.status.busy": "2022-06-02T07:40:12.927071Z",
     "iopub.status.idle": "2022-06-02T07:40:12.933725Z",
     "shell.execute_reply": "2022-06-02T07:40:12.933178Z"
    },
    "papermill": {
     "duration": 0.038077,
     "end_time": "2022-06-02T07:40:12.935963",
     "exception": false,
     "start_time": "2022-06-02T07:40:12.897886",
     "status": "completed"
    },
    "tags": []
   },
   "outputs": [
    {
     "data": {
      "text/plain": [
       "0       1.0\n",
       "1       2.0\n",
       "2       NaN\n",
       "3       4.0\n",
       "4       5.0\n",
       "5    1000.0\n",
       "dtype: float64"
      ]
     },
     "execution_count": 35,
     "metadata": {},
     "output_type": "execute_result"
    }
   ],
   "source": [
    "s.replace(-999, np.nan)"
   ]
  },
  {
   "cell_type": "code",
   "execution_count": 36,
   "id": "411ede89",
   "metadata": {
    "execution": {
     "iopub.execute_input": "2022-06-02T07:40:12.994070Z",
     "iopub.status.busy": "2022-06-02T07:40:12.993426Z",
     "iopub.status.idle": "2022-06-02T07:40:13.000353Z",
     "shell.execute_reply": "2022-06-02T07:40:12.999590Z"
    },
    "papermill": {
     "duration": 0.038033,
     "end_time": "2022-06-02T07:40:13.002284",
     "exception": false,
     "start_time": "2022-06-02T07:40:12.964251",
     "status": "completed"
    },
    "tags": []
   },
   "outputs": [
    {
     "data": {
      "text/plain": [
       "0    1.0\n",
       "1    2.0\n",
       "2    NaN\n",
       "3    4.0\n",
       "4    5.0\n",
       "5    NaN\n",
       "dtype: float64"
      ]
     },
     "execution_count": 36,
     "metadata": {},
     "output_type": "execute_result"
    }
   ],
   "source": [
    "s.replace([-999, 1000], np.nan)"
   ]
  },
  {
   "cell_type": "code",
   "execution_count": 37,
   "id": "ff77355a",
   "metadata": {
    "execution": {
     "iopub.execute_input": "2022-06-02T07:40:13.062214Z",
     "iopub.status.busy": "2022-06-02T07:40:13.061591Z",
     "iopub.status.idle": "2022-06-02T07:40:13.068449Z",
     "shell.execute_reply": "2022-06-02T07:40:13.067908Z"
    },
    "papermill": {
     "duration": 0.038628,
     "end_time": "2022-06-02T07:40:13.070405",
     "exception": false,
     "start_time": "2022-06-02T07:40:13.031777",
     "status": "completed"
    },
    "tags": []
   },
   "outputs": [
    {
     "data": {
      "text/plain": [
       "0    1.0\n",
       "1    2.0\n",
       "2    NaN\n",
       "3    4.0\n",
       "4    5.0\n",
       "5    0.0\n",
       "dtype: float64"
      ]
     },
     "execution_count": 37,
     "metadata": {},
     "output_type": "execute_result"
    }
   ],
   "source": [
    "s.replace([-999, 1000], [np.nan, 0])"
   ]
  },
  {
   "cell_type": "markdown",
   "id": "c54c9b69",
   "metadata": {
    "papermill": {
     "duration": 0.028168,
     "end_time": "2022-06-02T07:40:13.126954",
     "exception": false,
     "start_time": "2022-06-02T07:40:13.098786",
     "status": "completed"
    },
    "tags": []
   },
   "source": [
    "## Multi indexing\n",
    "---\n",
    "- 고차원의 데이터 처리\n",
    "- **단일 인덱스 내에서 여러 인덱스 포함하는 다중 인덱싱**\n",
    "- Multi indexing 내 slicing\n",
    "- `unstack()` : 다중 인덱싱 해제 -> 두 인덱스가 행과 열 속성으로 분리됨\n",
    "- `stack()` : 다중 인덱싱 생성 -> 행과 열 속성으로 분리되어 있던 인덱스가 모두 행 속성으로 합쳐짐. 원래 행 속성이었던 인덱스가 큰 인덱스가 되고 열 속성이었던 인덱스가 작은 인덱스가 됨"
   ]
  },
  {
   "cell_type": "code",
   "execution_count": 38,
   "id": "4d28b33b",
   "metadata": {
    "execution": {
     "iopub.execute_input": "2022-06-02T07:40:13.186774Z",
     "iopub.status.busy": "2022-06-02T07:40:13.186160Z",
     "iopub.status.idle": "2022-06-02T07:40:13.192251Z",
     "shell.execute_reply": "2022-06-02T07:40:13.191526Z"
    },
    "papermill": {
     "duration": 0.039227,
     "end_time": "2022-06-02T07:40:13.195019",
     "exception": false,
     "start_time": "2022-06-02T07:40:13.155792",
     "status": "completed"
    },
    "tags": []
   },
   "outputs": [
    {
     "data": {
      "text/plain": [
       "[('Seoul', 2010),\n",
       " ('Seoul', 2020),\n",
       " ('Busan', 2010),\n",
       " ('Busan', 2020),\n",
       " ('Incheon', 2010),\n",
       " ('Incheon', 2020)]"
      ]
     },
     "execution_count": 38,
     "metadata": {},
     "output_type": "execute_result"
    }
   ],
   "source": [
    "import pandas as pd\n",
    "\n",
    "idx_tuples = [('Seoul', 2010), ('Seoul', 2020), ('Busan', 2010), ('Busan', 2020), ('Incheon', 2010),('Incheon',2020)]\n",
    "idx_tuples"
   ]
  },
  {
   "cell_type": "code",
   "execution_count": 39,
   "id": "02448371",
   "metadata": {
    "execution": {
     "iopub.execute_input": "2022-06-02T07:40:13.254463Z",
     "iopub.status.busy": "2022-06-02T07:40:13.253933Z",
     "iopub.status.idle": "2022-06-02T07:40:13.262614Z",
     "shell.execute_reply": "2022-06-02T07:40:13.261642Z"
    },
    "papermill": {
     "duration": 0.039756,
     "end_time": "2022-06-02T07:40:13.264291",
     "exception": false,
     "start_time": "2022-06-02T07:40:13.224535",
     "status": "completed"
    },
    "tags": []
   },
   "outputs": [
    {
     "data": {
      "text/plain": [
       "(Seoul, 2010)      10312314\n",
       "(Seoul, 2020)       9710381\n",
       "(Busan, 2010)       2596820\n",
       "(Busan, 2020)       3410920\n",
       "(Incheon, 2010)     2748192\n",
       "(Incheon, 2020)     2918031\n",
       "dtype: int64"
      ]
     },
     "execution_count": 39,
     "metadata": {},
     "output_type": "execute_result"
    }
   ],
   "source": [
    "pop_tuples = [10312314, 9710381, 2596820, 3410920, 2748192, 2918031]\n",
    "population = pd.Series(pop_tuples, index=idx_tuples)\n",
    "population"
   ]
  },
  {
   "cell_type": "code",
   "execution_count": 40,
   "id": "7044c91c",
   "metadata": {
    "execution": {
     "iopub.execute_input": "2022-06-02T07:40:13.301924Z",
     "iopub.status.busy": "2022-06-02T07:40:13.301416Z",
     "iopub.status.idle": "2022-06-02T07:40:13.312290Z",
     "shell.execute_reply": "2022-06-02T07:40:13.311568Z"
    },
    "papermill": {
     "duration": 0.031793,
     "end_time": "2022-06-02T07:40:13.313836",
     "exception": false,
     "start_time": "2022-06-02T07:40:13.282043",
     "status": "completed"
    },
    "tags": []
   },
   "outputs": [
    {
     "data": {
      "text/plain": [
       "Seoul    2010    10312314\n",
       "         2020     9710381\n",
       "Busan    2010     2596820\n",
       "         2020     3410920\n",
       "Incheon  2010     2748192\n",
       "         2020     2918031\n",
       "dtype: int64"
      ]
     },
     "execution_count": 40,
     "metadata": {},
     "output_type": "execute_result"
    }
   ],
   "source": [
    "midx = pd.MultiIndex.from_tuples(idx_tuples)\n",
    "population = population.reindex(midx)\n",
    "population"
   ]
  },
  {
   "cell_type": "code",
   "execution_count": 41,
   "id": "ebf344fb",
   "metadata": {
    "execution": {
     "iopub.execute_input": "2022-06-02T07:40:13.351605Z",
     "iopub.status.busy": "2022-06-02T07:40:13.350711Z",
     "iopub.status.idle": "2022-06-02T07:40:13.358414Z",
     "shell.execute_reply": "2022-06-02T07:40:13.357685Z"
    },
    "papermill": {
     "duration": 0.028686,
     "end_time": "2022-06-02T07:40:13.360500",
     "exception": false,
     "start_time": "2022-06-02T07:40:13.331814",
     "status": "completed"
    },
    "tags": []
   },
   "outputs": [
    {
     "data": {
      "text/plain": [
       "Seoul      10312314\n",
       "Busan       2596820\n",
       "Incheon     2748192\n",
       "dtype: int64"
      ]
     },
     "execution_count": 41,
     "metadata": {},
     "output_type": "execute_result"
    }
   ],
   "source": [
    "population[:,2010]"
   ]
  },
  {
   "cell_type": "code",
   "execution_count": 42,
   "id": "0f2db8d6",
   "metadata": {
    "execution": {
     "iopub.execute_input": "2022-06-02T07:40:13.400130Z",
     "iopub.status.busy": "2022-06-02T07:40:13.399372Z",
     "iopub.status.idle": "2022-06-02T07:40:13.407475Z",
     "shell.execute_reply": "2022-06-02T07:40:13.406578Z"
    },
    "papermill": {
     "duration": 0.030418,
     "end_time": "2022-06-02T07:40:13.409431",
     "exception": false,
     "start_time": "2022-06-02T07:40:13.379013",
     "status": "completed"
    },
    "tags": []
   },
   "outputs": [
    {
     "data": {
      "text/plain": [
       "2010    10312314\n",
       "2020     9710381\n",
       "dtype: int64"
      ]
     },
     "execution_count": 42,
     "metadata": {},
     "output_type": "execute_result"
    }
   ],
   "source": [
    "population['Seoul',:]"
   ]
  },
  {
   "cell_type": "code",
   "execution_count": 43,
   "id": "3f92d4a1",
   "metadata": {
    "execution": {
     "iopub.execute_input": "2022-06-02T07:40:13.449076Z",
     "iopub.status.busy": "2022-06-02T07:40:13.448393Z",
     "iopub.status.idle": "2022-06-02T07:40:13.459785Z",
     "shell.execute_reply": "2022-06-02T07:40:13.458662Z"
    },
    "papermill": {
     "duration": 0.0334,
     "end_time": "2022-06-02T07:40:13.461705",
     "exception": false,
     "start_time": "2022-06-02T07:40:13.428305",
     "status": "completed"
    },
    "tags": []
   },
   "outputs": [
    {
     "data": {
      "text/html": [
       "<div>\n",
       "<style scoped>\n",
       "    .dataframe tbody tr th:only-of-type {\n",
       "        vertical-align: middle;\n",
       "    }\n",
       "\n",
       "    .dataframe tbody tr th {\n",
       "        vertical-align: top;\n",
       "    }\n",
       "\n",
       "    .dataframe thead th {\n",
       "        text-align: right;\n",
       "    }\n",
       "</style>\n",
       "<table border=\"1\" class=\"dataframe\">\n",
       "  <thead>\n",
       "    <tr style=\"text-align: right;\">\n",
       "      <th></th>\n",
       "      <th>2010</th>\n",
       "      <th>2020</th>\n",
       "    </tr>\n",
       "  </thead>\n",
       "  <tbody>\n",
       "    <tr>\n",
       "      <th>Busan</th>\n",
       "      <td>2596820</td>\n",
       "      <td>3410920</td>\n",
       "    </tr>\n",
       "    <tr>\n",
       "      <th>Incheon</th>\n",
       "      <td>2748192</td>\n",
       "      <td>2918031</td>\n",
       "    </tr>\n",
       "    <tr>\n",
       "      <th>Seoul</th>\n",
       "      <td>10312314</td>\n",
       "      <td>9710381</td>\n",
       "    </tr>\n",
       "  </tbody>\n",
       "</table>\n",
       "</div>"
      ],
      "text/plain": [
       "             2010     2020\n",
       "Busan     2596820  3410920\n",
       "Incheon   2748192  2918031\n",
       "Seoul    10312314  9710381"
      ]
     },
     "execution_count": 43,
     "metadata": {},
     "output_type": "execute_result"
    }
   ],
   "source": [
    "population_mod = population.unstack()\n",
    "population_mod"
   ]
  },
  {
   "cell_type": "code",
   "execution_count": 44,
   "id": "f3e9aca4",
   "metadata": {
    "execution": {
     "iopub.execute_input": "2022-06-02T07:40:13.501213Z",
     "iopub.status.busy": "2022-06-02T07:40:13.500474Z",
     "iopub.status.idle": "2022-06-02T07:40:13.508771Z",
     "shell.execute_reply": "2022-06-02T07:40:13.508098Z"
    },
    "papermill": {
     "duration": 0.029911,
     "end_time": "2022-06-02T07:40:13.510398",
     "exception": false,
     "start_time": "2022-06-02T07:40:13.480487",
     "status": "completed"
    },
    "tags": []
   },
   "outputs": [
    {
     "data": {
      "text/plain": [
       "Busan    2010     2596820\n",
       "         2020     3410920\n",
       "Incheon  2010     2748192\n",
       "         2020     2918031\n",
       "Seoul    2010    10312314\n",
       "         2020     9710381\n",
       "dtype: int64"
      ]
     },
     "execution_count": 44,
     "metadata": {},
     "output_type": "execute_result"
    }
   ],
   "source": [
    "population_mod.stack()"
   ]
  }
 ],
 "metadata": {
  "kernelspec": {
   "display_name": "Python 3",
   "language": "python",
   "name": "python3"
  },
  "language_info": {
   "codemirror_mode": {
    "name": "ipython",
    "version": 3
   },
   "file_extension": ".py",
   "mimetype": "text/x-python",
   "name": "python",
   "nbconvert_exporter": "python",
   "pygments_lexer": "ipython3",
   "version": "3.7.12"
  },
  "papermill": {
   "default_parameters": {},
   "duration": 14.883474,
   "end_time": "2022-06-02T07:40:14.552121",
   "environment_variables": {},
   "exception": null,
   "input_path": "__notebook__.ipynb",
   "output_path": "__notebook__.ipynb",
   "parameters": {},
   "start_time": "2022-06-02T07:39:59.668647",
   "version": "2.3.4"
  }
 },
 "nbformat": 4,
 "nbformat_minor": 5
}
