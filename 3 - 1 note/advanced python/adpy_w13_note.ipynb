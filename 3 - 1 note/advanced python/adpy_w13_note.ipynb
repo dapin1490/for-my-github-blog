{
 "cells": [
  {
   "cell_type": "code",
   "execution_count": 1,
   "id": "f9d58941",
   "metadata": {
    "_cell_guid": "b1076dfc-b9ad-4769-8c92-a6c4dae69d19",
    "_kg_hide-input": true,
    "_kg_hide-output": true,
    "_uuid": "8f2839f25d086af736a60e9eeb907d3b93b6e0e5",
    "execution": {
     "iopub.execute_input": "2022-06-02T07:44:04.469976Z",
     "iopub.status.busy": "2022-06-02T07:44:04.469438Z",
     "iopub.status.idle": "2022-06-02T07:44:04.488905Z",
     "shell.execute_reply": "2022-06-02T07:44:04.488103Z"
    },
    "papermill": {
     "duration": 0.03823,
     "end_time": "2022-06-02T07:44:04.491799",
     "exception": false,
     "start_time": "2022-06-02T07:44:04.453569",
     "status": "completed"
    },
    "tags": []
   },
   "outputs": [
    {
     "name": "stdout",
     "output_type": "stream",
     "text": [
      "/kaggle/input/220527-adpy-w13-files/air_quality_no2_long.csv\n",
      "/kaggle/input/220527-adpy-w13-files/titanic.csv\n",
      "/kaggle/input/220527-adpy-w13-files/air_quality_parameters.csv\n",
      "/kaggle/input/220527-adpy-w13-files/air_quality_stations.csv\n",
      "/kaggle/input/220527-adpy-w13-files/air_quality_pm25_long.csv\n"
     ]
    }
   ],
   "source": [
    "import os\n",
    "\n",
    "for dirname, _, filenames in os.walk('/kaggle/input'):\n",
    "    for filename in filenames:\n",
    "        print(os.path.join(dirname, filename))\n",
    "\n",
    "air_quality_no2_long_csv = \"/kaggle/input/220527-adpy-w13-files/air_quality_no2_long.csv\"\n",
    "titanic_csv = \"/kaggle/input/220527-adpy-w13-files/titanic.csv\"\n",
    "air_quality_parameters_csv = \"/kaggle/input/220527-adpy-w13-files/air_quality_parameters.csv\"\n",
    "air_quality_stations_csv = \"/kaggle/input/220527-adpy-w13-files/air_quality_stations.csv\"\n",
    "air_quality_pm25_long_csv = \"/kaggle/input/220527-adpy-w13-files/air_quality_pm25_long.csv\""
   ]
  },
  {
   "cell_type": "markdown",
   "id": "4a4b3752",
   "metadata": {
    "papermill": {
     "duration": 0.011388,
     "end_time": "2022-06-02T07:44:04.516647",
     "exception": false,
     "start_time": "2022-06-02T07:44:04.505259",
     "status": "completed"
    },
    "tags": []
   },
   "source": [
    "## 테이블 병합\n",
    "---   \n",
    "- 속성이 동일한 두 테이블 병합\n",
    "- 속성이 상이한 두 테이블 병합"
   ]
  },
  {
   "cell_type": "code",
   "execution_count": 2,
   "id": "d78a5e88",
   "metadata": {
    "execution": {
     "iopub.execute_input": "2022-06-02T07:44:04.542273Z",
     "iopub.status.busy": "2022-06-02T07:44:04.541741Z",
     "iopub.status.idle": "2022-06-02T07:44:04.625107Z",
     "shell.execute_reply": "2022-06-02T07:44:04.622223Z"
    },
    "papermill": {
     "duration": 0.099189,
     "end_time": "2022-06-02T07:44:04.627479",
     "exception": false,
     "start_time": "2022-06-02T07:44:04.528290",
     "status": "completed"
    },
    "tags": []
   },
   "outputs": [
    {
     "name": "stdout",
     "output_type": "stream",
     "text": [
      "Shape of the air_quality_pm25 table:  (1110, 4)\n",
      "\n",
      "Shape of the air_quality_no2 table:  (2068, 4)\n",
      "\n",
      "Shape of the resulting table:  (3178, 4)\n",
      "\n"
     ]
    },
    {
     "data": {
      "text/html": [
       "<div>\n",
       "<style scoped>\n",
       "    .dataframe tbody tr th:only-of-type {\n",
       "        vertical-align: middle;\n",
       "    }\n",
       "\n",
       "    .dataframe tbody tr th {\n",
       "        vertical-align: top;\n",
       "    }\n",
       "\n",
       "    .dataframe thead th {\n",
       "        text-align: right;\n",
       "    }\n",
       "</style>\n",
       "<table border=\"1\" class=\"dataframe\">\n",
       "  <thead>\n",
       "    <tr style=\"text-align: right;\">\n",
       "      <th></th>\n",
       "      <th>date.utc</th>\n",
       "      <th>location</th>\n",
       "      <th>parameter</th>\n",
       "      <th>value</th>\n",
       "    </tr>\n",
       "  </thead>\n",
       "  <tbody>\n",
       "    <tr>\n",
       "      <th>2067</th>\n",
       "      <td>2019-05-07 01:00:00+00:00</td>\n",
       "      <td>London Westminster</td>\n",
       "      <td>no2</td>\n",
       "      <td>23.0</td>\n",
       "    </tr>\n",
       "    <tr>\n",
       "      <th>1003</th>\n",
       "      <td>2019-05-07 01:00:00+00:00</td>\n",
       "      <td>FR04014</td>\n",
       "      <td>no2</td>\n",
       "      <td>25.0</td>\n",
       "    </tr>\n",
       "    <tr>\n",
       "      <th>100</th>\n",
       "      <td>2019-05-07 01:00:00+00:00</td>\n",
       "      <td>BETR801</td>\n",
       "      <td>pm25</td>\n",
       "      <td>12.5</td>\n",
       "    </tr>\n",
       "    <tr>\n",
       "      <th>1098</th>\n",
       "      <td>2019-05-07 01:00:00+00:00</td>\n",
       "      <td>BETR801</td>\n",
       "      <td>no2</td>\n",
       "      <td>50.5</td>\n",
       "    </tr>\n",
       "    <tr>\n",
       "      <th>1109</th>\n",
       "      <td>2019-05-07 01:00:00+00:00</td>\n",
       "      <td>London Westminster</td>\n",
       "      <td>pm25</td>\n",
       "      <td>8.0</td>\n",
       "    </tr>\n",
       "    <tr>\n",
       "      <th>...</th>\n",
       "      <td>...</td>\n",
       "      <td>...</td>\n",
       "      <td>...</td>\n",
       "      <td>...</td>\n",
       "    </tr>\n",
       "    <tr>\n",
       "      <th>2</th>\n",
       "      <td>2019-06-20 22:00:00+00:00</td>\n",
       "      <td>FR04014</td>\n",
       "      <td>no2</td>\n",
       "      <td>26.5</td>\n",
       "    </tr>\n",
       "    <tr>\n",
       "      <th>102</th>\n",
       "      <td>2019-06-20 23:00:00+00:00</td>\n",
       "      <td>London Westminster</td>\n",
       "      <td>pm25</td>\n",
       "      <td>7.0</td>\n",
       "    </tr>\n",
       "    <tr>\n",
       "      <th>1</th>\n",
       "      <td>2019-06-20 23:00:00+00:00</td>\n",
       "      <td>FR04014</td>\n",
       "      <td>no2</td>\n",
       "      <td>21.8</td>\n",
       "    </tr>\n",
       "    <tr>\n",
       "      <th>101</th>\n",
       "      <td>2019-06-21 00:00:00+00:00</td>\n",
       "      <td>London Westminster</td>\n",
       "      <td>pm25</td>\n",
       "      <td>7.0</td>\n",
       "    </tr>\n",
       "    <tr>\n",
       "      <th>0</th>\n",
       "      <td>2019-06-21 00:00:00+00:00</td>\n",
       "      <td>FR04014</td>\n",
       "      <td>no2</td>\n",
       "      <td>20.0</td>\n",
       "    </tr>\n",
       "  </tbody>\n",
       "</table>\n",
       "<p>3178 rows × 4 columns</p>\n",
       "</div>"
      ],
      "text/plain": [
       "                       date.utc            location parameter  value\n",
       "2067  2019-05-07 01:00:00+00:00  London Westminster       no2   23.0\n",
       "1003  2019-05-07 01:00:00+00:00             FR04014       no2   25.0\n",
       "100   2019-05-07 01:00:00+00:00             BETR801      pm25   12.5\n",
       "1098  2019-05-07 01:00:00+00:00             BETR801       no2   50.5\n",
       "1109  2019-05-07 01:00:00+00:00  London Westminster      pm25    8.0\n",
       "...                         ...                 ...       ...    ...\n",
       "2     2019-06-20 22:00:00+00:00             FR04014       no2   26.5\n",
       "102   2019-06-20 23:00:00+00:00  London Westminster      pm25    7.0\n",
       "1     2019-06-20 23:00:00+00:00             FR04014       no2   21.8\n",
       "101   2019-06-21 00:00:00+00:00  London Westminster      pm25    7.0\n",
       "0     2019-06-21 00:00:00+00:00             FR04014       no2   20.0\n",
       "\n",
       "[3178 rows x 4 columns]"
      ]
     },
     "execution_count": 2,
     "metadata": {},
     "output_type": "execute_result"
    }
   ],
   "source": [
    "# 속성이 동일한 두 테이블 병합\n",
    "\n",
    "import pandas as pd\n",
    "\n",
    "air_quality_no2 = pd.read_csv(air_quality_no2_long_csv, parse_dates=True)\n",
    "air_quality_no2 = air_quality_no2[[\"date.utc\", \"location\", \"parameter\", \"value\"]]\n",
    "\n",
    "air_quality_pm25 = pd.read_csv(air_quality_pm25_long_csv, parse_dates=True)\n",
    "air_quality_pm25 = air_quality_pm25[[\"date.utc\", \"location\", \"parameter\", \"value\"]]\n",
    "\n",
    "air_quality = pd.concat([air_quality_pm25, air_quality_no2], axis=0) \n",
    "\n",
    "print('Shape of the air_quality_pm25 table: ', air_quality_pm25.shape, end=\"\\n\\n\")\n",
    "print('Shape of the air_quality_no2 table: ', air_quality_no2.shape, end=\"\\n\\n\")\n",
    "print('Shape of the resulting table: ', air_quality.shape, end=\"\\n\\n\")\n",
    "\n",
    "air_quality = air_quality.sort_values(\"date.utc\")\n",
    "air_quality"
   ]
  },
  {
   "cell_type": "code",
   "execution_count": 3,
   "id": "e77e3fc7",
   "metadata": {
    "execution": {
     "iopub.execute_input": "2022-06-02T07:44:04.655975Z",
     "iopub.status.busy": "2022-06-02T07:44:04.655145Z",
     "iopub.status.idle": "2022-06-02T07:44:04.663055Z",
     "shell.execute_reply": "2022-06-02T07:44:04.662219Z"
    },
    "papermill": {
     "duration": 0.024225,
     "end_time": "2022-06-02T07:44:04.665373",
     "exception": false,
     "start_time": "2022-06-02T07:44:04.641148",
     "status": "completed"
    },
    "tags": []
   },
   "outputs": [],
   "source": [
    "# 속성이 상이한 두 테이블 병합\n",
    "\n",
    "import pandas as pd\n",
    "\n",
    "city = pd.DataFrame({'Num':[175, 178, 389, 927, 1064], 'City':['Seoul', 'Incheon', 'Daejeon', 'Gwangju', 'Busan']})\n",
    "weather = pd.DataFrame({'Num':[178, 1064, 1095], 'Weather':['Sunny', 'Rain', 'Windy']})"
   ]
  },
  {
   "cell_type": "code",
   "execution_count": 4,
   "id": "a3db635f",
   "metadata": {
    "execution": {
     "iopub.execute_input": "2022-06-02T07:44:04.693794Z",
     "iopub.status.busy": "2022-06-02T07:44:04.692949Z",
     "iopub.status.idle": "2022-06-02T07:44:04.715210Z",
     "shell.execute_reply": "2022-06-02T07:44:04.714129Z"
    },
    "papermill": {
     "duration": 0.03893,
     "end_time": "2022-06-02T07:44:04.717481",
     "exception": false,
     "start_time": "2022-06-02T07:44:04.678551",
     "status": "completed"
    },
    "tags": []
   },
   "outputs": [
    {
     "data": {
      "text/html": [
       "<div>\n",
       "<style scoped>\n",
       "    .dataframe tbody tr th:only-of-type {\n",
       "        vertical-align: middle;\n",
       "    }\n",
       "\n",
       "    .dataframe tbody tr th {\n",
       "        vertical-align: top;\n",
       "    }\n",
       "\n",
       "    .dataframe thead th {\n",
       "        text-align: right;\n",
       "    }\n",
       "</style>\n",
       "<table border=\"1\" class=\"dataframe\">\n",
       "  <thead>\n",
       "    <tr style=\"text-align: right;\">\n",
       "      <th></th>\n",
       "      <th>Num</th>\n",
       "      <th>City</th>\n",
       "      <th>Weather</th>\n",
       "    </tr>\n",
       "  </thead>\n",
       "  <tbody>\n",
       "    <tr>\n",
       "      <th>0</th>\n",
       "      <td>175</td>\n",
       "      <td>Seoul</td>\n",
       "      <td>NaN</td>\n",
       "    </tr>\n",
       "    <tr>\n",
       "      <th>1</th>\n",
       "      <td>178</td>\n",
       "      <td>Incheon</td>\n",
       "      <td>Sunny</td>\n",
       "    </tr>\n",
       "    <tr>\n",
       "      <th>2</th>\n",
       "      <td>389</td>\n",
       "      <td>Daejeon</td>\n",
       "      <td>NaN</td>\n",
       "    </tr>\n",
       "    <tr>\n",
       "      <th>3</th>\n",
       "      <td>927</td>\n",
       "      <td>Gwangju</td>\n",
       "      <td>NaN</td>\n",
       "    </tr>\n",
       "    <tr>\n",
       "      <th>4</th>\n",
       "      <td>1064</td>\n",
       "      <td>Busan</td>\n",
       "      <td>Rain</td>\n",
       "    </tr>\n",
       "  </tbody>\n",
       "</table>\n",
       "</div>"
      ],
      "text/plain": [
       "    Num     City Weather\n",
       "0   175    Seoul     NaN\n",
       "1   178  Incheon   Sunny\n",
       "2   389  Daejeon     NaN\n",
       "3   927  Gwangju     NaN\n",
       "4  1064    Busan    Rain"
      ]
     },
     "execution_count": 4,
     "metadata": {},
     "output_type": "execute_result"
    }
   ],
   "source": [
    "# 두 테이블 중 왼쪽 기준으로 병합\n",
    "# 왼쪽에는 있고 오른쪽 테이블에는 없는 값은 NaN\n",
    "# 오른쪽에만 있는 값은 버려짐\n",
    "pd.merge(city, weather, on='Num', how='left')"
   ]
  },
  {
   "cell_type": "code",
   "execution_count": 5,
   "id": "e361c534",
   "metadata": {
    "execution": {
     "iopub.execute_input": "2022-06-02T07:44:04.745599Z",
     "iopub.status.busy": "2022-06-02T07:44:04.745176Z",
     "iopub.status.idle": "2022-06-02T07:44:04.762079Z",
     "shell.execute_reply": "2022-06-02T07:44:04.760944Z"
    },
    "papermill": {
     "duration": 0.033851,
     "end_time": "2022-06-02T07:44:04.764478",
     "exception": false,
     "start_time": "2022-06-02T07:44:04.730627",
     "status": "completed"
    },
    "tags": []
   },
   "outputs": [
    {
     "data": {
      "text/html": [
       "<div>\n",
       "<style scoped>\n",
       "    .dataframe tbody tr th:only-of-type {\n",
       "        vertical-align: middle;\n",
       "    }\n",
       "\n",
       "    .dataframe tbody tr th {\n",
       "        vertical-align: top;\n",
       "    }\n",
       "\n",
       "    .dataframe thead th {\n",
       "        text-align: right;\n",
       "    }\n",
       "</style>\n",
       "<table border=\"1\" class=\"dataframe\">\n",
       "  <thead>\n",
       "    <tr style=\"text-align: right;\">\n",
       "      <th></th>\n",
       "      <th>Num</th>\n",
       "      <th>City</th>\n",
       "      <th>Weather</th>\n",
       "    </tr>\n",
       "  </thead>\n",
       "  <tbody>\n",
       "    <tr>\n",
       "      <th>0</th>\n",
       "      <td>178</td>\n",
       "      <td>Incheon</td>\n",
       "      <td>Sunny</td>\n",
       "    </tr>\n",
       "    <tr>\n",
       "      <th>1</th>\n",
       "      <td>1064</td>\n",
       "      <td>Busan</td>\n",
       "      <td>Rain</td>\n",
       "    </tr>\n",
       "    <tr>\n",
       "      <th>2</th>\n",
       "      <td>1095</td>\n",
       "      <td>NaN</td>\n",
       "      <td>Windy</td>\n",
       "    </tr>\n",
       "  </tbody>\n",
       "</table>\n",
       "</div>"
      ],
      "text/plain": [
       "    Num     City Weather\n",
       "0   178  Incheon   Sunny\n",
       "1  1064    Busan    Rain\n",
       "2  1095      NaN   Windy"
      ]
     },
     "execution_count": 5,
     "metadata": {},
     "output_type": "execute_result"
    }
   ],
   "source": [
    "# 두 테이블 중 오른쪽 기준으로 병합\n",
    "# 오른쪽에는 있고 왼쪽 테이블에는 없는 값은 NaN\n",
    "# 왼쪽에만 있는 값은 버려짐\n",
    "pd.merge(city, weather, on='Num', how='right')"
   ]
  },
  {
   "cell_type": "code",
   "execution_count": 6,
   "id": "dd2c68c8",
   "metadata": {
    "execution": {
     "iopub.execute_input": "2022-06-02T07:44:04.793593Z",
     "iopub.status.busy": "2022-06-02T07:44:04.792681Z",
     "iopub.status.idle": "2022-06-02T07:44:04.809454Z",
     "shell.execute_reply": "2022-06-02T07:44:04.808464Z"
    },
    "papermill": {
     "duration": 0.033885,
     "end_time": "2022-06-02T07:44:04.811683",
     "exception": false,
     "start_time": "2022-06-02T07:44:04.777798",
     "status": "completed"
    },
    "tags": []
   },
   "outputs": [
    {
     "data": {
      "text/html": [
       "<div>\n",
       "<style scoped>\n",
       "    .dataframe tbody tr th:only-of-type {\n",
       "        vertical-align: middle;\n",
       "    }\n",
       "\n",
       "    .dataframe tbody tr th {\n",
       "        vertical-align: top;\n",
       "    }\n",
       "\n",
       "    .dataframe thead th {\n",
       "        text-align: right;\n",
       "    }\n",
       "</style>\n",
       "<table border=\"1\" class=\"dataframe\">\n",
       "  <thead>\n",
       "    <tr style=\"text-align: right;\">\n",
       "      <th></th>\n",
       "      <th>Num</th>\n",
       "      <th>City</th>\n",
       "      <th>Weather</th>\n",
       "    </tr>\n",
       "  </thead>\n",
       "  <tbody>\n",
       "    <tr>\n",
       "      <th>0</th>\n",
       "      <td>178</td>\n",
       "      <td>Incheon</td>\n",
       "      <td>Sunny</td>\n",
       "    </tr>\n",
       "    <tr>\n",
       "      <th>1</th>\n",
       "      <td>1064</td>\n",
       "      <td>Busan</td>\n",
       "      <td>Rain</td>\n",
       "    </tr>\n",
       "  </tbody>\n",
       "</table>\n",
       "</div>"
      ],
      "text/plain": [
       "    Num     City Weather\n",
       "0   178  Incheon   Sunny\n",
       "1  1064    Busan    Rain"
      ]
     },
     "execution_count": 6,
     "metadata": {},
     "output_type": "execute_result"
    }
   ],
   "source": [
    "# 양쪽 테이블 모두 기준으로 함\n",
    "# 두 테이블에 모두 값이 있는 것만 남는다\n",
    "pd.merge(city, weather, on='Num', how='inner')"
   ]
  },
  {
   "cell_type": "code",
   "execution_count": 7,
   "id": "96485da6",
   "metadata": {
    "execution": {
     "iopub.execute_input": "2022-06-02T07:44:04.842195Z",
     "iopub.status.busy": "2022-06-02T07:44:04.841404Z",
     "iopub.status.idle": "2022-06-02T07:44:04.858454Z",
     "shell.execute_reply": "2022-06-02T07:44:04.857449Z"
    },
    "papermill": {
     "duration": 0.035047,
     "end_time": "2022-06-02T07:44:04.860782",
     "exception": false,
     "start_time": "2022-06-02T07:44:04.825735",
     "status": "completed"
    },
    "tags": []
   },
   "outputs": [
    {
     "data": {
      "text/html": [
       "<div>\n",
       "<style scoped>\n",
       "    .dataframe tbody tr th:only-of-type {\n",
       "        vertical-align: middle;\n",
       "    }\n",
       "\n",
       "    .dataframe tbody tr th {\n",
       "        vertical-align: top;\n",
       "    }\n",
       "\n",
       "    .dataframe thead th {\n",
       "        text-align: right;\n",
       "    }\n",
       "</style>\n",
       "<table border=\"1\" class=\"dataframe\">\n",
       "  <thead>\n",
       "    <tr style=\"text-align: right;\">\n",
       "      <th></th>\n",
       "      <th>Num</th>\n",
       "      <th>City</th>\n",
       "      <th>Weather</th>\n",
       "    </tr>\n",
       "  </thead>\n",
       "  <tbody>\n",
       "    <tr>\n",
       "      <th>0</th>\n",
       "      <td>175</td>\n",
       "      <td>Seoul</td>\n",
       "      <td>NaN</td>\n",
       "    </tr>\n",
       "    <tr>\n",
       "      <th>1</th>\n",
       "      <td>178</td>\n",
       "      <td>Incheon</td>\n",
       "      <td>Sunny</td>\n",
       "    </tr>\n",
       "    <tr>\n",
       "      <th>2</th>\n",
       "      <td>389</td>\n",
       "      <td>Daejeon</td>\n",
       "      <td>NaN</td>\n",
       "    </tr>\n",
       "    <tr>\n",
       "      <th>3</th>\n",
       "      <td>927</td>\n",
       "      <td>Gwangju</td>\n",
       "      <td>NaN</td>\n",
       "    </tr>\n",
       "    <tr>\n",
       "      <th>4</th>\n",
       "      <td>1064</td>\n",
       "      <td>Busan</td>\n",
       "      <td>Rain</td>\n",
       "    </tr>\n",
       "    <tr>\n",
       "      <th>5</th>\n",
       "      <td>1095</td>\n",
       "      <td>NaN</td>\n",
       "      <td>Windy</td>\n",
       "    </tr>\n",
       "  </tbody>\n",
       "</table>\n",
       "</div>"
      ],
      "text/plain": [
       "    Num     City Weather\n",
       "0   175    Seoul     NaN\n",
       "1   178  Incheon   Sunny\n",
       "2   389  Daejeon     NaN\n",
       "3   927  Gwangju     NaN\n",
       "4  1064    Busan    Rain\n",
       "5  1095      NaN   Windy"
      ]
     },
     "execution_count": 7,
     "metadata": {},
     "output_type": "execute_result"
    }
   ],
   "source": [
    "# 양쪽 테이블 모두 기준으로 함\n",
    "# 둘 중 한 테이블이라도 값이 있으면 모두 합친다\n",
    "pd.merge(city, weather, on='Num', how='outer')"
   ]
  },
  {
   "cell_type": "markdown",
   "id": "f595cfa3",
   "metadata": {
    "papermill": {
     "duration": 0.013379,
     "end_time": "2022-06-02T07:44:04.887955",
     "exception": false,
     "start_time": "2022-06-02T07:44:04.874576",
     "status": "completed"
    },
    "tags": []
   },
   "source": [
    "## 문자열 data 처리\n",
    "---\n",
    "- 문자열은 `.str` 접근자 통해서 처리 가능\n",
    "- Element-wise 처리\n",
    "- `replace()`: 값을 전환할 때 사용하는 메서드"
   ]
  },
  {
   "cell_type": "code",
   "execution_count": 8,
   "id": "3891661f",
   "metadata": {
    "_kg_hide-output": true,
    "execution": {
     "iopub.execute_input": "2022-06-02T07:44:04.919379Z",
     "iopub.status.busy": "2022-06-02T07:44:04.918679Z",
     "iopub.status.idle": "2022-06-02T07:44:04.993753Z",
     "shell.execute_reply": "2022-06-02T07:44:04.991982Z"
    },
    "papermill": {
     "duration": 0.09417,
     "end_time": "2022-06-02T07:44:04.996509",
     "exception": false,
     "start_time": "2022-06-02T07:44:04.902339",
     "status": "completed"
    },
    "scrolled": true,
    "tags": []
   },
   "outputs": [
    {
     "name": "stdout",
     "output_type": "stream",
     "text": [
      "0                                Braund, Mr. Owen Harris\n",
      "1      Cumings, Mrs. John Bradley (Florence Briggs Th...\n",
      "2                                 Heikkinen, Miss. Laina\n",
      "3           Futrelle, Mrs. Jacques Heath (Lily May Peel)\n",
      "4                               Allen, Mr. William Henry\n",
      "                             ...                        \n",
      "886                                Montvila, Rev. Juozas\n",
      "887                         Graham, Miss. Margaret Edith\n",
      "888             Johnston, Miss. Catherine Helen \"Carrie\"\n",
      "889                                Behr, Mr. Karl Howell\n",
      "890                                  Dooley, Mr. Patrick\n",
      "Name: Name, Length: 891, dtype: object\n",
      "\n",
      "0                                braund, mr. owen harris\n",
      "1      cumings, mrs. john bradley (florence briggs th...\n",
      "2                                 heikkinen, miss. laina\n",
      "3           futrelle, mrs. jacques heath (lily may peel)\n",
      "4                               allen, mr. william henry\n",
      "                             ...                        \n",
      "886                                montvila, rev. juozas\n",
      "887                         graham, miss. margaret edith\n",
      "888             johnston, miss. catherine helen \"carrie\"\n",
      "889                                behr, mr. karl howell\n",
      "890                                  dooley, mr. patrick\n",
      "Name: Name, Length: 891, dtype: object\n",
      "\n",
      "0                             [Braund,  Mr. Owen Harris]\n",
      "1      [Cumings,  Mrs. John Bradley (Florence Briggs ...\n",
      "2                              [Heikkinen,  Miss. Laina]\n",
      "3        [Futrelle,  Mrs. Jacques Heath (Lily May Peel)]\n",
      "4                            [Allen,  Mr. William Henry]\n",
      "                             ...                        \n",
      "886                             [Montvila,  Rev. Juozas]\n",
      "887                      [Graham,  Miss. Margaret Edith]\n",
      "888          [Johnston,  Miss. Catherine Helen \"Carrie\"]\n",
      "889                             [Behr,  Mr. Karl Howell]\n",
      "890                               [Dooley,  Mr. Patrick]\n",
      "Name: Name, Length: 891, dtype: object\n",
      "\n",
      "0         Braund\n",
      "1        Cumings\n",
      "2      Heikkinen\n",
      "3       Futrelle\n",
      "4          Allen\n",
      "         ...    \n",
      "886     Montvila\n",
      "887       Graham\n",
      "888     Johnston\n",
      "889         Behr\n",
      "890       Dooley\n",
      "Name: Surname, Length: 891, dtype: object\n",
      "\n",
      "0      False\n",
      "1      False\n",
      "2      False\n",
      "3      False\n",
      "4      False\n",
      "       ...  \n",
      "886    False\n",
      "887    False\n",
      "888    False\n",
      "889    False\n",
      "890    False\n",
      "Name: Name, Length: 891, dtype: bool\n",
      "\n",
      "0      23\n",
      "1      51\n",
      "2      22\n",
      "3      44\n",
      "4      24\n",
      "       ..\n",
      "886    21\n",
      "887    28\n",
      "888    40\n",
      "889    21\n",
      "890    19\n",
      "Name: Name, Length: 891, dtype: int64\n",
      "\n",
      "307\n",
      "\n",
      "Penasco y Castellana, Mrs. Victor de Satode (Maria Josefa Perez de Soto y Vallejo)\n",
      "\n"
     ]
    },
    {
     "data": {
      "text/html": [
       "<div>\n",
       "<style scoped>\n",
       "    .dataframe tbody tr th:only-of-type {\n",
       "        vertical-align: middle;\n",
       "    }\n",
       "\n",
       "    .dataframe tbody tr th {\n",
       "        vertical-align: top;\n",
       "    }\n",
       "\n",
       "    .dataframe thead th {\n",
       "        text-align: right;\n",
       "    }\n",
       "</style>\n",
       "<table border=\"1\" class=\"dataframe\">\n",
       "  <thead>\n",
       "    <tr style=\"text-align: right;\">\n",
       "      <th></th>\n",
       "      <th>PassengerId</th>\n",
       "      <th>Survived</th>\n",
       "      <th>Pclass</th>\n",
       "      <th>Name</th>\n",
       "      <th>Sex</th>\n",
       "      <th>Age</th>\n",
       "      <th>SibSp</th>\n",
       "      <th>Parch</th>\n",
       "      <th>Ticket</th>\n",
       "      <th>Fare</th>\n",
       "      <th>Cabin</th>\n",
       "      <th>Embarked</th>\n",
       "      <th>Surname</th>\n",
       "      <th>Sex_short</th>\n",
       "    </tr>\n",
       "  </thead>\n",
       "  <tbody>\n",
       "    <tr>\n",
       "      <th>0</th>\n",
       "      <td>1</td>\n",
       "      <td>0</td>\n",
       "      <td>3</td>\n",
       "      <td>Braund, Mr. Owen Harris</td>\n",
       "      <td>male</td>\n",
       "      <td>22.0</td>\n",
       "      <td>1</td>\n",
       "      <td>0</td>\n",
       "      <td>A/5 21171</td>\n",
       "      <td>7.2500</td>\n",
       "      <td>NaN</td>\n",
       "      <td>S</td>\n",
       "      <td>Braund</td>\n",
       "      <td>M</td>\n",
       "    </tr>\n",
       "    <tr>\n",
       "      <th>1</th>\n",
       "      <td>2</td>\n",
       "      <td>1</td>\n",
       "      <td>1</td>\n",
       "      <td>Cumings, Mrs. John Bradley (Florence Briggs Th...</td>\n",
       "      <td>female</td>\n",
       "      <td>38.0</td>\n",
       "      <td>1</td>\n",
       "      <td>0</td>\n",
       "      <td>PC 17599</td>\n",
       "      <td>71.2833</td>\n",
       "      <td>C85</td>\n",
       "      <td>C</td>\n",
       "      <td>Cumings</td>\n",
       "      <td>F</td>\n",
       "    </tr>\n",
       "    <tr>\n",
       "      <th>2</th>\n",
       "      <td>3</td>\n",
       "      <td>1</td>\n",
       "      <td>3</td>\n",
       "      <td>Heikkinen, Miss. Laina</td>\n",
       "      <td>female</td>\n",
       "      <td>26.0</td>\n",
       "      <td>0</td>\n",
       "      <td>0</td>\n",
       "      <td>STON/O2. 3101282</td>\n",
       "      <td>7.9250</td>\n",
       "      <td>NaN</td>\n",
       "      <td>S</td>\n",
       "      <td>Heikkinen</td>\n",
       "      <td>F</td>\n",
       "    </tr>\n",
       "    <tr>\n",
       "      <th>3</th>\n",
       "      <td>4</td>\n",
       "      <td>1</td>\n",
       "      <td>1</td>\n",
       "      <td>Futrelle, Mrs. Jacques Heath (Lily May Peel)</td>\n",
       "      <td>female</td>\n",
       "      <td>35.0</td>\n",
       "      <td>1</td>\n",
       "      <td>0</td>\n",
       "      <td>113803</td>\n",
       "      <td>53.1000</td>\n",
       "      <td>C123</td>\n",
       "      <td>S</td>\n",
       "      <td>Futrelle</td>\n",
       "      <td>F</td>\n",
       "    </tr>\n",
       "    <tr>\n",
       "      <th>4</th>\n",
       "      <td>5</td>\n",
       "      <td>0</td>\n",
       "      <td>3</td>\n",
       "      <td>Allen, Mr. William Henry</td>\n",
       "      <td>male</td>\n",
       "      <td>35.0</td>\n",
       "      <td>0</td>\n",
       "      <td>0</td>\n",
       "      <td>373450</td>\n",
       "      <td>8.0500</td>\n",
       "      <td>NaN</td>\n",
       "      <td>S</td>\n",
       "      <td>Allen</td>\n",
       "      <td>M</td>\n",
       "    </tr>\n",
       "    <tr>\n",
       "      <th>...</th>\n",
       "      <td>...</td>\n",
       "      <td>...</td>\n",
       "      <td>...</td>\n",
       "      <td>...</td>\n",
       "      <td>...</td>\n",
       "      <td>...</td>\n",
       "      <td>...</td>\n",
       "      <td>...</td>\n",
       "      <td>...</td>\n",
       "      <td>...</td>\n",
       "      <td>...</td>\n",
       "      <td>...</td>\n",
       "      <td>...</td>\n",
       "      <td>...</td>\n",
       "    </tr>\n",
       "    <tr>\n",
       "      <th>886</th>\n",
       "      <td>887</td>\n",
       "      <td>0</td>\n",
       "      <td>2</td>\n",
       "      <td>Montvila, Rev. Juozas</td>\n",
       "      <td>male</td>\n",
       "      <td>27.0</td>\n",
       "      <td>0</td>\n",
       "      <td>0</td>\n",
       "      <td>211536</td>\n",
       "      <td>13.0000</td>\n",
       "      <td>NaN</td>\n",
       "      <td>S</td>\n",
       "      <td>Montvila</td>\n",
       "      <td>M</td>\n",
       "    </tr>\n",
       "    <tr>\n",
       "      <th>887</th>\n",
       "      <td>888</td>\n",
       "      <td>1</td>\n",
       "      <td>1</td>\n",
       "      <td>Graham, Miss. Margaret Edith</td>\n",
       "      <td>female</td>\n",
       "      <td>19.0</td>\n",
       "      <td>0</td>\n",
       "      <td>0</td>\n",
       "      <td>112053</td>\n",
       "      <td>30.0000</td>\n",
       "      <td>B42</td>\n",
       "      <td>S</td>\n",
       "      <td>Graham</td>\n",
       "      <td>F</td>\n",
       "    </tr>\n",
       "    <tr>\n",
       "      <th>888</th>\n",
       "      <td>889</td>\n",
       "      <td>0</td>\n",
       "      <td>3</td>\n",
       "      <td>Johnston, Miss. Catherine Helen \"Carrie\"</td>\n",
       "      <td>female</td>\n",
       "      <td>NaN</td>\n",
       "      <td>1</td>\n",
       "      <td>2</td>\n",
       "      <td>W./C. 6607</td>\n",
       "      <td>23.4500</td>\n",
       "      <td>NaN</td>\n",
       "      <td>S</td>\n",
       "      <td>Johnston</td>\n",
       "      <td>F</td>\n",
       "    </tr>\n",
       "    <tr>\n",
       "      <th>889</th>\n",
       "      <td>890</td>\n",
       "      <td>1</td>\n",
       "      <td>1</td>\n",
       "      <td>Behr, Mr. Karl Howell</td>\n",
       "      <td>male</td>\n",
       "      <td>26.0</td>\n",
       "      <td>0</td>\n",
       "      <td>0</td>\n",
       "      <td>111369</td>\n",
       "      <td>30.0000</td>\n",
       "      <td>C148</td>\n",
       "      <td>C</td>\n",
       "      <td>Behr</td>\n",
       "      <td>M</td>\n",
       "    </tr>\n",
       "    <tr>\n",
       "      <th>890</th>\n",
       "      <td>891</td>\n",
       "      <td>0</td>\n",
       "      <td>3</td>\n",
       "      <td>Dooley, Mr. Patrick</td>\n",
       "      <td>male</td>\n",
       "      <td>32.0</td>\n",
       "      <td>0</td>\n",
       "      <td>0</td>\n",
       "      <td>370376</td>\n",
       "      <td>7.7500</td>\n",
       "      <td>NaN</td>\n",
       "      <td>Q</td>\n",
       "      <td>Dooley</td>\n",
       "      <td>M</td>\n",
       "    </tr>\n",
       "  </tbody>\n",
       "</table>\n",
       "<p>891 rows × 14 columns</p>\n",
       "</div>"
      ],
      "text/plain": [
       "     PassengerId  Survived  Pclass  \\\n",
       "0              1         0       3   \n",
       "1              2         1       1   \n",
       "2              3         1       3   \n",
       "3              4         1       1   \n",
       "4              5         0       3   \n",
       "..           ...       ...     ...   \n",
       "886          887         0       2   \n",
       "887          888         1       1   \n",
       "888          889         0       3   \n",
       "889          890         1       1   \n",
       "890          891         0       3   \n",
       "\n",
       "                                                  Name     Sex   Age  SibSp  \\\n",
       "0                              Braund, Mr. Owen Harris    male  22.0      1   \n",
       "1    Cumings, Mrs. John Bradley (Florence Briggs Th...  female  38.0      1   \n",
       "2                               Heikkinen, Miss. Laina  female  26.0      0   \n",
       "3         Futrelle, Mrs. Jacques Heath (Lily May Peel)  female  35.0      1   \n",
       "4                             Allen, Mr. William Henry    male  35.0      0   \n",
       "..                                                 ...     ...   ...    ...   \n",
       "886                              Montvila, Rev. Juozas    male  27.0      0   \n",
       "887                       Graham, Miss. Margaret Edith  female  19.0      0   \n",
       "888           Johnston, Miss. Catherine Helen \"Carrie\"  female   NaN      1   \n",
       "889                              Behr, Mr. Karl Howell    male  26.0      0   \n",
       "890                                Dooley, Mr. Patrick    male  32.0      0   \n",
       "\n",
       "     Parch            Ticket     Fare Cabin Embarked    Surname Sex_short  \n",
       "0        0         A/5 21171   7.2500   NaN        S     Braund         M  \n",
       "1        0          PC 17599  71.2833   C85        C    Cumings         F  \n",
       "2        0  STON/O2. 3101282   7.9250   NaN        S  Heikkinen         F  \n",
       "3        0            113803  53.1000  C123        S   Futrelle         F  \n",
       "4        0            373450   8.0500   NaN        S      Allen         M  \n",
       "..     ...               ...      ...   ...      ...        ...       ...  \n",
       "886      0            211536  13.0000   NaN        S   Montvila         M  \n",
       "887      0            112053  30.0000   B42        S     Graham         F  \n",
       "888      2        W./C. 6607  23.4500   NaN        S   Johnston         F  \n",
       "889      0            111369  30.0000  C148        C       Behr         M  \n",
       "890      0            370376   7.7500   NaN        Q     Dooley         M  \n",
       "\n",
       "[891 rows x 14 columns]"
      ]
     },
     "execution_count": 8,
     "metadata": {},
     "output_type": "execute_result"
    }
   ],
   "source": [
    "import pandas as pd\n",
    "\n",
    "titanic = pd.read_csv(titanic_csv)\n",
    "\n",
    "print(titanic[\"Name\"], end=\"\\n\\n\")  # 이름 속성 프린트\n",
    "print(titanic[\"Name\"].str.lower(), end=\"\\n\\n\")  # 이름 속성 전부 소문자로 바꿔서 프린트\n",
    "print(titanic[\"Name\"].str.split(\",\"), end=\"\\n\\n\")  # 이름 속성의 샘플 각각 쉼표 단위로 구분해서 리스트로 만듦\n",
    "\n",
    "titanic[\"Surname\"] = titanic[\"Name\"].str.split(\",\").str.get(0)  # 이름 속성의 샘플 각각 쉼표 단위로 구분해서 리스트로 만들고, 그 중 첫 번째 요소만 저장\n",
    "\n",
    "print(titanic[\"Surname\"], end=\"\\n\\n\")  # Surname 속성 프린트\n",
    "print(titanic[\"Name\"].str.contains(\"Countess\"), end=\"\\n\\n\")  # 이름 속성의 샘플이 \"Countess\"라는 값을 포함하는지에 대한 bool 출력\n",
    "print(titanic[\"Name\"].str.len(), end=\"\\n\\n\")  # 이름 길이 출력\n",
    "print(titanic[\"Name\"].str.len().idxmax(), end=\"\\n\\n\")  # 이름이 가장 긴 샘플의 인덱스 출력\n",
    "print(titanic.loc[titanic[\"Name\"].str.len().idxmax(), \"Name\"], end=\"\\n\\n\")  # 이름이 가장 긴 샘플의 이름 출력\n",
    "\n",
    "titanic[\"Sex_short\"] = titanic[\"Sex\"].replace({\"male\": \"M\", \"female\": \"F\"})  # 성별 속성의 값(key)을 지정한 딕셔너리의 value로 대체한 새 속성 추가\n",
    "titanic  # titanic 보기"
   ]
  },
  {
   "cell_type": "markdown",
   "id": "64cbc765",
   "metadata": {
    "papermill": {
     "duration": 0.014903,
     "end_time": "2022-06-02T07:44:05.028974",
     "exception": false,
     "start_time": "2022-06-02T07:44:05.014071",
     "status": "completed"
    },
    "tags": []
   },
   "source": [
    "## Time series\n",
    "---\n",
    "- `to_datetime()` : string을 날짜 object로 바꾸는 함수\n",
    "- `dt` : date-related properties\n",
    "- DatetimeIndex : `no_2[\"2019-05-20\":\"2019-05-21\"]`"
   ]
  },
  {
   "cell_type": "code",
   "execution_count": 9,
   "id": "54305800",
   "metadata": {
    "execution": {
     "iopub.execute_input": "2022-06-02T07:44:05.059581Z",
     "iopub.status.busy": "2022-06-02T07:44:05.058796Z",
     "iopub.status.idle": "2022-06-02T07:44:05.112791Z",
     "shell.execute_reply": "2022-06-02T07:44:05.110668Z"
    },
    "papermill": {
     "duration": 0.072549,
     "end_time": "2022-06-02T07:44:05.115554",
     "exception": false,
     "start_time": "2022-06-02T07:44:05.043005",
     "status": "completed"
    },
    "scrolled": true,
    "tags": []
   },
   "outputs": [
    {
     "name": "stdout",
     "output_type": "stream",
     "text": [
      "0      2019-06-21 00:00:00+00:00\n",
      "1      2019-06-20 23:00:00+00:00\n",
      "2      2019-06-20 22:00:00+00:00\n",
      "3      2019-06-20 21:00:00+00:00\n",
      "4      2019-06-20 20:00:00+00:00\n",
      "                  ...           \n",
      "2063   2019-05-07 06:00:00+00:00\n",
      "2064   2019-05-07 04:00:00+00:00\n",
      "2065   2019-05-07 03:00:00+00:00\n",
      "2066   2019-05-07 02:00:00+00:00\n",
      "2067   2019-05-07 01:00:00+00:00\n",
      "Name: datetime, Length: 2068, dtype: datetime64[ns, UTC]\n",
      "\n",
      "2019-05-07 01:00:00+00:00\n",
      "\n",
      "2019-06-21 00:00:00+00:00\n",
      "\n",
      "44 days 23:00:00\n",
      "\n"
     ]
    },
    {
     "data": {
      "text/html": [
       "<div>\n",
       "<style scoped>\n",
       "    .dataframe tbody tr th:only-of-type {\n",
       "        vertical-align: middle;\n",
       "    }\n",
       "\n",
       "    .dataframe tbody tr th {\n",
       "        vertical-align: top;\n",
       "    }\n",
       "\n",
       "    .dataframe thead th {\n",
       "        text-align: right;\n",
       "    }\n",
       "</style>\n",
       "<table border=\"1\" class=\"dataframe\">\n",
       "  <thead>\n",
       "    <tr style=\"text-align: right;\">\n",
       "      <th></th>\n",
       "      <th>city</th>\n",
       "      <th>country</th>\n",
       "      <th>datetime</th>\n",
       "      <th>location</th>\n",
       "      <th>parameter</th>\n",
       "      <th>value</th>\n",
       "      <th>unit</th>\n",
       "      <th>month</th>\n",
       "      <th>weekday</th>\n",
       "    </tr>\n",
       "  </thead>\n",
       "  <tbody>\n",
       "    <tr>\n",
       "      <th>0</th>\n",
       "      <td>Paris</td>\n",
       "      <td>FR</td>\n",
       "      <td>2019-06-21 00:00:00+00:00</td>\n",
       "      <td>FR04014</td>\n",
       "      <td>no2</td>\n",
       "      <td>20.0</td>\n",
       "      <td>µg/m³</td>\n",
       "      <td>6</td>\n",
       "      <td>4</td>\n",
       "    </tr>\n",
       "    <tr>\n",
       "      <th>1</th>\n",
       "      <td>Paris</td>\n",
       "      <td>FR</td>\n",
       "      <td>2019-06-20 23:00:00+00:00</td>\n",
       "      <td>FR04014</td>\n",
       "      <td>no2</td>\n",
       "      <td>21.8</td>\n",
       "      <td>µg/m³</td>\n",
       "      <td>6</td>\n",
       "      <td>3</td>\n",
       "    </tr>\n",
       "    <tr>\n",
       "      <th>2</th>\n",
       "      <td>Paris</td>\n",
       "      <td>FR</td>\n",
       "      <td>2019-06-20 22:00:00+00:00</td>\n",
       "      <td>FR04014</td>\n",
       "      <td>no2</td>\n",
       "      <td>26.5</td>\n",
       "      <td>µg/m³</td>\n",
       "      <td>6</td>\n",
       "      <td>3</td>\n",
       "    </tr>\n",
       "    <tr>\n",
       "      <th>3</th>\n",
       "      <td>Paris</td>\n",
       "      <td>FR</td>\n",
       "      <td>2019-06-20 21:00:00+00:00</td>\n",
       "      <td>FR04014</td>\n",
       "      <td>no2</td>\n",
       "      <td>24.9</td>\n",
       "      <td>µg/m³</td>\n",
       "      <td>6</td>\n",
       "      <td>3</td>\n",
       "    </tr>\n",
       "    <tr>\n",
       "      <th>4</th>\n",
       "      <td>Paris</td>\n",
       "      <td>FR</td>\n",
       "      <td>2019-06-20 20:00:00+00:00</td>\n",
       "      <td>FR04014</td>\n",
       "      <td>no2</td>\n",
       "      <td>21.4</td>\n",
       "      <td>µg/m³</td>\n",
       "      <td>6</td>\n",
       "      <td>3</td>\n",
       "    </tr>\n",
       "    <tr>\n",
       "      <th>...</th>\n",
       "      <td>...</td>\n",
       "      <td>...</td>\n",
       "      <td>...</td>\n",
       "      <td>...</td>\n",
       "      <td>...</td>\n",
       "      <td>...</td>\n",
       "      <td>...</td>\n",
       "      <td>...</td>\n",
       "      <td>...</td>\n",
       "    </tr>\n",
       "    <tr>\n",
       "      <th>2063</th>\n",
       "      <td>London</td>\n",
       "      <td>GB</td>\n",
       "      <td>2019-05-07 06:00:00+00:00</td>\n",
       "      <td>London Westminster</td>\n",
       "      <td>no2</td>\n",
       "      <td>26.0</td>\n",
       "      <td>µg/m³</td>\n",
       "      <td>5</td>\n",
       "      <td>1</td>\n",
       "    </tr>\n",
       "    <tr>\n",
       "      <th>2064</th>\n",
       "      <td>London</td>\n",
       "      <td>GB</td>\n",
       "      <td>2019-05-07 04:00:00+00:00</td>\n",
       "      <td>London Westminster</td>\n",
       "      <td>no2</td>\n",
       "      <td>16.0</td>\n",
       "      <td>µg/m³</td>\n",
       "      <td>5</td>\n",
       "      <td>1</td>\n",
       "    </tr>\n",
       "    <tr>\n",
       "      <th>2065</th>\n",
       "      <td>London</td>\n",
       "      <td>GB</td>\n",
       "      <td>2019-05-07 03:00:00+00:00</td>\n",
       "      <td>London Westminster</td>\n",
       "      <td>no2</td>\n",
       "      <td>19.0</td>\n",
       "      <td>µg/m³</td>\n",
       "      <td>5</td>\n",
       "      <td>1</td>\n",
       "    </tr>\n",
       "    <tr>\n",
       "      <th>2066</th>\n",
       "      <td>London</td>\n",
       "      <td>GB</td>\n",
       "      <td>2019-05-07 02:00:00+00:00</td>\n",
       "      <td>London Westminster</td>\n",
       "      <td>no2</td>\n",
       "      <td>19.0</td>\n",
       "      <td>µg/m³</td>\n",
       "      <td>5</td>\n",
       "      <td>1</td>\n",
       "    </tr>\n",
       "    <tr>\n",
       "      <th>2067</th>\n",
       "      <td>London</td>\n",
       "      <td>GB</td>\n",
       "      <td>2019-05-07 01:00:00+00:00</td>\n",
       "      <td>London Westminster</td>\n",
       "      <td>no2</td>\n",
       "      <td>23.0</td>\n",
       "      <td>µg/m³</td>\n",
       "      <td>5</td>\n",
       "      <td>1</td>\n",
       "    </tr>\n",
       "  </tbody>\n",
       "</table>\n",
       "<p>2068 rows × 9 columns</p>\n",
       "</div>"
      ],
      "text/plain": [
       "        city country                  datetime            location parameter  \\\n",
       "0      Paris      FR 2019-06-21 00:00:00+00:00             FR04014       no2   \n",
       "1      Paris      FR 2019-06-20 23:00:00+00:00             FR04014       no2   \n",
       "2      Paris      FR 2019-06-20 22:00:00+00:00             FR04014       no2   \n",
       "3      Paris      FR 2019-06-20 21:00:00+00:00             FR04014       no2   \n",
       "4      Paris      FR 2019-06-20 20:00:00+00:00             FR04014       no2   \n",
       "...      ...     ...                       ...                 ...       ...   \n",
       "2063  London      GB 2019-05-07 06:00:00+00:00  London Westminster       no2   \n",
       "2064  London      GB 2019-05-07 04:00:00+00:00  London Westminster       no2   \n",
       "2065  London      GB 2019-05-07 03:00:00+00:00  London Westminster       no2   \n",
       "2066  London      GB 2019-05-07 02:00:00+00:00  London Westminster       no2   \n",
       "2067  London      GB 2019-05-07 01:00:00+00:00  London Westminster       no2   \n",
       "\n",
       "      value   unit  month  weekday  \n",
       "0      20.0  µg/m³      6        4  \n",
       "1      21.8  µg/m³      6        3  \n",
       "2      26.5  µg/m³      6        3  \n",
       "3      24.9  µg/m³      6        3  \n",
       "4      21.4  µg/m³      6        3  \n",
       "...     ...    ...    ...      ...  \n",
       "2063   26.0  µg/m³      5        1  \n",
       "2064   16.0  µg/m³      5        1  \n",
       "2065   19.0  µg/m³      5        1  \n",
       "2066   19.0  µg/m³      5        1  \n",
       "2067   23.0  µg/m³      5        1  \n",
       "\n",
       "[2068 rows x 9 columns]"
      ]
     },
     "execution_count": 9,
     "metadata": {},
     "output_type": "execute_result"
    }
   ],
   "source": [
    "import pandas as pd\n",
    "import matplotlib.pyplot as plt\n",
    "\n",
    "air_quality = pd.read_csv(air_quality_no2_long_csv)\n",
    "air_quality = air_quality.rename(columns={\"date.utc\": \"datetime\"})  # 지정한 속성의 이름 변경\n",
    "air_quality[\"datetime\"] = pd.to_datetime(air_quality[\"datetime\"])  # to_datetime : string을 날짜 object로 바꾸는 함수\n",
    "\n",
    "print(air_quality[\"datetime\"], end=\"\\n\\n\")  # 날짜 오브젝트로 바꾼 날짜 속성 출력\n",
    "print(air_quality[\"datetime\"].min(), end=\"\\n\\n\")  # 날짜 오브젝트 속성 중 최솟값 출력\n",
    "print(air_quality[\"datetime\"].max(), end=\"\\n\\n\")  # 날짜 오브젝트 속성 중 최댓값 출력\n",
    "print(air_quality[\"datetime\"].max() - air_quality[\"datetime\"].min(), end=\"\\n\\n\")  # 최댓값 - 최솟값 출력\n",
    "\n",
    "air_quality[\"month\"] = air_quality[\"datetime\"].dt.month\n",
    "air_quality[\"weekday\"] = air_quality[\"datetime\"].dt.weekday\n",
    "\n",
    "air_quality"
   ]
  },
  {
   "cell_type": "code",
   "execution_count": 10,
   "id": "7b080ee5",
   "metadata": {
    "execution": {
     "iopub.execute_input": "2022-06-02T07:44:05.147648Z",
     "iopub.status.busy": "2022-06-02T07:44:05.147117Z",
     "iopub.status.idle": "2022-06-02T07:44:05.784138Z",
     "shell.execute_reply": "2022-06-02T07:44:05.782883Z"
    },
    "papermill": {
     "duration": 0.655694,
     "end_time": "2022-06-02T07:44:05.786638",
     "exception": false,
     "start_time": "2022-06-02T07:44:05.130944",
     "status": "completed"
    },
    "tags": []
   },
   "outputs": [
    {
     "data": {
      "image/png": "[encoded data removed]",
      "text/plain": [
       "<Figure size 864x288 with 1 Axes>"
      ]
     },
     "metadata": {
      "needs_background": "light"
     },
     "output_type": "display_data"
    }
   ],
   "source": [
    "fig, axs = plt.subplots(figsize=(12, 4))\n",
    "air_quality.groupby(air_quality[\"datetime\"].dt.hour)[\"value\"].mean().plot(kind='bar', rot=0, ax=axs)\n",
    "plt.xlabel(\"Hour of the day\")\n",
    "plt.ylabel(\"$No_2(\\mu g/m^3)$\")\n",
    "plt.show()"
   ]
  },
  {
   "cell_type": "code",
   "execution_count": 11,
   "id": "f89fdc19",
   "metadata": {
    "execution": {
     "iopub.execute_input": "2022-06-02T07:44:05.819507Z",
     "iopub.status.busy": "2022-06-02T07:44:05.818746Z",
     "iopub.status.idle": "2022-06-02T07:44:06.330574Z",
     "shell.execute_reply": "2022-06-02T07:44:06.329021Z"
    },
    "papermill": {
     "duration": 0.531238,
     "end_time": "2022-06-02T07:44:06.333167",
     "exception": false,
     "start_time": "2022-06-02T07:44:05.801929",
     "status": "completed"
    },
    "tags": []
   },
   "outputs": [
    {
     "data": {
      "image/png": "[encoded data removed]",
      "text/plain": [
       "<Figure size 864x288 with 1 Axes>"
      ]
     },
     "metadata": {
      "needs_background": "light"
     },
     "output_type": "display_data"
    }
   ],
   "source": [
    "fig, axs = plt.subplots(figsize=(12, 4))\n",
    "air_quality.groupby(air_quality[\"datetime\"].dt.hour)[\"value\"].mean().plot(kind='bar', rot=0, ax=axs)\n",
    "plt.xlabel(\"Hour of the day\")\n",
    "plt.ylabel(\"$No_2(\\mu g/m^3)$\")\n",
    "plt.show()"
   ]
  },
  {
   "cell_type": "code",
   "execution_count": 12,
   "id": "9ee1a24d",
   "metadata": {
    "execution": {
     "iopub.execute_input": "2022-06-02T07:44:06.368531Z",
     "iopub.status.busy": "2022-06-02T07:44:06.368038Z",
     "iopub.status.idle": "2022-06-02T07:44:06.660987Z",
     "shell.execute_reply": "2022-06-02T07:44:06.659336Z"
    },
    "papermill": {
     "duration": 0.313349,
     "end_time": "2022-06-02T07:44:06.663547",
     "exception": false,
     "start_time": "2022-06-02T07:44:06.350198",
     "status": "completed"
    },
    "tags": []
   },
   "outputs": [
    {
     "name": "stdout",
     "output_type": "stream",
     "text": [
      "location                   BETR801  FR04014  London Westminster\n",
      "datetime                                                       \n",
      "2019-05-07 01:00:00+00:00     50.5     25.0                23.0\n",
      "2019-05-07 02:00:00+00:00     45.0     27.7                19.0\n",
      "2019-05-07 03:00:00+00:00      NaN     50.4                19.0\n",
      "2019-05-07 04:00:00+00:00      NaN     61.9                16.0\n",
      "2019-05-07 05:00:00+00:00      NaN     72.4                 NaN\n",
      "\n",
      "Int64Index([2019, 2019, 2019, 2019, 2019, 2019, 2019, 2019, 2019, 2019,\n",
      "            ...\n",
      "            2019, 2019, 2019, 2019, 2019, 2019, 2019, 2019, 2019, 2019],\n",
      "           dtype='int64', name='datetime', length=1033)\n",
      "\n",
      "Int64Index([1, 1, 1, 1, 1, 1, 1, 1, 1, 1,\n",
      "            ...\n",
      "            3, 3, 3, 3, 3, 3, 3, 3, 3, 4],\n",
      "           dtype='int64', name='datetime', length=1033)\n",
      "\n"
     ]
    },
    {
     "data": {
      "image/png": "[encoded data removed]",
      "text/plain": [
       "<Figure size 432x288 with 1 Axes>"
      ]
     },
     "metadata": {
      "needs_background": "light"
     },
     "output_type": "display_data"
    }
   ],
   "source": [
    "no_2 = air_quality.pivot(index=\"datetime\", columns=\"location\", values=\"value\")\n",
    "print(no_2.head(), end=\"\\n\\n\")\n",
    "print(no_2.index.year, end=\"\\n\\n\")\n",
    "print(no_2.index.weekday, end=\"\\n\\n\")\n",
    "no_2[\"2019-05-20\":\"2019-05-21\"].plot()  # DatetimeIndex\n",
    "plt.show()"
   ]
  },
  {
   "cell_type": "markdown",
   "id": "3ac8fc16",
   "metadata": {
    "papermill": {
     "duration": 0.016,
     "end_time": "2022-06-02T07:44:06.696310",
     "exception": false,
     "start_time": "2022-06-02T07:44:06.680310",
     "status": "completed"
    },
    "tags": []
   },
   "source": [
    "### 출석 대체 예제\n",
    "---"
   ]
  },
  {
   "cell_type": "code",
   "execution_count": 13,
   "id": "486555b4",
   "metadata": {
    "_kg_hide-input": true,
    "_kg_hide-output": true,
    "execution": {
     "iopub.execute_input": "2022-06-02T07:44:06.730752Z",
     "iopub.status.busy": "2022-06-02T07:44:06.730255Z",
     "iopub.status.idle": "2022-06-02T07:44:07.355381Z",
     "shell.execute_reply": "2022-06-02T07:44:07.354386Z"
    },
    "papermill": {
     "duration": 0.645073,
     "end_time": "2022-06-02T07:44:07.357442",
     "exception": false,
     "start_time": "2022-06-02T07:44:06.712369",
     "status": "completed"
    },
    "scrolled": true,
    "tags": []
   },
   "outputs": [
    {
     "name": "stdout",
     "output_type": "stream",
     "text": [
      "0      2019-06-21 00:00:00+00:00\n",
      "1      2019-06-20 23:00:00+00:00\n",
      "2      2019-06-20 22:00:00+00:00\n",
      "3      2019-06-20 21:00:00+00:00\n",
      "4      2019-06-20 20:00:00+00:00\n",
      "                  ...           \n",
      "2063   2019-05-07 06:00:00+00:00\n",
      "2064   2019-05-07 04:00:00+00:00\n",
      "2065   2019-05-07 03:00:00+00:00\n",
      "2066   2019-05-07 02:00:00+00:00\n",
      "2067   2019-05-07 01:00:00+00:00\n",
      "Name: datetime, Length: 2068, dtype: datetime64[ns, UTC]\n",
      "2019-05-07 01:00:00+00:00\n",
      "2019-06-21 00:00:00+00:00\n",
      "44 days 23:00:00\n"
     ]
    },
    {
     "data": {
      "image/png": "[encoded data removed]",
      "text/plain": [
       "<Figure size 864x288 with 1 Axes>"
      ]
     },
     "metadata": {
      "needs_background": "light"
     },
     "output_type": "display_data"
    },
    {
     "name": "stdout",
     "output_type": "stream",
     "text": [
      "location                   BETR801  FR04014  London Westminster\n",
      "datetime                                                       \n",
      "2019-05-07 01:00:00+00:00     50.5     25.0                23.0\n",
      "2019-05-07 02:00:00+00:00     45.0     27.7                19.0\n",
      "2019-05-07 03:00:00+00:00      NaN     50.4                19.0\n",
      "2019-05-07 04:00:00+00:00      NaN     61.9                16.0\n",
      "2019-05-07 05:00:00+00:00      NaN     72.4                 NaN\n",
      "Int64Index([2019, 2019, 2019, 2019, 2019, 2019, 2019, 2019, 2019, 2019,\n",
      "            ...\n",
      "            2019, 2019, 2019, 2019, 2019, 2019, 2019, 2019, 2019, 2019],\n",
      "           dtype='int64', name='datetime', length=1033)\n",
      "Int64Index([1, 1, 1, 1, 1, 1, 1, 1, 1, 1,\n",
      "            ...\n",
      "            3, 3, 3, 3, 3, 3, 3, 3, 3, 4],\n",
      "           dtype='int64', name='datetime', length=1033)\n"
     ]
    },
    {
     "data": {
      "image/png": "[encoded data removed]",
      "text/plain": [
       "<Figure size 432x288 with 1 Axes>"
      ]
     },
     "metadata": {
      "needs_background": "light"
     },
     "output_type": "display_data"
    }
   ],
   "source": [
    "import pandas as pd\n",
    "import matplotlib.pyplot as plt\n",
    "\n",
    "air_quality = pd.read_csv(air_quality_no2_long_csv)\n",
    "air_quality = air_quality.rename(columns={\"date.utc\": \"datetime\"})\n",
    "air_quality[\"datetime\"] = pd.to_datetime(air_quality[\"datetime\"])\n",
    "print(air_quality[\"datetime\"])\n",
    "print(air_quality[\"datetime\"].min())\n",
    "print(air_quality[\"datetime\"].max())\n",
    "print(air_quality[\"datetime\"].max()-air_quality[\"datetime\"].min())\n",
    "air_quality[\"month\"] = air_quality[\"datetime\"].dt.month\n",
    "air_quality[\"weekday\"] = air_quality[\"datetime\"].dt.weekday\n",
    "\n",
    "fig,axs = plt.subplots(figsize=(12,4))\n",
    "air_quality.groupby(air_quality[\"datetime\"].dt.hour)[\"value\"].mean().plot(kind='bar', rot=0, ax=axs)\n",
    "plt.xlabel(\"Hour of the day\")\n",
    "plt.ylabel(\"$No_2(\\mu g/m^3)$\")\n",
    "plt.show()\n",
    "\n",
    "no_2 = air_quality.pivot(index=\"datetime\", columns=\"location\", \n",
    "values=\"value\")\n",
    "print(no_2.head())\n",
    "print(no_2.index.year);print(no_2.index.weekday)\n",
    "no_2[\"2019-05-20\":\"2019-05-21\"].plot()\n",
    "plt.show()"
   ]
  },
  {
   "cell_type": "markdown",
   "id": "498921f4",
   "metadata": {
    "papermill": {
     "duration": 0.017876,
     "end_time": "2022-06-02T07:44:07.392933",
     "exception": false,
     "start_time": "2022-06-02T07:44:07.375057",
     "status": "completed"
    },
    "tags": []
   },
   "source": [
    "## Missing data processing\n",
    "---\n",
    "- `isna()` : NaN이면 True\n",
    "- `notna()` : NaN이면 False"
   ]
  },
  {
   "cell_type": "code",
   "execution_count": 14,
   "id": "1266b017",
   "metadata": {
    "execution": {
     "iopub.execute_input": "2022-06-02T07:44:07.430120Z",
     "iopub.status.busy": "2022-06-02T07:44:07.428707Z",
     "iopub.status.idle": "2022-06-02T07:44:07.447114Z",
     "shell.execute_reply": "2022-06-02T07:44:07.446127Z"
    },
    "papermill": {
     "duration": 0.039181,
     "end_time": "2022-06-02T07:44:07.449284",
     "exception": false,
     "start_time": "2022-06-02T07:44:07.410103",
     "status": "completed"
    },
    "tags": []
   },
   "outputs": [
    {
     "data": {
      "text/html": [
       "<div>\n",
       "<style scoped>\n",
       "    .dataframe tbody tr th:only-of-type {\n",
       "        vertical-align: middle;\n",
       "    }\n",
       "\n",
       "    .dataframe tbody tr th {\n",
       "        vertical-align: top;\n",
       "    }\n",
       "\n",
       "    .dataframe thead th {\n",
       "        text-align: right;\n",
       "    }\n",
       "</style>\n",
       "<table border=\"1\" class=\"dataframe\">\n",
       "  <thead>\n",
       "    <tr style=\"text-align: right;\">\n",
       "      <th></th>\n",
       "      <th>one</th>\n",
       "      <th>two</th>\n",
       "      <th>three</th>\n",
       "      <th>four</th>\n",
       "      <th>five</th>\n",
       "    </tr>\n",
       "  </thead>\n",
       "  <tbody>\n",
       "    <tr>\n",
       "      <th>a</th>\n",
       "      <td>1.138941</td>\n",
       "      <td>0.366537</td>\n",
       "      <td>-2.063567</td>\n",
       "      <td>bar</td>\n",
       "      <td>True</td>\n",
       "    </tr>\n",
       "    <tr>\n",
       "      <th>c</th>\n",
       "      <td>0.720475</td>\n",
       "      <td>-1.365804</td>\n",
       "      <td>0.367113</td>\n",
       "      <td>bar</td>\n",
       "      <td>True</td>\n",
       "    </tr>\n",
       "    <tr>\n",
       "      <th>e</th>\n",
       "      <td>-1.056324</td>\n",
       "      <td>0.104030</td>\n",
       "      <td>1.361490</td>\n",
       "      <td>bar</td>\n",
       "      <td>False</td>\n",
       "    </tr>\n",
       "    <tr>\n",
       "      <th>f</th>\n",
       "      <td>-0.515411</td>\n",
       "      <td>0.470009</td>\n",
       "      <td>-1.046039</td>\n",
       "      <td>bar</td>\n",
       "      <td>False</td>\n",
       "    </tr>\n",
       "    <tr>\n",
       "      <th>h</th>\n",
       "      <td>1.256227</td>\n",
       "      <td>1.902384</td>\n",
       "      <td>0.598284</td>\n",
       "      <td>bar</td>\n",
       "      <td>True</td>\n",
       "    </tr>\n",
       "  </tbody>\n",
       "</table>\n",
       "</div>"
      ],
      "text/plain": [
       "        one       two     three four   five\n",
       "a  1.138941  0.366537 -2.063567  bar   True\n",
       "c  0.720475 -1.365804  0.367113  bar   True\n",
       "e -1.056324  0.104030  1.361490  bar  False\n",
       "f -0.515411  0.470009 -1.046039  bar  False\n",
       "h  1.256227  1.902384  0.598284  bar   True"
      ]
     },
     "execution_count": 14,
     "metadata": {},
     "output_type": "execute_result"
    }
   ],
   "source": [
    "import pandas as pd\n",
    "import numpy as np\n",
    "\n",
    "df = pd.DataFrame(np.random.randn(5, 3),\n",
    "                  index=[\"a\", \"c\", \"e\", \"f\", \"h\"],\n",
    "                  columns=[\"one\", \"two\", \"three\"],\n",
    "                 )\n",
    "\n",
    "df[\"four\"] = \"bar\"  # 새 속성의 모든 값이 \"bar\"가 됨\n",
    "df[\"five\"] = df[\"one\"] > 0  # 새 속성에 식의 결과값이 각각 저장됨\n",
    "\n",
    "df"
   ]
  },
  {
   "cell_type": "code",
   "execution_count": 15,
   "id": "94d5f3f5",
   "metadata": {
    "execution": {
     "iopub.execute_input": "2022-06-02T07:44:07.489313Z",
     "iopub.status.busy": "2022-06-02T07:44:07.488771Z",
     "iopub.status.idle": "2022-06-02T07:44:07.499577Z",
     "shell.execute_reply": "2022-06-02T07:44:07.498218Z"
    },
    "papermill": {
     "duration": 0.034134,
     "end_time": "2022-06-02T07:44:07.501842",
     "exception": false,
     "start_time": "2022-06-02T07:44:07.467708",
     "status": "completed"
    },
    "scrolled": true,
    "tags": []
   },
   "outputs": [
    {
     "data": {
      "text/plain": [
       "a    1.138941\n",
       "b         NaN\n",
       "c    0.720475\n",
       "d         NaN\n",
       "e   -1.056324\n",
       "f   -0.515411\n",
       "g         NaN\n",
       "h    1.256227\n",
       "Name: one, dtype: float64"
      ]
     },
     "execution_count": 15,
     "metadata": {},
     "output_type": "execute_result"
    }
   ],
   "source": [
    "df2 = df.reindex([\"a\", \"b\", \"c\", \"d\", \"e\", \"f\", \"g\", \"h\"])  # 위에서 사용한 데이터프레임의 인덱스(행 번호) 이름을 다시 지정함\n",
    "# 원래는 없던 인덱스가 있다면 NaN으로 채워짐\n",
    "\n",
    "df2[\"one\"]"
   ]
  },
  {
   "cell_type": "code",
   "execution_count": 16,
   "id": "c22f19e4",
   "metadata": {
    "execution": {
     "iopub.execute_input": "2022-06-02T07:44:07.539112Z",
     "iopub.status.busy": "2022-06-02T07:44:07.538596Z",
     "iopub.status.idle": "2022-06-02T07:44:07.548058Z",
     "shell.execute_reply": "2022-06-02T07:44:07.546881Z"
    },
    "papermill": {
     "duration": 0.031189,
     "end_time": "2022-06-02T07:44:07.550473",
     "exception": false,
     "start_time": "2022-06-02T07:44:07.519284",
     "status": "completed"
    },
    "tags": []
   },
   "outputs": [
    {
     "data": {
      "text/plain": [
       "a    False\n",
       "b     True\n",
       "c    False\n",
       "d     True\n",
       "e    False\n",
       "f    False\n",
       "g     True\n",
       "h    False\n",
       "Name: one, dtype: bool"
      ]
     },
     "execution_count": 16,
     "metadata": {},
     "output_type": "execute_result"
    }
   ],
   "source": [
    "pd.isna(df2[\"one\"])  # NaN이면 True"
   ]
  },
  {
   "cell_type": "code",
   "execution_count": 17,
   "id": "853822ec",
   "metadata": {
    "execution": {
     "iopub.execute_input": "2022-06-02T07:44:07.589843Z",
     "iopub.status.busy": "2022-06-02T07:44:07.589375Z",
     "iopub.status.idle": "2022-06-02T07:44:07.598604Z",
     "shell.execute_reply": "2022-06-02T07:44:07.597588Z"
    },
    "papermill": {
     "duration": 0.032156,
     "end_time": "2022-06-02T07:44:07.600768",
     "exception": false,
     "start_time": "2022-06-02T07:44:07.568612",
     "status": "completed"
    },
    "tags": []
   },
   "outputs": [
    {
     "data": {
      "text/plain": [
       "a     True\n",
       "b    False\n",
       "c     True\n",
       "d    False\n",
       "e     True\n",
       "f     True\n",
       "g    False\n",
       "h     True\n",
       "Name: four, dtype: bool"
      ]
     },
     "execution_count": 17,
     "metadata": {},
     "output_type": "execute_result"
    }
   ],
   "source": [
    "df2[\"four\"].notna()  # NaN이면 False"
   ]
  },
  {
   "cell_type": "code",
   "execution_count": 18,
   "id": "36f173cb",
   "metadata": {
    "execution": {
     "iopub.execute_input": "2022-06-02T07:44:07.639668Z",
     "iopub.status.busy": "2022-06-02T07:44:07.639175Z",
     "iopub.status.idle": "2022-06-02T07:44:07.653298Z",
     "shell.execute_reply": "2022-06-02T07:44:07.652415Z"
    },
    "papermill": {
     "duration": 0.036107,
     "end_time": "2022-06-02T07:44:07.655528",
     "exception": false,
     "start_time": "2022-06-02T07:44:07.619421",
     "status": "completed"
    },
    "tags": []
   },
   "outputs": [
    {
     "data": {
      "text/html": [
       "<div>\n",
       "<style scoped>\n",
       "    .dataframe tbody tr th:only-of-type {\n",
       "        vertical-align: middle;\n",
       "    }\n",
       "\n",
       "    .dataframe tbody tr th {\n",
       "        vertical-align: top;\n",
       "    }\n",
       "\n",
       "    .dataframe thead th {\n",
       "        text-align: right;\n",
       "    }\n",
       "</style>\n",
       "<table border=\"1\" class=\"dataframe\">\n",
       "  <thead>\n",
       "    <tr style=\"text-align: right;\">\n",
       "      <th></th>\n",
       "      <th>one</th>\n",
       "      <th>two</th>\n",
       "      <th>three</th>\n",
       "      <th>four</th>\n",
       "      <th>five</th>\n",
       "    </tr>\n",
       "  </thead>\n",
       "  <tbody>\n",
       "    <tr>\n",
       "      <th>a</th>\n",
       "      <td>False</td>\n",
       "      <td>False</td>\n",
       "      <td>False</td>\n",
       "      <td>False</td>\n",
       "      <td>False</td>\n",
       "    </tr>\n",
       "    <tr>\n",
       "      <th>b</th>\n",
       "      <td>True</td>\n",
       "      <td>True</td>\n",
       "      <td>True</td>\n",
       "      <td>True</td>\n",
       "      <td>True</td>\n",
       "    </tr>\n",
       "    <tr>\n",
       "      <th>c</th>\n",
       "      <td>False</td>\n",
       "      <td>False</td>\n",
       "      <td>False</td>\n",
       "      <td>False</td>\n",
       "      <td>False</td>\n",
       "    </tr>\n",
       "    <tr>\n",
       "      <th>d</th>\n",
       "      <td>True</td>\n",
       "      <td>True</td>\n",
       "      <td>True</td>\n",
       "      <td>True</td>\n",
       "      <td>True</td>\n",
       "    </tr>\n",
       "    <tr>\n",
       "      <th>e</th>\n",
       "      <td>False</td>\n",
       "      <td>False</td>\n",
       "      <td>False</td>\n",
       "      <td>False</td>\n",
       "      <td>False</td>\n",
       "    </tr>\n",
       "    <tr>\n",
       "      <th>f</th>\n",
       "      <td>False</td>\n",
       "      <td>False</td>\n",
       "      <td>False</td>\n",
       "      <td>False</td>\n",
       "      <td>False</td>\n",
       "    </tr>\n",
       "    <tr>\n",
       "      <th>g</th>\n",
       "      <td>True</td>\n",
       "      <td>True</td>\n",
       "      <td>True</td>\n",
       "      <td>True</td>\n",
       "      <td>True</td>\n",
       "    </tr>\n",
       "    <tr>\n",
       "      <th>h</th>\n",
       "      <td>False</td>\n",
       "      <td>False</td>\n",
       "      <td>False</td>\n",
       "      <td>False</td>\n",
       "      <td>False</td>\n",
       "    </tr>\n",
       "  </tbody>\n",
       "</table>\n",
       "</div>"
      ],
      "text/plain": [
       "     one    two  three   four   five\n",
       "a  False  False  False  False  False\n",
       "b   True   True   True   True   True\n",
       "c  False  False  False  False  False\n",
       "d   True   True   True   True   True\n",
       "e  False  False  False  False  False\n",
       "f  False  False  False  False  False\n",
       "g   True   True   True   True   True\n",
       "h  False  False  False  False  False"
      ]
     },
     "execution_count": 18,
     "metadata": {},
     "output_type": "execute_result"
    }
   ],
   "source": [
    "df2.isna()  # NaN이면 True"
   ]
  },
  {
   "cell_type": "markdown",
   "id": "e7d73599",
   "metadata": {
    "papermill": {
     "duration": 0.019078,
     "end_time": "2022-06-02T07:44:07.693928",
     "exception": false,
     "start_time": "2022-06-02T07:44:07.674850",
     "status": "completed"
    },
    "tags": []
   },
   "source": [
    "### Missing data가 있을 때의 연산   \n",
    "- NaN + 값 = NaN\n",
    "- `sum()`, `mean()` 등 함수에 의한 계산은 NaN 값을 자동으로 무시함\n",
    "- `cumsum()` : 누적합\n",
    "    - `skipna=False` : NaN 포함해서 계산함"
   ]
  },
  {
   "cell_type": "code",
   "execution_count": 19,
   "id": "4c073120",
   "metadata": {
    "execution": {
     "iopub.execute_input": "2022-06-02T07:44:07.732677Z",
     "iopub.status.busy": "2022-06-02T07:44:07.732049Z",
     "iopub.status.idle": "2022-06-02T07:44:07.755289Z",
     "shell.execute_reply": "2022-06-02T07:44:07.754268Z"
    },
    "papermill": {
     "duration": 0.045135,
     "end_time": "2022-06-02T07:44:07.757521",
     "exception": false,
     "start_time": "2022-06-02T07:44:07.712386",
     "status": "completed"
    },
    "tags": []
   },
   "outputs": [
    {
     "data": {
      "text/html": [
       "<div>\n",
       "<style scoped>\n",
       "    .dataframe tbody tr th:only-of-type {\n",
       "        vertical-align: middle;\n",
       "    }\n",
       "\n",
       "    .dataframe tbody tr th {\n",
       "        vertical-align: top;\n",
       "    }\n",
       "\n",
       "    .dataframe thead th {\n",
       "        text-align: right;\n",
       "    }\n",
       "</style>\n",
       "<table border=\"1\" class=\"dataframe\">\n",
       "  <thead>\n",
       "    <tr style=\"text-align: right;\">\n",
       "      <th></th>\n",
       "      <th>one</th>\n",
       "      <th>three</th>\n",
       "      <th>two</th>\n",
       "    </tr>\n",
       "  </thead>\n",
       "  <tbody>\n",
       "    <tr>\n",
       "      <th>a</th>\n",
       "      <td>NaN</td>\n",
       "      <td>NaN</td>\n",
       "      <td>-0.565726</td>\n",
       "    </tr>\n",
       "    <tr>\n",
       "      <th>c</th>\n",
       "      <td>NaN</td>\n",
       "      <td>NaN</td>\n",
       "      <td>2.424224</td>\n",
       "    </tr>\n",
       "    <tr>\n",
       "      <th>e</th>\n",
       "      <td>-0.398418</td>\n",
       "      <td>NaN</td>\n",
       "      <td>-2.088472</td>\n",
       "    </tr>\n",
       "    <tr>\n",
       "      <th>f</th>\n",
       "      <td>NaN</td>\n",
       "      <td>NaN</td>\n",
       "      <td>-0.989858</td>\n",
       "    </tr>\n",
       "    <tr>\n",
       "      <th>h</th>\n",
       "      <td>-4.210269</td>\n",
       "      <td>NaN</td>\n",
       "      <td>-1.413542</td>\n",
       "    </tr>\n",
       "  </tbody>\n",
       "</table>\n",
       "</div>"
      ],
      "text/plain": [
       "        one  three       two\n",
       "a       NaN    NaN -0.565726\n",
       "c       NaN    NaN  2.424224\n",
       "e -0.398418    NaN -2.088472\n",
       "f       NaN    NaN -0.989858\n",
       "h -4.210269    NaN -1.413542"
      ]
     },
     "execution_count": 19,
     "metadata": {},
     "output_type": "execute_result"
    }
   ],
   "source": [
    "a = pd.DataFrame([[np.nan, -0.282863],\n",
    "                  [np.nan, 1.212112],\n",
    "                  [-.199209,-1.044236],\n",
    "                  [-2.104569, -0.494929],\n",
    "                  [-2.104569, -0.706771]],\n",
    "                 index=[\"a\", \"c\", \"e\", \"f\", \"h\"],\n",
    "                 columns=[\"one\", \"two\"],\n",
    "                )\n",
    "\n",
    "b = pd.DataFrame([[np.nan, -0.282863, -1.509059],\n",
    "                  [np.nan, 1.212112, -0.173215],\n",
    "                  [-.199209, -1.044236, -0.861849],\n",
    "                  [np.nan, - 0.494929, 1.071804],\n",
    "                  [-2.1057, -0.706771,-1.039575]],\n",
    "                 index=[\"a\", \"c\", \"e\", \"f\", \"h\"],\n",
    "                 columns=[\"one\", \"two\", \"three\"],\n",
    "                )\n",
    "\n",
    "a + b"
   ]
  },
  {
   "cell_type": "code",
   "execution_count": 20,
   "id": "b4515e20",
   "metadata": {
    "execution": {
     "iopub.execute_input": "2022-06-02T07:44:07.801125Z",
     "iopub.status.busy": "2022-06-02T07:44:07.800659Z",
     "iopub.status.idle": "2022-06-02T07:44:07.809185Z",
     "shell.execute_reply": "2022-06-02T07:44:07.808273Z"
    },
    "papermill": {
     "duration": 0.033621,
     "end_time": "2022-06-02T07:44:07.811455",
     "exception": false,
     "start_time": "2022-06-02T07:44:07.777834",
     "status": "completed"
    },
    "tags": []
   },
   "outputs": [
    {
     "data": {
      "text/plain": [
       "-2.3049090000000003"
      ]
     },
     "execution_count": 20,
     "metadata": {},
     "output_type": "execute_result"
    }
   ],
   "source": [
    "b[\"one\"].sum()"
   ]
  },
  {
   "cell_type": "code",
   "execution_count": 21,
   "id": "dedb06da",
   "metadata": {
    "execution": {
     "iopub.execute_input": "2022-06-02T07:44:07.853068Z",
     "iopub.status.busy": "2022-06-02T07:44:07.851627Z",
     "iopub.status.idle": "2022-06-02T07:44:07.860829Z",
     "shell.execute_reply": "2022-06-02T07:44:07.859938Z"
    },
    "papermill": {
     "duration": 0.032106,
     "end_time": "2022-06-02T07:44:07.863127",
     "exception": false,
     "start_time": "2022-06-02T07:44:07.831021",
     "status": "completed"
    },
    "tags": []
   },
   "outputs": [
    {
     "data": {
      "text/plain": [
       "a   -0.895961\n",
       "c    0.519448\n",
       "e   -0.701765\n",
       "f    0.288438\n",
       "h   -1.284015\n",
       "dtype: float64"
      ]
     },
     "execution_count": 21,
     "metadata": {},
     "output_type": "execute_result"
    }
   ],
   "source": [
    "b.mean(1)  # 0은 열(속성) 단위 계산, 1은 인덱스 단위 계산"
   ]
  },
  {
   "cell_type": "code",
   "execution_count": 22,
   "id": "d6752d9f",
   "metadata": {
    "execution": {
     "iopub.execute_input": "2022-06-02T07:44:07.905586Z",
     "iopub.status.busy": "2022-06-02T07:44:07.904906Z",
     "iopub.status.idle": "2022-06-02T07:44:07.916285Z",
     "shell.execute_reply": "2022-06-02T07:44:07.915345Z"
    },
    "papermill": {
     "duration": 0.034567,
     "end_time": "2022-06-02T07:44:07.918604",
     "exception": false,
     "start_time": "2022-06-02T07:44:07.884037",
     "status": "completed"
    },
    "tags": []
   },
   "outputs": [
    {
     "data": {
      "text/html": [
       "<div>\n",
       "<style scoped>\n",
       "    .dataframe tbody tr th:only-of-type {\n",
       "        vertical-align: middle;\n",
       "    }\n",
       "\n",
       "    .dataframe tbody tr th {\n",
       "        vertical-align: top;\n",
       "    }\n",
       "\n",
       "    .dataframe thead th {\n",
       "        text-align: right;\n",
       "    }\n",
       "</style>\n",
       "<table border=\"1\" class=\"dataframe\">\n",
       "  <thead>\n",
       "    <tr style=\"text-align: right;\">\n",
       "      <th></th>\n",
       "      <th>one</th>\n",
       "      <th>two</th>\n",
       "      <th>three</th>\n",
       "    </tr>\n",
       "  </thead>\n",
       "  <tbody>\n",
       "    <tr>\n",
       "      <th>a</th>\n",
       "      <td>NaN</td>\n",
       "      <td>-0.282863</td>\n",
       "      <td>-1.509059</td>\n",
       "    </tr>\n",
       "    <tr>\n",
       "      <th>c</th>\n",
       "      <td>NaN</td>\n",
       "      <td>0.929249</td>\n",
       "      <td>-1.682274</td>\n",
       "    </tr>\n",
       "    <tr>\n",
       "      <th>e</th>\n",
       "      <td>-0.199209</td>\n",
       "      <td>-0.114987</td>\n",
       "      <td>-2.544123</td>\n",
       "    </tr>\n",
       "    <tr>\n",
       "      <th>f</th>\n",
       "      <td>NaN</td>\n",
       "      <td>-0.609916</td>\n",
       "      <td>-1.472319</td>\n",
       "    </tr>\n",
       "    <tr>\n",
       "      <th>h</th>\n",
       "      <td>-2.304909</td>\n",
       "      <td>-1.316687</td>\n",
       "      <td>-2.511894</td>\n",
       "    </tr>\n",
       "  </tbody>\n",
       "</table>\n",
       "</div>"
      ],
      "text/plain": [
       "        one       two     three\n",
       "a       NaN -0.282863 -1.509059\n",
       "c       NaN  0.929249 -1.682274\n",
       "e -0.199209 -0.114987 -2.544123\n",
       "f       NaN -0.609916 -1.472319\n",
       "h -2.304909 -1.316687 -2.511894"
      ]
     },
     "execution_count": 22,
     "metadata": {},
     "output_type": "execute_result"
    }
   ],
   "source": [
    "b.cumsum()  # 누적합"
   ]
  },
  {
   "cell_type": "code",
   "execution_count": 23,
   "id": "173286f3",
   "metadata": {
    "execution": {
     "iopub.execute_input": "2022-06-02T07:44:07.960159Z",
     "iopub.status.busy": "2022-06-02T07:44:07.959664Z",
     "iopub.status.idle": "2022-06-02T07:44:07.971365Z",
     "shell.execute_reply": "2022-06-02T07:44:07.970608Z"
    },
    "papermill": {
     "duration": 0.034754,
     "end_time": "2022-06-02T07:44:07.973058",
     "exception": false,
     "start_time": "2022-06-02T07:44:07.938304",
     "status": "completed"
    },
    "tags": []
   },
   "outputs": [
    {
     "data": {
      "text/html": [
       "<div>\n",
       "<style scoped>\n",
       "    .dataframe tbody tr th:only-of-type {\n",
       "        vertical-align: middle;\n",
       "    }\n",
       "\n",
       "    .dataframe tbody tr th {\n",
       "        vertical-align: top;\n",
       "    }\n",
       "\n",
       "    .dataframe thead th {\n",
       "        text-align: right;\n",
       "    }\n",
       "</style>\n",
       "<table border=\"1\" class=\"dataframe\">\n",
       "  <thead>\n",
       "    <tr style=\"text-align: right;\">\n",
       "      <th></th>\n",
       "      <th>one</th>\n",
       "      <th>two</th>\n",
       "      <th>three</th>\n",
       "    </tr>\n",
       "  </thead>\n",
       "  <tbody>\n",
       "    <tr>\n",
       "      <th>a</th>\n",
       "      <td>NaN</td>\n",
       "      <td>-0.282863</td>\n",
       "      <td>-1.509059</td>\n",
       "    </tr>\n",
       "    <tr>\n",
       "      <th>c</th>\n",
       "      <td>NaN</td>\n",
       "      <td>0.929249</td>\n",
       "      <td>-1.682274</td>\n",
       "    </tr>\n",
       "    <tr>\n",
       "      <th>e</th>\n",
       "      <td>NaN</td>\n",
       "      <td>-0.114987</td>\n",
       "      <td>-2.544123</td>\n",
       "    </tr>\n",
       "    <tr>\n",
       "      <th>f</th>\n",
       "      <td>NaN</td>\n",
       "      <td>-0.609916</td>\n",
       "      <td>-1.472319</td>\n",
       "    </tr>\n",
       "    <tr>\n",
       "      <th>h</th>\n",
       "      <td>NaN</td>\n",
       "      <td>-1.316687</td>\n",
       "      <td>-2.511894</td>\n",
       "    </tr>\n",
       "  </tbody>\n",
       "</table>\n",
       "</div>"
      ],
      "text/plain": [
       "   one       two     three\n",
       "a  NaN -0.282863 -1.509059\n",
       "c  NaN  0.929249 -1.682274\n",
       "e  NaN -0.114987 -2.544123\n",
       "f  NaN -0.609916 -1.472319\n",
       "h  NaN -1.316687 -2.511894"
      ]
     },
     "execution_count": 23,
     "metadata": {},
     "output_type": "execute_result"
    }
   ],
   "source": [
    "b.cumsum(skipna=False)"
   ]
  },
  {
   "cell_type": "markdown",
   "id": "aed19549",
   "metadata": {
    "papermill": {
     "duration": 0.020647,
     "end_time": "2022-06-02T07:44:08.013701",
     "exception": false,
     "start_time": "2022-06-02T07:44:07.993054",
     "status": "completed"
    },
    "tags": []
   },
   "source": [
    "- 비어있거나 모두 NaN인 Series의 합은 0, 곱은 1\n",
    "- `GroupBy()` : NaN은 자동 제외"
   ]
  },
  {
   "cell_type": "code",
   "execution_count": 24,
   "id": "089d853c",
   "metadata": {
    "execution": {
     "iopub.execute_input": "2022-06-02T07:44:08.058067Z",
     "iopub.status.busy": "2022-06-02T07:44:08.056946Z",
     "iopub.status.idle": "2022-06-02T07:44:08.083484Z",
     "shell.execute_reply": "2022-06-02T07:44:08.082030Z"
    },
    "papermill": {
     "duration": 0.052538,
     "end_time": "2022-06-02T07:44:08.086801",
     "exception": false,
     "start_time": "2022-06-02T07:44:08.034263",
     "status": "completed"
    },
    "tags": []
   },
   "outputs": [
    {
     "name": "stdout",
     "output_type": "stream",
     "text": [
      "0.0\n",
      "\n",
      "0.0\n",
      "\n",
      "1.0\n",
      "\n",
      "1.0\n",
      "\n"
     ]
    },
    {
     "data": {
      "text/html": [
       "<div>\n",
       "<style scoped>\n",
       "    .dataframe tbody tr th:only-of-type {\n",
       "        vertical-align: middle;\n",
       "    }\n",
       "\n",
       "    .dataframe tbody tr th {\n",
       "        vertical-align: top;\n",
       "    }\n",
       "\n",
       "    .dataframe thead th {\n",
       "        text-align: right;\n",
       "    }\n",
       "</style>\n",
       "<table border=\"1\" class=\"dataframe\">\n",
       "  <thead>\n",
       "    <tr style=\"text-align: right;\">\n",
       "      <th></th>\n",
       "      <th>two</th>\n",
       "    </tr>\n",
       "    <tr>\n",
       "      <th>one</th>\n",
       "      <th></th>\n",
       "    </tr>\n",
       "  </thead>\n",
       "  <tbody>\n",
       "    <tr>\n",
       "      <th>-0.199209</th>\n",
       "      <td>-1.044236</td>\n",
       "    </tr>\n",
       "  </tbody>\n",
       "</table>\n",
       "</div>"
      ],
      "text/plain": [
       "                two\n",
       "one                \n",
       "-0.199209 -1.044236"
      ]
     },
     "execution_count": 24,
     "metadata": {},
     "output_type": "execute_result"
    }
   ],
   "source": [
    "print(pd.Series([np.nan]).sum(), end=\"\\n\\n\")\n",
    "print(pd.Series([], dtype=\"float64\").sum(), end=\"\\n\\n\")\n",
    "print(pd.Series([np.nan]).prod(), end=\"\\n\\n\")  # 곱\n",
    "print(pd.Series([], dtype=\"float64\").prod(), end=\"\\n\\n\")  # 곱\n",
    "\n",
    "b = pd.DataFrame([[np.nan, -0.282863],\n",
    "                  [np.nan, 1.212112],\n",
    "                  [-.199209,-1.044236],\n",
    "                  [np.nan, -0.494929],],\n",
    "                 index=[\"a\", \"c\", \"e\", \"f\"],\n",
    "                 columns=[\"one\", \"two\"],\n",
    "                 )\n",
    "\n",
    "b.groupby(\"one\").mean()"
   ]
  },
  {
   "cell_type": "markdown",
   "id": "0e1391d2",
   "metadata": {
    "papermill": {
     "duration": 0.020558,
     "end_time": "2022-06-02T07:44:08.128150",
     "exception": false,
     "start_time": "2022-06-02T07:44:08.107592",
     "status": "completed"
    },
    "tags": []
   },
   "source": [
    "### 손실 데이터 채우기\n",
    "- `fillna()` : NaN을 지정한 값으로 채움"
   ]
  },
  {
   "cell_type": "code",
   "execution_count": 25,
   "id": "ed8bb840",
   "metadata": {
    "execution": {
     "iopub.execute_input": "2022-06-02T07:44:08.174298Z",
     "iopub.status.busy": "2022-06-02T07:44:08.172903Z",
     "iopub.status.idle": "2022-06-02T07:44:08.193738Z",
     "shell.execute_reply": "2022-06-02T07:44:08.192050Z"
    },
    "papermill": {
     "duration": 0.045773,
     "end_time": "2022-06-02T07:44:08.196481",
     "exception": false,
     "start_time": "2022-06-02T07:44:08.150708",
     "status": "completed"
    },
    "tags": []
   },
   "outputs": [
    {
     "name": "stdout",
     "output_type": "stream",
     "text": [
      "        one       two\n",
      "a  0.000000 -0.282863\n",
      "c  0.000000  1.212112\n",
      "e -0.199209 -1.044236\n",
      "f  0.000000 -0.494929\n",
      "\n",
      "        one       two\n",
      "a   no data -0.282863\n",
      "c   no data  1.212112\n",
      "e -0.199209 -1.044236\n",
      "f   no data -0.494929\n",
      "\n",
      "        one       two\n",
      "a       NaN -0.282863\n",
      "c       NaN  1.212112\n",
      "e -0.199209 -1.044236\n",
      "f -0.199209 -0.494929\n",
      "\n"
     ]
    }
   ],
   "source": [
    "b = pd.DataFrame([[np.nan, -0.282863],\n",
    "                  [np.nan, 1.212112],\n",
    "                  [-.199209,-1.044236],\n",
    "                  [np.nan, -0.494929],],\n",
    "                 index=[\"a\", \"c\", \"e\", \"f\"],\n",
    "                 columns=[\"one\", \"two\"],\n",
    "                )\n",
    "\n",
    "b1 = b\n",
    "b2 = b\n",
    "\n",
    "print(b.fillna(0), end=\"\\n\\n\")\n",
    "print(b1.fillna(\"no data\"), end=\"\\n\\n\")\n",
    "print(b2.fillna(method=\"pad\"), end=\"\\n\\n\")"
   ]
  },
  {
   "cell_type": "markdown",
   "id": "0731007f",
   "metadata": {
    "papermill": {
     "duration": 0.022413,
     "end_time": "2022-06-02T07:44:08.241403",
     "exception": false,
     "start_time": "2022-06-02T07:44:08.218990",
     "status": "completed"
    },
    "tags": []
   },
   "source": [
    "- `mean()` : Column의 평균으로 채움"
   ]
  },
  {
   "cell_type": "code",
   "execution_count": 26,
   "id": "08d2f6af",
   "metadata": {
    "execution": {
     "iopub.execute_input": "2022-06-02T07:44:08.291371Z",
     "iopub.status.busy": "2022-06-02T07:44:08.290946Z",
     "iopub.status.idle": "2022-06-02T07:44:08.306013Z",
     "shell.execute_reply": "2022-06-02T07:44:08.305017Z"
    },
    "papermill": {
     "duration": 0.042289,
     "end_time": "2022-06-02T07:44:08.308546",
     "exception": false,
     "start_time": "2022-06-02T07:44:08.266257",
     "status": "completed"
    },
    "tags": []
   },
   "outputs": [
    {
     "data": {
      "text/html": [
       "<div>\n",
       "<style scoped>\n",
       "    .dataframe tbody tr th:only-of-type {\n",
       "        vertical-align: middle;\n",
       "    }\n",
       "\n",
       "    .dataframe tbody tr th {\n",
       "        vertical-align: top;\n",
       "    }\n",
       "\n",
       "    .dataframe thead th {\n",
       "        text-align: right;\n",
       "    }\n",
       "</style>\n",
       "<table border=\"1\" class=\"dataframe\">\n",
       "  <thead>\n",
       "    <tr style=\"text-align: right;\">\n",
       "      <th></th>\n",
       "      <th>A</th>\n",
       "      <th>B</th>\n",
       "      <th>C</th>\n",
       "    </tr>\n",
       "  </thead>\n",
       "  <tbody>\n",
       "    <tr>\n",
       "      <th>0</th>\n",
       "      <td>-0.438327</td>\n",
       "      <td>-0.047815</td>\n",
       "      <td>0.064130</td>\n",
       "    </tr>\n",
       "    <tr>\n",
       "      <th>1</th>\n",
       "      <td>-0.797710</td>\n",
       "      <td>-0.939351</td>\n",
       "      <td>0.275244</td>\n",
       "    </tr>\n",
       "    <tr>\n",
       "      <th>2</th>\n",
       "      <td>-0.470478</td>\n",
       "      <td>-0.668732</td>\n",
       "      <td>-0.665118</td>\n",
       "    </tr>\n",
       "    <tr>\n",
       "      <th>3</th>\n",
       "      <td>NaN</td>\n",
       "      <td>0.566876</td>\n",
       "      <td>-1.340106</td>\n",
       "    </tr>\n",
       "    <tr>\n",
       "      <th>4</th>\n",
       "      <td>NaN</td>\n",
       "      <td>NaN</td>\n",
       "      <td>-0.607494</td>\n",
       "    </tr>\n",
       "    <tr>\n",
       "      <th>5</th>\n",
       "      <td>0.317693</td>\n",
       "      <td>NaN</td>\n",
       "      <td>NaN</td>\n",
       "    </tr>\n",
       "    <tr>\n",
       "      <th>6</th>\n",
       "      <td>0.678947</td>\n",
       "      <td>0.571302</td>\n",
       "      <td>NaN</td>\n",
       "    </tr>\n",
       "    <tr>\n",
       "      <th>7</th>\n",
       "      <td>0.059711</td>\n",
       "      <td>0.164630</td>\n",
       "      <td>NaN</td>\n",
       "    </tr>\n",
       "    <tr>\n",
       "      <th>8</th>\n",
       "      <td>1.498166</td>\n",
       "      <td>0.632405</td>\n",
       "      <td>-0.092434</td>\n",
       "    </tr>\n",
       "    <tr>\n",
       "      <th>9</th>\n",
       "      <td>-0.585100</td>\n",
       "      <td>-0.755124</td>\n",
       "      <td>-1.228983</td>\n",
       "    </tr>\n",
       "  </tbody>\n",
       "</table>\n",
       "</div>"
      ],
      "text/plain": [
       "          A         B         C\n",
       "0 -0.438327 -0.047815  0.064130\n",
       "1 -0.797710 -0.939351  0.275244\n",
       "2 -0.470478 -0.668732 -0.665118\n",
       "3       NaN  0.566876 -1.340106\n",
       "4       NaN       NaN -0.607494\n",
       "5  0.317693       NaN       NaN\n",
       "6  0.678947  0.571302       NaN\n",
       "7  0.059711  0.164630       NaN\n",
       "8  1.498166  0.632405 -0.092434\n",
       "9 -0.585100 -0.755124 -1.228983"
      ]
     },
     "execution_count": 26,
     "metadata": {},
     "output_type": "execute_result"
    }
   ],
   "source": [
    "import pandas as pd\n",
    "import numpy as np\n",
    "\n",
    "dff = pd.DataFrame(np.random.randn(10, 3), columns=list(\"ABC\"))\n",
    "\n",
    "dff.iloc[3:5, 0] = np.nan\n",
    "dff.iloc[4:6, 1] = np.nan\n",
    "dff.iloc[5:8, 2] = np.nan\n",
    "\n",
    "dff"
   ]
  },
  {
   "cell_type": "code",
   "execution_count": 27,
   "id": "b07bfaf4",
   "metadata": {
    "execution": {
     "iopub.execute_input": "2022-06-02T07:44:08.353012Z",
     "iopub.status.busy": "2022-06-02T07:44:08.352327Z",
     "iopub.status.idle": "2022-06-02T07:44:08.364829Z",
     "shell.execute_reply": "2022-06-02T07:44:08.364050Z"
    },
    "papermill": {
     "duration": 0.037133,
     "end_time": "2022-06-02T07:44:08.367320",
     "exception": false,
     "start_time": "2022-06-02T07:44:08.330187",
     "status": "completed"
    },
    "tags": []
   },
   "outputs": [
    {
     "data": {
      "text/html": [
       "<div>\n",
       "<style scoped>\n",
       "    .dataframe tbody tr th:only-of-type {\n",
       "        vertical-align: middle;\n",
       "    }\n",
       "\n",
       "    .dataframe tbody tr th {\n",
       "        vertical-align: top;\n",
       "    }\n",
       "\n",
       "    .dataframe thead th {\n",
       "        text-align: right;\n",
       "    }\n",
       "</style>\n",
       "<table border=\"1\" class=\"dataframe\">\n",
       "  <thead>\n",
       "    <tr style=\"text-align: right;\">\n",
       "      <th></th>\n",
       "      <th>A</th>\n",
       "      <th>B</th>\n",
       "      <th>C</th>\n",
       "    </tr>\n",
       "  </thead>\n",
       "  <tbody>\n",
       "    <tr>\n",
       "      <th>0</th>\n",
       "      <td>-0.438327</td>\n",
       "      <td>-0.047815</td>\n",
       "      <td>0.064130</td>\n",
       "    </tr>\n",
       "    <tr>\n",
       "      <th>1</th>\n",
       "      <td>-0.797710</td>\n",
       "      <td>-0.939351</td>\n",
       "      <td>0.275244</td>\n",
       "    </tr>\n",
       "    <tr>\n",
       "      <th>2</th>\n",
       "      <td>-0.470478</td>\n",
       "      <td>-0.668732</td>\n",
       "      <td>-0.665118</td>\n",
       "    </tr>\n",
       "    <tr>\n",
       "      <th>3</th>\n",
       "      <td>0.032863</td>\n",
       "      <td>0.566876</td>\n",
       "      <td>-1.340106</td>\n",
       "    </tr>\n",
       "    <tr>\n",
       "      <th>4</th>\n",
       "      <td>0.032863</td>\n",
       "      <td>-0.059476</td>\n",
       "      <td>-0.607494</td>\n",
       "    </tr>\n",
       "    <tr>\n",
       "      <th>5</th>\n",
       "      <td>0.317693</td>\n",
       "      <td>-0.059476</td>\n",
       "      <td>-0.513537</td>\n",
       "    </tr>\n",
       "    <tr>\n",
       "      <th>6</th>\n",
       "      <td>0.678947</td>\n",
       "      <td>0.571302</td>\n",
       "      <td>-0.513537</td>\n",
       "    </tr>\n",
       "    <tr>\n",
       "      <th>7</th>\n",
       "      <td>0.059711</td>\n",
       "      <td>0.164630</td>\n",
       "      <td>-0.513537</td>\n",
       "    </tr>\n",
       "    <tr>\n",
       "      <th>8</th>\n",
       "      <td>1.498166</td>\n",
       "      <td>0.632405</td>\n",
       "      <td>-0.092434</td>\n",
       "    </tr>\n",
       "    <tr>\n",
       "      <th>9</th>\n",
       "      <td>-0.585100</td>\n",
       "      <td>-0.755124</td>\n",
       "      <td>-1.228983</td>\n",
       "    </tr>\n",
       "  </tbody>\n",
       "</table>\n",
       "</div>"
      ],
      "text/plain": [
       "          A         B         C\n",
       "0 -0.438327 -0.047815  0.064130\n",
       "1 -0.797710 -0.939351  0.275244\n",
       "2 -0.470478 -0.668732 -0.665118\n",
       "3  0.032863  0.566876 -1.340106\n",
       "4  0.032863 -0.059476 -0.607494\n",
       "5  0.317693 -0.059476 -0.513537\n",
       "6  0.678947  0.571302 -0.513537\n",
       "7  0.059711  0.164630 -0.513537\n",
       "8  1.498166  0.632405 -0.092434\n",
       "9 -0.585100 -0.755124 -1.228983"
      ]
     },
     "execution_count": 27,
     "metadata": {},
     "output_type": "execute_result"
    }
   ],
   "source": [
    "dff.fillna(dff.mean())"
   ]
  },
  {
   "cell_type": "markdown",
   "id": "70ad6d79",
   "metadata": {
    "papermill": {
     "duration": 0.020994,
     "end_time": "2022-06-02T07:44:08.409849",
     "exception": false,
     "start_time": "2022-06-02T07:44:08.388855",
     "status": "completed"
    },
    "tags": []
   },
   "source": [
    "- Interpolation\n",
    "    - `interpolate()` : 대충 추세에 맞게(추세선 따라) 자연스러워보이게 채워줌"
   ]
  },
  {
   "cell_type": "code",
   "execution_count": 28,
   "id": "0793b662",
   "metadata": {
    "execution": {
     "iopub.execute_input": "2022-06-02T07:44:08.454768Z",
     "iopub.status.busy": "2022-06-02T07:44:08.454136Z",
     "iopub.status.idle": "2022-06-02T07:44:08.462946Z",
     "shell.execute_reply": "2022-06-02T07:44:08.462107Z"
    },
    "papermill": {
     "duration": 0.03343,
     "end_time": "2022-06-02T07:44:08.465031",
     "exception": false,
     "start_time": "2022-06-02T07:44:08.431601",
     "status": "completed"
    },
    "tags": []
   },
   "outputs": [
    {
     "data": {
      "text/plain": [
       "0      0.248540\n",
       "1      1.443072\n",
       "2      2.362076\n",
       "3      3.676805\n",
       "4      4.591448\n",
       "        ...    \n",
       "95    95.339949\n",
       "96    96.179210\n",
       "97    97.767744\n",
       "98    98.597869\n",
       "99    99.672657\n",
       "Name: data, Length: 100, dtype: float64"
      ]
     },
     "execution_count": 28,
     "metadata": {},
     "output_type": "execute_result"
    }
   ],
   "source": [
    "import pandas as pd\n",
    "import numpy as np\n",
    "import matplotlib.pyplot as plt\n",
    "\n",
    "ts = pd.Series(np.arange(100) + np.random.random(100), name=\"data\")\n",
    "ts"
   ]
  },
  {
   "cell_type": "code",
   "execution_count": 29,
   "id": "2d0c07a9",
   "metadata": {
    "execution": {
     "iopub.execute_input": "2022-06-02T07:44:08.512688Z",
     "iopub.status.busy": "2022-06-02T07:44:08.512031Z",
     "iopub.status.idle": "2022-06-02T07:44:08.693537Z",
     "shell.execute_reply": "2022-06-02T07:44:08.692305Z"
    },
    "papermill": {
     "duration": 0.208774,
     "end_time": "2022-06-02T07:44:08.695901",
     "exception": false,
     "start_time": "2022-06-02T07:44:08.487127",
     "status": "completed"
    },
    "tags": []
   },
   "outputs": [
    {
     "data": {
      "image/png": "[encoded data removed]",
      "text/plain": [
       "<Figure size 432x288 with 1 Axes>"
      ]
     },
     "metadata": {
      "needs_background": "light"
     },
     "output_type": "display_data"
    }
   ],
   "source": [
    "ts.iloc[10:20] = np.nan\n",
    "ts.plot()\n",
    "plt.show()"
   ]
  },
  {
   "cell_type": "code",
   "execution_count": 30,
   "id": "39d7397c",
   "metadata": {
    "execution": {
     "iopub.execute_input": "2022-06-02T07:44:08.742161Z",
     "iopub.status.busy": "2022-06-02T07:44:08.741540Z",
     "iopub.status.idle": "2022-06-02T07:44:08.928164Z",
     "shell.execute_reply": "2022-06-02T07:44:08.927145Z"
    },
    "papermill": {
     "duration": 0.213345,
     "end_time": "2022-06-02T07:44:08.930824",
     "exception": false,
     "start_time": "2022-06-02T07:44:08.717479",
     "status": "completed"
    },
    "tags": []
   },
   "outputs": [
    {
     "data": {
      "image/png": "[encoded data removed]",
      "text/plain": [
       "<Figure size 432x288 with 1 Axes>"
      ]
     },
     "metadata": {
      "needs_background": "light"
     },
     "output_type": "display_data"
    }
   ],
   "source": [
    "ts1 = ts.interpolate()\n",
    "ts1.plot()\n",
    "plt.show()"
   ]
  },
  {
   "cell_type": "markdown",
   "id": "aadb3c53",
   "metadata": {
    "papermill": {
     "duration": 0.022883,
     "end_time": "2022-06-02T07:44:08.977054",
     "exception": false,
     "start_time": "2022-06-02T07:44:08.954171",
     "status": "completed"
    },
    "tags": []
   },
   "source": [
    "## 기타 데이터 프로세싱\n",
    "---\n",
    "### 중복 제거\n",
    "- `duplicated()` : 중복 여부를 boolean으로 리턴\n",
    "- `drop_duplicates()` : 중복 data 삭제"
   ]
  },
  {
   "cell_type": "code",
   "execution_count": 31,
   "id": "f15a374f",
   "metadata": {
    "execution": {
     "iopub.execute_input": "2022-06-02T07:44:09.033263Z",
     "iopub.status.busy": "2022-06-02T07:44:09.032562Z",
     "iopub.status.idle": "2022-06-02T07:44:09.045217Z",
     "shell.execute_reply": "2022-06-02T07:44:09.044371Z"
    },
    "papermill": {
     "duration": 0.045128,
     "end_time": "2022-06-02T07:44:09.047359",
     "exception": false,
     "start_time": "2022-06-02T07:44:09.002231",
     "status": "completed"
    },
    "tags": []
   },
   "outputs": [
    {
     "data": {
      "text/html": [
       "<div>\n",
       "<style scoped>\n",
       "    .dataframe tbody tr th:only-of-type {\n",
       "        vertical-align: middle;\n",
       "    }\n",
       "\n",
       "    .dataframe tbody tr th {\n",
       "        vertical-align: top;\n",
       "    }\n",
       "\n",
       "    .dataframe thead th {\n",
       "        text-align: right;\n",
       "    }\n",
       "</style>\n",
       "<table border=\"1\" class=\"dataframe\">\n",
       "  <thead>\n",
       "    <tr style=\"text-align: right;\">\n",
       "      <th></th>\n",
       "      <th>c1</th>\n",
       "      <th>c2</th>\n",
       "    </tr>\n",
       "  </thead>\n",
       "  <tbody>\n",
       "    <tr>\n",
       "      <th>0</th>\n",
       "      <td>a</td>\n",
       "      <td>1</td>\n",
       "    </tr>\n",
       "    <tr>\n",
       "      <th>1</th>\n",
       "      <td>b</td>\n",
       "      <td>2</td>\n",
       "    </tr>\n",
       "    <tr>\n",
       "      <th>2</th>\n",
       "      <td>c</td>\n",
       "      <td>1</td>\n",
       "    </tr>\n",
       "    <tr>\n",
       "      <th>3</th>\n",
       "      <td>a</td>\n",
       "      <td>1</td>\n",
       "    </tr>\n",
       "    <tr>\n",
       "      <th>4</th>\n",
       "      <td>b</td>\n",
       "      <td>2</td>\n",
       "    </tr>\n",
       "    <tr>\n",
       "      <th>5</th>\n",
       "      <td>c</td>\n",
       "      <td>3</td>\n",
       "    </tr>\n",
       "    <tr>\n",
       "      <th>6</th>\n",
       "      <td>b</td>\n",
       "      <td>3</td>\n",
       "    </tr>\n",
       "    <tr>\n",
       "      <th>7</th>\n",
       "      <td>c</td>\n",
       "      <td>4</td>\n",
       "    </tr>\n",
       "  </tbody>\n",
       "</table>\n",
       "</div>"
      ],
      "text/plain": [
       "  c1  c2\n",
       "0  a   1\n",
       "1  b   2\n",
       "2  c   1\n",
       "3  a   1\n",
       "4  b   2\n",
       "5  c   3\n",
       "6  b   3\n",
       "7  c   4"
      ]
     },
     "execution_count": 31,
     "metadata": {},
     "output_type": "execute_result"
    }
   ],
   "source": [
    "import pandas as pd\n",
    "\n",
    "df = pd.DataFrame({'c1':['a','b','c'] * 2 + ['b'] + ['c'],\n",
    "                   'c2':[1, 2, 1, 1, 2, 3, 3, 4]})\n",
    "\n",
    "df"
   ]
  },
  {
   "cell_type": "code",
   "execution_count": 32,
   "id": "6afeee2a",
   "metadata": {
    "execution": {
     "iopub.execute_input": "2022-06-02T07:44:09.093803Z",
     "iopub.status.busy": "2022-06-02T07:44:09.092982Z",
     "iopub.status.idle": "2022-06-02T07:44:09.101288Z",
     "shell.execute_reply": "2022-06-02T07:44:09.100539Z"
    },
    "papermill": {
     "duration": 0.033545,
     "end_time": "2022-06-02T07:44:09.103290",
     "exception": false,
     "start_time": "2022-06-02T07:44:09.069745",
     "status": "completed"
    },
    "tags": []
   },
   "outputs": [
    {
     "data": {
      "text/plain": [
       "0    False\n",
       "1    False\n",
       "2    False\n",
       "3     True\n",
       "4     True\n",
       "5    False\n",
       "6    False\n",
       "7    False\n",
       "dtype: bool"
      ]
     },
     "execution_count": 32,
     "metadata": {},
     "output_type": "execute_result"
    }
   ],
   "source": [
    "df.duplicated()  # 중복 여부를 boolean으로 리턴"
   ]
  },
  {
   "cell_type": "code",
   "execution_count": 33,
   "id": "3f8637a9",
   "metadata": {
    "execution": {
     "iopub.execute_input": "2022-06-02T07:44:09.149022Z",
     "iopub.status.busy": "2022-06-02T07:44:09.148244Z",
     "iopub.status.idle": "2022-06-02T07:44:09.159852Z",
     "shell.execute_reply": "2022-06-02T07:44:09.158973Z"
    },
    "papermill": {
     "duration": 0.037151,
     "end_time": "2022-06-02T07:44:09.162000",
     "exception": false,
     "start_time": "2022-06-02T07:44:09.124849",
     "status": "completed"
    },
    "tags": []
   },
   "outputs": [
    {
     "data": {
      "text/html": [
       "<div>\n",
       "<style scoped>\n",
       "    .dataframe tbody tr th:only-of-type {\n",
       "        vertical-align: middle;\n",
       "    }\n",
       "\n",
       "    .dataframe tbody tr th {\n",
       "        vertical-align: top;\n",
       "    }\n",
       "\n",
       "    .dataframe thead th {\n",
       "        text-align: right;\n",
       "    }\n",
       "</style>\n",
       "<table border=\"1\" class=\"dataframe\">\n",
       "  <thead>\n",
       "    <tr style=\"text-align: right;\">\n",
       "      <th></th>\n",
       "      <th>c1</th>\n",
       "      <th>c2</th>\n",
       "    </tr>\n",
       "  </thead>\n",
       "  <tbody>\n",
       "    <tr>\n",
       "      <th>0</th>\n",
       "      <td>a</td>\n",
       "      <td>1</td>\n",
       "    </tr>\n",
       "    <tr>\n",
       "      <th>1</th>\n",
       "      <td>b</td>\n",
       "      <td>2</td>\n",
       "    </tr>\n",
       "    <tr>\n",
       "      <th>2</th>\n",
       "      <td>c</td>\n",
       "      <td>1</td>\n",
       "    </tr>\n",
       "    <tr>\n",
       "      <th>5</th>\n",
       "      <td>c</td>\n",
       "      <td>3</td>\n",
       "    </tr>\n",
       "    <tr>\n",
       "      <th>6</th>\n",
       "      <td>b</td>\n",
       "      <td>3</td>\n",
       "    </tr>\n",
       "    <tr>\n",
       "      <th>7</th>\n",
       "      <td>c</td>\n",
       "      <td>4</td>\n",
       "    </tr>\n",
       "  </tbody>\n",
       "</table>\n",
       "</div>"
      ],
      "text/plain": [
       "  c1  c2\n",
       "0  a   1\n",
       "1  b   2\n",
       "2  c   1\n",
       "5  c   3\n",
       "6  b   3\n",
       "7  c   4"
      ]
     },
     "execution_count": 33,
     "metadata": {},
     "output_type": "execute_result"
    }
   ],
   "source": [
    "df.drop_duplicates()  # 중복 data 삭제"
   ]
  },
  {
   "cell_type": "markdown",
   "id": "2e035c5c",
   "metadata": {
    "papermill": {
     "duration": 0.02205,
     "end_time": "2022-06-02T07:44:09.206785",
     "exception": false,
     "start_time": "2022-06-02T07:44:09.184735",
     "status": "completed"
    },
    "tags": []
   },
   "source": [
    "### 값 치환\n",
    "- `replace()` : 특정 data의 값을 대체함"
   ]
  },
  {
   "cell_type": "code",
   "execution_count": 34,
   "id": "3aeb9333",
   "metadata": {
    "execution": {
     "iopub.execute_input": "2022-06-02T07:44:09.253561Z",
     "iopub.status.busy": "2022-06-02T07:44:09.252738Z",
     "iopub.status.idle": "2022-06-02T07:44:09.262108Z",
     "shell.execute_reply": "2022-06-02T07:44:09.261086Z"
    },
    "papermill": {
     "duration": 0.035796,
     "end_time": "2022-06-02T07:44:09.264801",
     "exception": false,
     "start_time": "2022-06-02T07:44:09.229005",
     "status": "completed"
    },
    "tags": []
   },
   "outputs": [
    {
     "data": {
      "text/plain": [
       "0       1\n",
       "1       2\n",
       "2    -999\n",
       "3       4\n",
       "4       5\n",
       "5    1000\n",
       "dtype: int64"
      ]
     },
     "execution_count": 34,
     "metadata": {},
     "output_type": "execute_result"
    }
   ],
   "source": [
    "import pandas as pd\n",
    "import numpy as np\n",
    "\n",
    "s = pd.Series([1, 2, -999, 4, 5, 1000])\n",
    "\n",
    "s"
   ]
  },
  {
   "cell_type": "code",
   "execution_count": 35,
   "id": "581c61ba",
   "metadata": {
    "execution": {
     "iopub.execute_input": "2022-06-02T07:44:09.312411Z",
     "iopub.status.busy": "2022-06-02T07:44:09.311344Z",
     "iopub.status.idle": "2022-06-02T07:44:09.320301Z",
     "shell.execute_reply": "2022-06-02T07:44:09.319410Z"
    },
    "papermill": {
     "duration": 0.034563,
     "end_time": "2022-06-02T07:44:09.322296",
     "exception": false,
     "start_time": "2022-06-02T07:44:09.287733",
     "status": "completed"
    },
    "tags": []
   },
   "outputs": [
    {
     "data": {
      "text/plain": [
       "0       1.0\n",
       "1       2.0\n",
       "2       NaN\n",
       "3       4.0\n",
       "4       5.0\n",
       "5    1000.0\n",
       "dtype: float64"
      ]
     },
     "execution_count": 35,
     "metadata": {},
     "output_type": "execute_result"
    }
   ],
   "source": [
    "s.replace(-999, np.nan)"
   ]
  },
  {
   "cell_type": "code",
   "execution_count": 36,
   "id": "d6acabd9",
   "metadata": {
    "execution": {
     "iopub.execute_input": "2022-06-02T07:44:09.369611Z",
     "iopub.status.busy": "2022-06-02T07:44:09.368887Z",
     "iopub.status.idle": "2022-06-02T07:44:09.377494Z",
     "shell.execute_reply": "2022-06-02T07:44:09.376523Z"
    },
    "papermill": {
     "duration": 0.03487,
     "end_time": "2022-06-02T07:44:09.379582",
     "exception": false,
     "start_time": "2022-06-02T07:44:09.344712",
     "status": "completed"
    },
    "tags": []
   },
   "outputs": [
    {
     "data": {
      "text/plain": [
       "0    1.0\n",
       "1    2.0\n",
       "2    NaN\n",
       "3    4.0\n",
       "4    5.0\n",
       "5    NaN\n",
       "dtype: float64"
      ]
     },
     "execution_count": 36,
     "metadata": {},
     "output_type": "execute_result"
    }
   ],
   "source": [
    "s.replace([-999, 1000], np.nan)"
   ]
  },
  {
   "cell_type": "code",
   "execution_count": 37,
   "id": "be887692",
   "metadata": {
    "execution": {
     "iopub.execute_input": "2022-06-02T07:44:09.426624Z",
     "iopub.status.busy": "2022-06-02T07:44:09.425909Z",
     "iopub.status.idle": "2022-06-02T07:44:09.435169Z",
     "shell.execute_reply": "2022-06-02T07:44:09.434181Z"
    },
    "papermill": {
     "duration": 0.035218,
     "end_time": "2022-06-02T07:44:09.437269",
     "exception": false,
     "start_time": "2022-06-02T07:44:09.402051",
     "status": "completed"
    },
    "tags": []
   },
   "outputs": [
    {
     "data": {
      "text/plain": [
       "0    1.0\n",
       "1    2.0\n",
       "2    NaN\n",
       "3    4.0\n",
       "4    5.0\n",
       "5    0.0\n",
       "dtype: float64"
      ]
     },
     "execution_count": 37,
     "metadata": {},
     "output_type": "execute_result"
    }
   ],
   "source": [
    "s.replace([-999, 1000], [np.nan, 0])"
   ]
  },
  {
   "cell_type": "markdown",
   "id": "2373fc8c",
   "metadata": {
    "papermill": {
     "duration": 0.02566,
     "end_time": "2022-06-02T07:44:09.485481",
     "exception": false,
     "start_time": "2022-06-02T07:44:09.459821",
     "status": "completed"
    },
    "tags": []
   },
   "source": [
    "## Multi indexing\n",
    "---\n",
    "- 고차원의 데이터 처리\n",
    "- **단일 인덱스 내에서 여러 인덱스 포함하는 다중 인덱싱**\n",
    "- Multi indexing 내 slicing\n",
    "- `unstack()` : 다중 인덱싱 해제 -> 두 인덱스가 행과 열 속성으로 분리됨\n",
    "- `stack()` : 다중 인덱싱 생성 -> 행과 열 속성으로 분리되어 있던 인덱스가 모두 행 속성으로 합쳐짐. 원래 행 속성이었던 인덱스가 큰 인덱스가 되고 열 속성이었던 인덱스가 작은 인덱스가 됨"
   ]
  },
  {
   "cell_type": "code",
   "execution_count": 38,
   "id": "e49a4313",
   "metadata": {
    "execution": {
     "iopub.execute_input": "2022-06-02T07:44:09.562412Z",
     "iopub.status.busy": "2022-06-02T07:44:09.562009Z",
     "iopub.status.idle": "2022-06-02T07:44:09.569640Z",
     "shell.execute_reply": "2022-06-02T07:44:09.568821Z"
    },
    "papermill": {
     "duration": 0.034547,
     "end_time": "2022-06-02T07:44:09.571560",
     "exception": false,
     "start_time": "2022-06-02T07:44:09.537013",
     "status": "completed"
    },
    "tags": []
   },
   "outputs": [
    {
     "data": {
      "text/plain": [
       "[('Seoul', 2010),\n",
       " ('Seoul', 2020),\n",
       " ('Busan', 2010),\n",
       " ('Busan', 2020),\n",
       " ('Incheon', 2010),\n",
       " ('Incheon', 2020)]"
      ]
     },
     "execution_count": 38,
     "metadata": {},
     "output_type": "execute_result"
    }
   ],
   "source": [
    "import pandas as pd\n",
    "\n",
    "idx_tuples = [('Seoul', 2010), ('Seoul', 2020), ('Busan', 2010), ('Busan', 2020), ('Incheon', 2010),('Incheon',2020)]\n",
    "idx_tuples"
   ]
  },
  {
   "cell_type": "code",
   "execution_count": 39,
   "id": "62a5cdee",
   "metadata": {
    "execution": {
     "iopub.execute_input": "2022-06-02T07:44:09.620962Z",
     "iopub.status.busy": "2022-06-02T07:44:09.619770Z",
     "iopub.status.idle": "2022-06-02T07:44:09.631696Z",
     "shell.execute_reply": "2022-06-02T07:44:09.630697Z"
    },
    "papermill": {
     "duration": 0.038991,
     "end_time": "2022-06-02T07:44:09.634032",
     "exception": false,
     "start_time": "2022-06-02T07:44:09.595041",
     "status": "completed"
    },
    "tags": []
   },
   "outputs": [
    {
     "data": {
      "text/plain": [
       "(Seoul, 2010)      10312314\n",
       "(Seoul, 2020)       9710381\n",
       "(Busan, 2010)       2596820\n",
       "(Busan, 2020)       3410920\n",
       "(Incheon, 2010)     2748192\n",
       "(Incheon, 2020)     2918031\n",
       "dtype: int64"
      ]
     },
     "execution_count": 39,
     "metadata": {},
     "output_type": "execute_result"
    }
   ],
   "source": [
    "pop_tuples = [10312314, 9710381, 2596820, 3410920, 2748192, 2918031]\n",
    "population = pd.Series(pop_tuples, index=idx_tuples)\n",
    "population"
   ]
  },
  {
   "cell_type": "code",
   "execution_count": 40,
   "id": "fa432532",
   "metadata": {
    "execution": {
     "iopub.execute_input": "2022-06-02T07:44:09.683597Z",
     "iopub.status.busy": "2022-06-02T07:44:09.683193Z",
     "iopub.status.idle": "2022-06-02T07:44:09.694075Z",
     "shell.execute_reply": "2022-06-02T07:44:09.693181Z"
    },
    "papermill": {
     "duration": 0.03884,
     "end_time": "2022-06-02T07:44:09.695825",
     "exception": false,
     "start_time": "2022-06-02T07:44:09.656985",
     "status": "completed"
    },
    "tags": []
   },
   "outputs": [
    {
     "data": {
      "text/plain": [
       "Seoul    2010    10312314\n",
       "         2020     9710381\n",
       "Busan    2010     2596820\n",
       "         2020     3410920\n",
       "Incheon  2010     2748192\n",
       "         2020     2918031\n",
       "dtype: int64"
      ]
     },
     "execution_count": 40,
     "metadata": {},
     "output_type": "execute_result"
    }
   ],
   "source": [
    "midx = pd.MultiIndex.from_tuples(idx_tuples)\n",
    "population = population.reindex(midx)\n",
    "population"
   ]
  },
  {
   "cell_type": "code",
   "execution_count": 41,
   "id": "7076fc00",
   "metadata": {
    "execution": {
     "iopub.execute_input": "2022-06-02T07:44:09.745616Z",
     "iopub.status.busy": "2022-06-02T07:44:09.744032Z",
     "iopub.status.idle": "2022-06-02T07:44:09.754220Z",
     "shell.execute_reply": "2022-06-02T07:44:09.752882Z"
    },
    "papermill": {
     "duration": 0.037477,
     "end_time": "2022-06-02T07:44:09.756506",
     "exception": false,
     "start_time": "2022-06-02T07:44:09.719029",
     "status": "completed"
    },
    "tags": []
   },
   "outputs": [
    {
     "data": {
      "text/plain": [
       "Seoul      10312314\n",
       "Busan       2596820\n",
       "Incheon     2748192\n",
       "dtype: int64"
      ]
     },
     "execution_count": 41,
     "metadata": {},
     "output_type": "execute_result"
    }
   ],
   "source": [
    "population[:,2010]"
   ]
  },
  {
   "cell_type": "code",
   "execution_count": 42,
   "id": "c01f66ed",
   "metadata": {
    "execution": {
     "iopub.execute_input": "2022-06-02T07:44:09.806677Z",
     "iopub.status.busy": "2022-06-02T07:44:09.806081Z",
     "iopub.status.idle": "2022-06-02T07:44:09.814734Z",
     "shell.execute_reply": "2022-06-02T07:44:09.813941Z"
    },
    "papermill": {
     "duration": 0.036171,
     "end_time": "2022-06-02T07:44:09.816516",
     "exception": false,
     "start_time": "2022-06-02T07:44:09.780345",
     "status": "completed"
    },
    "tags": []
   },
   "outputs": [
    {
     "data": {
      "text/plain": [
       "2010    10312314\n",
       "2020     9710381\n",
       "dtype: int64"
      ]
     },
     "execution_count": 42,
     "metadata": {},
     "output_type": "execute_result"
    }
   ],
   "source": [
    "population['Seoul',:]"
   ]
  },
  {
   "cell_type": "code",
   "execution_count": 43,
   "id": "8e990f1d",
   "metadata": {
    "execution": {
     "iopub.execute_input": "2022-06-02T07:44:09.869235Z",
     "iopub.status.busy": "2022-06-02T07:44:09.867441Z",
     "iopub.status.idle": "2022-06-02T07:44:09.882692Z",
     "shell.execute_reply": "2022-06-02T07:44:09.881213Z"
    },
    "papermill": {
     "duration": 0.044867,
     "end_time": "2022-06-02T07:44:09.885589",
     "exception": false,
     "start_time": "2022-06-02T07:44:09.840722",
     "status": "completed"
    },
    "tags": []
   },
   "outputs": [
    {
     "data": {
      "text/html": [
       "<div>\n",
       "<style scoped>\n",
       "    .dataframe tbody tr th:only-of-type {\n",
       "        vertical-align: middle;\n",
       "    }\n",
       "\n",
       "    .dataframe tbody tr th {\n",
       "        vertical-align: top;\n",
       "    }\n",
       "\n",
       "    .dataframe thead th {\n",
       "        text-align: right;\n",
       "    }\n",
       "</style>\n",
       "<table border=\"1\" class=\"dataframe\">\n",
       "  <thead>\n",
       "    <tr style=\"text-align: right;\">\n",
       "      <th></th>\n",
       "      <th>2010</th>\n",
       "      <th>2020</th>\n",
       "    </tr>\n",
       "  </thead>\n",
       "  <tbody>\n",
       "    <tr>\n",
       "      <th>Busan</th>\n",
       "      <td>2596820</td>\n",
       "      <td>3410920</td>\n",
       "    </tr>\n",
       "    <tr>\n",
       "      <th>Incheon</th>\n",
       "      <td>2748192</td>\n",
       "      <td>2918031</td>\n",
       "    </tr>\n",
       "    <tr>\n",
       "      <th>Seoul</th>\n",
       "      <td>10312314</td>\n",
       "      <td>9710381</td>\n",
       "    </tr>\n",
       "  </tbody>\n",
       "</table>\n",
       "</div>"
      ],
      "text/plain": [
       "             2010     2020\n",
       "Busan     2596820  3410920\n",
       "Incheon   2748192  2918031\n",
       "Seoul    10312314  9710381"
      ]
     },
     "execution_count": 43,
     "metadata": {},
     "output_type": "execute_result"
    }
   ],
   "source": [
    "population_mod = population.unstack()\n",
    "population_mod"
   ]
  },
  {
   "cell_type": "code",
   "execution_count": 44,
   "id": "3ee4fc95",
   "metadata": {
    "execution": {
     "iopub.execute_input": "2022-06-02T07:44:09.938813Z",
     "iopub.status.busy": "2022-06-02T07:44:09.938346Z",
     "iopub.status.idle": "2022-06-02T07:44:09.947154Z",
     "shell.execute_reply": "2022-06-02T07:44:09.946333Z"
    },
    "papermill": {
     "duration": 0.03777,
     "end_time": "2022-06-02T07:44:09.949207",
     "exception": false,
     "start_time": "2022-06-02T07:44:09.911437",
     "status": "completed"
    },
    "tags": []
   },
   "outputs": [
    {
     "data": {
      "text/plain": [
       "Busan    2010     2596820\n",
       "         2020     3410920\n",
       "Incheon  2010     2748192\n",
       "         2020     2918031\n",
       "Seoul    2010    10312314\n",
       "         2020     9710381\n",
       "dtype: int64"
      ]
     },
     "execution_count": 44,
     "metadata": {},
     "output_type": "execute_result"
    }
   ],
   "source": [
    "population_mod.stack()"
   ]
  }
 ],
 "metadata": {
  "kernelspec": {
   "display_name": "Python 3",
   "language": "python",
   "name": "python3"
  },
  "language_info": {
   "codemirror_mode": {
    "name": "ipython",
    "version": 3
   },
   "file_extension": ".py",
   "mimetype": "text/x-python",
   "name": "python",
   "nbconvert_exporter": "python",
   "pygments_lexer": "ipython3",
   "version": "3.7.12"
  },
  "papermill": {
   "default_parameters": {},
   "duration": 17.869217,
   "end_time": "2022-06-02T07:44:10.799497",
   "environment_variables": {},
   "exception": null,
   "input_path": "__notebook__.ipynb",
   "output_path": "__notebook__.ipynb",
   "parameters": {},
   "start_time": "2022-06-02T07:43:52.930280",
   "version": "2.3.4"
  }
 },
 "nbformat": 4,
 "nbformat_minor": 5
}
