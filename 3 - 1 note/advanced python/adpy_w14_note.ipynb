{
 "cells": [
  {
   "cell_type": "markdown",
   "id": "08a3aa31",
   "metadata": {
    "papermill": {
     "duration": 0.005946,
     "end_time": "2022-06-03T03:31:29.636557",
     "exception": false,
     "start_time": "2022-06-03T03:31:29.630611",
     "status": "completed"
    },
    "tags": []
   },
   "source": [
    "---\n",
    "## Scipy\n",
    "---\n",
    "- 수학, 과학, 공학 분야에 쓰이는 계산용 함수를 모아놓은 파이썬 패키지\n",
    "- 고성능 선형대수, 함수 최적화, 신호처리, 특수한 수학 함수와 통계 분포 등을 포함한 많은 기능을 제공   "
   ]
  },
  {
   "cell_type": "markdown",
   "id": "f047ddda",
   "metadata": {
    "papermill": {
     "duration": 0.00427,
     "end_time": "2022-06-03T03:31:29.650235",
     "exception": false,
     "start_time": "2022-06-03T03:31:29.645965",
     "status": "completed"
    },
    "tags": []
   },
   "source": [
    "---\n",
    "## Scipy.constants\n",
    "- 다양한 종류의 수학 및 과학과 관련된 상수 제공\n",
    "- https://docs.scipy.org/doc/scipy/reference/constants.html"
   ]
  },
  {
   "cell_type": "code",
   "execution_count": 1,
   "id": "eb0d0013",
   "metadata": {
    "execution": {
     "iopub.execute_input": "2022-06-03T03:31:29.661569Z",
     "iopub.status.busy": "2022-06-03T03:31:29.660881Z",
     "iopub.status.idle": "2022-06-03T03:31:29.706429Z",
     "shell.execute_reply": "2022-06-03T03:31:29.705764Z"
    },
    "papermill": {
     "duration": 0.05451,
     "end_time": "2022-06-03T03:31:29.709337",
     "exception": false,
     "start_time": "2022-06-03T03:31:29.654827",
     "status": "completed"
    },
    "tags": []
   },
   "outputs": [
    {
     "name": "stdout",
     "output_type": "stream",
     "text": [
      "3.141592653589793\n",
      "\n",
      "299792458.0\n",
      "\n",
      "9.1093837015e-31\n"
     ]
    }
   ],
   "source": [
    "import scipy as sp\n",
    "import scipy.constants\n",
    "\n",
    "print(sp.pi, end=\"\\n\\n\")  # 원주율\n",
    "print(scipy.constants.c, end=\"\\n\\n\")  # 빛의 속도\n",
    "print(scipy.constants.m_e)  # 전자의 질량"
   ]
  },
  {
   "cell_type": "markdown",
   "id": "e91b2192",
   "metadata": {
    "papermill": {
     "duration": 0.004466,
     "end_time": "2022-06-03T03:31:29.719464",
     "exception": false,
     "start_time": "2022-06-03T03:31:29.714998",
     "status": "completed"
    },
    "tags": []
   },
   "source": [
    "---\n",
    "## Scipy.special\n",
    "- 특수 수학 함수 제공\n",
    "- https://docs.scipy.org/doc/scipy/reference/special.html"
   ]
  },
  {
   "cell_type": "code",
   "execution_count": 2,
   "id": "11f3959b",
   "metadata": {
    "execution": {
     "iopub.execute_input": "2022-06-03T03:31:29.730995Z",
     "iopub.status.busy": "2022-06-03T03:31:29.730317Z",
     "iopub.status.idle": "2022-06-03T03:31:30.166579Z",
     "shell.execute_reply": "2022-06-03T03:31:30.165747Z"
    },
    "papermill": {
     "duration": 0.444962,
     "end_time": "2022-06-03T03:31:30.169093",
     "exception": false,
     "start_time": "2022-06-03T03:31:29.724131",
     "status": "completed"
    },
    "tags": []
   },
   "outputs": [
    {
     "data": {
      "image/png": "[encoded data removed]",
      "text/plain": [
       "<Figure size 432x288 with 1 Axes>"
      ]
     },
     "metadata": {
      "needs_background": "light"
     },
     "output_type": "display_data"
    }
   ],
   "source": [
    "import matplotlib.pyplot as plt\n",
    "from scipy.special import expit\n",
    "import numpy as np\n",
    "\n",
    "x = np.linspace(-10, 10, 1000)\n",
    "y = expit(x)\n",
    "\n",
    "plt.plot(x, y)\n",
    "plt.title(\"logistic sigmoid function\")\n",
    "plt.grid()\n",
    "plt.xlabel('x')\n",
    "plt.show()"
   ]
  },
  {
   "cell_type": "markdown",
   "id": "8634353b",
   "metadata": {
    "papermill": {
     "duration": 0.005008,
     "end_time": "2022-06-03T03:31:30.179578",
     "exception": false,
     "start_time": "2022-06-03T03:31:30.174570",
     "status": "completed"
    },
    "tags": []
   },
   "source": [
    "---\n",
    "## Scipy.integrate\n",
    "- 적분 기능 제공\n",
    "- https://docs.scipy.org/doc/scipy/reference/integrate.html"
   ]
  },
  {
   "cell_type": "code",
   "execution_count": 3,
   "id": "20ff2ec4",
   "metadata": {
    "execution": {
     "iopub.execute_input": "2022-06-03T03:31:30.192116Z",
     "iopub.status.busy": "2022-06-03T03:31:30.191650Z",
     "iopub.status.idle": "2022-06-03T03:31:30.490760Z",
     "shell.execute_reply": "2022-06-03T03:31:30.489973Z"
    },
    "papermill": {
     "duration": 0.308438,
     "end_time": "2022-06-03T03:31:30.493305",
     "exception": false,
     "start_time": "2022-06-03T03:31:30.184867",
     "status": "completed"
    },
    "tags": []
   },
   "outputs": [
    {
     "name": "stdout",
     "output_type": "stream",
     "text": [
      "(41.66666666666666, 4.625929269271485e-13)\n"
     ]
    }
   ],
   "source": [
    "import scipy.integrate\n",
    "\n",
    "func = lambda x: x ** 2\n",
    "integ_val = scipy.integrate.quad(func, 0, 5)\n",
    "print(integ_val)"
   ]
  },
  {
   "cell_type": "markdown",
   "id": "8d1dab2c",
   "metadata": {
    "papermill": {
     "duration": 0.005231,
     "end_time": "2022-06-03T03:31:30.504519",
     "exception": false,
     "start_time": "2022-06-03T03:31:30.499288",
     "status": "completed"
    },
    "tags": []
   },
   "source": [
    "---\n",
    "## Scipy.linalg\n",
    "- 선형대수 연산 제공\n",
    "- https://docs.scipy.org/doc/scipy/reference/linalg.html"
   ]
  },
  {
   "cell_type": "code",
   "execution_count": 4,
   "id": "74024b1e",
   "metadata": {
    "execution": {
     "iopub.execute_input": "2022-06-03T03:31:30.517126Z",
     "iopub.status.busy": "2022-06-03T03:31:30.516385Z",
     "iopub.status.idle": "2022-06-03T03:31:30.531643Z",
     "shell.execute_reply": "2022-06-03T03:31:30.530644Z"
    },
    "papermill": {
     "duration": 0.023926,
     "end_time": "2022-06-03T03:31:30.534009",
     "exception": false,
     "start_time": "2022-06-03T03:31:30.510083",
     "status": "completed"
    },
    "tags": []
   },
   "outputs": [
    {
     "name": "stdout",
     "output_type": "stream",
     "text": [
      "-2.0\n",
      "\n"
     ]
    },
    {
     "data": {
      "text/plain": [
       "array([[-3. ,  2. ],\n",
       "       [ 2.5, -1.5]])"
      ]
     },
     "execution_count": 4,
     "metadata": {},
     "output_type": "execute_result"
    }
   ],
   "source": [
    "import numpy as np\n",
    "from scipy import linalg\n",
    "\n",
    "array1 = np.array([[3, 4], [5, 6]])\n",
    "print(linalg.det(array1), end=\"\\n\\n\")\n",
    "\n",
    "iarray = linalg.inv(array1)\n",
    "iarray"
   ]
  },
  {
   "cell_type": "markdown",
   "id": "5f8b9f57",
   "metadata": {
    "papermill": {
     "duration": 0.005284,
     "end_time": "2022-06-03T03:31:30.545232",
     "exception": false,
     "start_time": "2022-06-03T03:31:30.539948",
     "status": "completed"
    },
    "tags": []
   },
   "source": [
    "---\n",
    "## Scipy.interpolate\n",
    "- 내삽 기능 제공\n",
    "- https://docs.scipy.org/doc/scipy/reference/interpolate.html"
   ]
  },
  {
   "cell_type": "code",
   "execution_count": 5,
   "id": "7a39b8e7",
   "metadata": {
    "execution": {
     "iopub.execute_input": "2022-06-03T03:31:30.554687Z",
     "iopub.status.busy": "2022-06-03T03:31:30.554118Z",
     "iopub.status.idle": "2022-06-03T03:31:30.731338Z",
     "shell.execute_reply": "2022-06-03T03:31:30.730645Z"
    },
    "papermill": {
     "duration": 0.18379,
     "end_time": "2022-06-03T03:31:30.733104",
     "exception": false,
     "start_time": "2022-06-03T03:31:30.549314",
     "status": "completed"
    },
    "tags": []
   },
   "outputs": [
    {
     "data": {
      "image/png": "[encoded data removed]",
      "text/plain": [
       "<Figure size 432x288 with 1 Axes>"
      ]
     },
     "metadata": {
      "needs_background": "light"
     },
     "output_type": "display_data"
    }
   ],
   "source": [
    "import matplotlib.pyplot as plt\n",
    "import numpy as np\n",
    "from scipy import interpolate\n",
    "\n",
    "x = np.arange(0, 10)\n",
    "y = np.exp(-x / 3.0)\n",
    "f = interpolate.interp1d(x, y)\n",
    "# f = interpolate.interp1d(x, y, kind='cubic')\n",
    "xnew = np.arange(0, 9, 0.1)\n",
    "ynew = f(xnew)  # use interpolation function returned by `interp1d`\n",
    "\n",
    "plt.plot(x, y, 'o', xnew, ynew, '-')\n",
    "plt.show()"
   ]
  },
  {
   "cell_type": "markdown",
   "id": "91166c46",
   "metadata": {
    "papermill": {
     "duration": 0.004505,
     "end_time": "2022-06-03T03:31:30.742486",
     "exception": false,
     "start_time": "2022-06-03T03:31:30.737981",
     "status": "completed"
    },
    "tags": []
   },
   "source": [
    "---\n",
    "## Scipy.stats\n",
    "- 확률 분포, 통계 등의 기능 제공\n",
    "- https://docs.scipy.org/doc/scipy/reference/stats.html"
   ]
  },
  {
   "cell_type": "code",
   "execution_count": 6,
   "id": "5df72b87",
   "metadata": {
    "execution": {
     "iopub.execute_input": "2022-06-03T03:31:30.753962Z",
     "iopub.status.busy": "2022-06-03T03:31:30.753097Z",
     "iopub.status.idle": "2022-06-03T03:31:31.222450Z",
     "shell.execute_reply": "2022-06-03T03:31:31.221622Z"
    },
    "papermill": {
     "duration": 0.477305,
     "end_time": "2022-06-03T03:31:31.224523",
     "exception": false,
     "start_time": "2022-06-03T03:31:30.747218",
     "status": "completed"
    },
    "tags": []
   },
   "outputs": [
    {
     "name": "stdout",
     "output_type": "stream",
     "text": [
      "weght = 0.717 \tbias = 2.417\n",
      "\n"
     ]
    },
    {
     "data": {
      "image/png": "[encoded data removed]",
      "text/plain": [
       "<Figure size 432x288 with 1 Axes>"
      ]
     },
     "metadata": {
      "needs_background": "light"
     },
     "output_type": "display_data"
    }
   ],
   "source": [
    "from scipy import stats\n",
    "import matplotlib.pyplot as plt\n",
    "\n",
    "def myfunc(x):\n",
    "    return weight * x + bias\n",
    "\n",
    "x = [1, 2, 3, 4, 5, 6, 7, 8, 9]\n",
    "y = [2, 4, 5, 6, 5, 8, 9, 7, 8]\n",
    "weight, bias, r_value, p_value, std_err = stats.linregress(x, y)\n",
    "mymodel = list(map(myfunc, x))\n",
    "print(\"weght =\",round(weight, 3),\"\\tbias =\",round(bias, 3), end=\"\\n\\n\")\n",
    "\n",
    "plt.grid()\n",
    "plt.xlabel('x')\n",
    "plt.plot(x, y, 'o')\n",
    "plt.plot(x, mymodel)\n",
    "plt.show()"
   ]
  },
  {
   "cell_type": "markdown",
   "id": "ccab3a2a",
   "metadata": {
    "papermill": {
     "duration": 0.006013,
     "end_time": "2022-06-03T03:31:31.237107",
     "exception": false,
     "start_time": "2022-06-03T03:31:31.231094",
     "status": "completed"
    },
    "tags": []
   },
   "source": [
    "---\n",
    "## Scipy.signal\n",
    "- Convolution, Spline, Filtering, Spectral analysis 등의 기능 제공\n",
    "- https://docs.scipy.org/doc/scipy/reference/signal.html"
   ]
  },
  {
   "cell_type": "code",
   "execution_count": 7,
   "id": "c3514ded",
   "metadata": {
    "execution": {
     "iopub.execute_input": "2022-06-03T03:31:31.253266Z",
     "iopub.status.busy": "2022-06-03T03:31:31.251167Z",
     "iopub.status.idle": "2022-06-03T03:31:32.015995Z",
     "shell.execute_reply": "2022-06-03T03:31:32.014779Z"
    },
    "papermill": {
     "duration": 0.775124,
     "end_time": "2022-06-03T03:31:32.018494",
     "exception": false,
     "start_time": "2022-06-03T03:31:31.243370",
     "status": "completed"
    },
    "tags": []
   },
   "outputs": [
    {
     "data": {
      "image/png": "[encoded data removed]",
      "text/plain": [
       "<Figure size 432x288 with 2 Axes>"
      ]
     },
     "metadata": {
      "needs_background": "light"
     },
     "output_type": "display_data"
    }
   ],
   "source": [
    "from scipy import signal\n",
    "import matplotlib.pyplot as plt\n",
    "\n",
    "s1 = signal.lti([10], [0.001, 1])  # H(s) = (10000)/(s+1000)\n",
    "w, mag, phase = signal.bode(s1)\n",
    "\n",
    "plt.subplot(2, 1, 1)\n",
    "plt.semilogx(w, mag)  # Bode magnitude plot\n",
    "plt.xlabel('frequency [rad/s]')\n",
    "plt.ylabel('Magnitude[dB]')\n",
    "plt.grid()\n",
    "plt.title('Bode plot')\n",
    "\n",
    "plt.subplot(2, 1, 2)\n",
    "plt.semilogx(w, phase)  # Bode phase plot\n",
    "plt.xlabel('frequency[rad/s]')\n",
    "plt.ylabel('Phase [deg]')\n",
    "plt.grid()\n",
    "plt.show()"
   ]
  }
 ],
 "metadata": {
  "kernelspec": {
   "display_name": "Python 3",
   "language": "python",
   "name": "python3"
  },
  "language_info": {
   "codemirror_mode": {
    "name": "ipython",
    "version": 3
   },
   "file_extension": ".py",
   "mimetype": "text/x-python",
   "name": "python",
   "nbconvert_exporter": "python",
   "pygments_lexer": "ipython3",
   "version": "3.7.12"
  },
  "papermill": {
   "default_parameters": {},
   "duration": 11.569016,
   "end_time": "2022-06-03T03:31:32.948298",
   "environment_variables": {},
   "exception": null,
   "input_path": "__notebook__.ipynb",
   "output_path": "__notebook__.ipynb",
   "parameters": {},
   "start_time": "2022-06-03T03:31:21.379282",
   "version": "2.3.4"
  }
 },
 "nbformat": 4,
 "nbformat_minor": 5
}
